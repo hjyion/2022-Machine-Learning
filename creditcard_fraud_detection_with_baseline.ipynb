{
  "cells": [
    {
      "cell_type": "code",
      "execution_count": 2,
      "metadata": {
        "colab": {
          "base_uri": "https://localhost:8080/"
        },
        "id": "EKSmGK8X5d_X",
        "outputId": "5ddfc085-b55b-4574-f2e2-4771094998bd"
      },
      "outputs": [
        {
          "name": "stdout",
          "output_type": "stream",
          "text": [
            "Drive already mounted at /content/drive; to attempt to forcibly remount, call drive.mount(\"/content/drive\", force_remount=True).\n"
          ]
        }
      ],
      "source": [
        "from google.colab import drive\n",
        "import pandas as pd\n",
        "drive.mount('/content/drive')\n",
        "data = pd.read_csv('/content/drive/MyDrive/creditcard.csv')"
      ]
    },
    {
      "cell_type": "code",
      "execution_count": 3,
      "metadata": {
        "id": "YwDUTa_y9Wga"
      },
      "outputs": [],
      "source": [
        "import matplotlib.pyplot as plt\n",
        "import seaborn as sns\n",
        "import numpy as np"
      ]
    },
    {
      "cell_type": "code",
      "execution_count": 4,
      "metadata": {
        "id": "X7Qt8Ebf9aYq"
      },
      "outputs": [],
      "source": [
        "from sklearn.model_selection import train_test_split\n",
        "x = data.drop(columns='Class', axis=1)\n",
        "y = data['Class']\n",
        "train_x, test_x, train_y, test_y = train_test_split(x, y, test_size=0.25, stratify=y, shuffle=True, random_state=10)"
      ]
    },
    {
      "cell_type": "code",
      "execution_count": 108,
      "metadata": {
        "id": "5QLM4iHfE0Jq"
      },
      "outputs": [],
      "source": [
        "from sklearn.metrics import confusion_matrix, classification_report, roc_curve, roc_auc_score, recall_score, precision_score ,average_precision_score, plot_precision_recall_curve, f1_score"
      ]
    },
    {
      "cell_type": "markdown",
      "metadata": {
        "id": "EE_Ae8_Wb-24"
      },
      "source": [
        "실험 시나리오 1 - xgboost"
      ]
    },
    {
      "cell_type": "code",
      "execution_count": 6,
      "metadata": {
        "colab": {
          "base_uri": "https://localhost:8080/"
        },
        "id": "xK6vT5qnaTgW",
        "outputId": "ca0e24c8-e87b-4654-dfd7-d8ab059e4427"
      },
      "outputs": [
        {
          "data": {
            "text/plain": [
              "XGBClassifier(learning_rate=0.2, max_depth=4, random_state=32)"
            ]
          },
          "execution_count": 6,
          "metadata": {},
          "output_type": "execute_result"
        }
      ],
      "source": [
        "from xgboost import XGBClassifier\n",
        "model = XGBClassifier(n_estimators=100, learning_rate=0.2, max_depth=4, random_state=32)\n",
        "model.fit(train_x, train_y)"
      ]
    },
    {
      "cell_type": "code",
      "execution_count": 7,
      "metadata": {
        "colab": {
          "base_uri": "https://localhost:8080/"
        },
        "id": "Rq2yHXIxaU5e",
        "outputId": "57973389-b0c0-4fec-8f81-2c1b3f7eb907"
      },
      "outputs": [
        {
          "name": "stdout",
          "output_type": "stream",
          "text": [
            "              precision    recall  f1-score   support\n",
            "\n",
            "           0       1.00      1.00      1.00     71079\n",
            "           1       0.96      0.80      0.88       123\n",
            "\n",
            "    accuracy                           1.00     71202\n",
            "   macro avg       0.98      0.90      0.94     71202\n",
            "weighted avg       1.00      1.00      1.00     71202\n",
            "\n"
          ]
        }
      ],
      "source": [
        "pred = model.predict(test_x)\n",
        "print (classification_report(test_y, pred))"
      ]
    },
    {
      "cell_type": "code",
      "execution_count": 8,
      "metadata": {
        "colab": {
          "base_uri": "https://localhost:8080/"
        },
        "id": "h9gCdt5kacpe",
        "outputId": "5c951e13-c567-41fd-c25c-e9ebef6341da"
      },
      "outputs": [
        {
          "name": "stdout",
          "output_type": "stream",
          "text": [
            "AUC:  0.9024108866843111\n",
            "Precision:  0.9611650485436893\n",
            "Recall:  0.8048780487804879\n",
            "Precision-Recall:  0.7739577180112974\n",
            "F1-score:  0.8761061946902655\n"
          ]
        }
      ],
      "source": [
        "precision_recall= average_precision_score(test_y, pred)\n",
        "precision = precision_score(test_y, pred)\n",
        "recall = recall_score(test_y, pred)\n",
        "auc  = roc_auc_score(test_y, pred)\n",
        "f1 = f1_score(test_y, pred)\n",
        "\n",
        "print('AUC: ', np.mean(auc))\n",
        "print('Precision: ', np.mean(precision))\n",
        "print('Recall: ', np.mean(recall))\n",
        "print('Precision-Recall: ', np.mean(precision_recall))\n",
        "print('F1-score: ', np.mean(f1))"
      ]
    },
    {
      "cell_type": "code",
      "execution_count": 9,
      "metadata": {
        "colab": {
          "base_uri": "https://localhost:8080/",
          "height": 464
        },
        "id": "SwU0mvX8bMUN",
        "outputId": "1ce62e0b-0627-4a1a-cee3-6be69ee33101"
      },
      "outputs": [
        {
          "data": {
            "image/png": "[encoded data removed]",
            "text/plain": [
              "<Figure size 864x504 with 1 Axes>"
            ]
          },
          "metadata": {
            "needs_background": "light"
          },
          "output_type": "display_data"
        }
      ],
      "source": [
        "roc_auc_xgboost = np.mean(auc)\n",
        "fpr_xgboost, tpr_xgboost, thresholds_xgboost = roc_curve(test_y, pred)\n",
        "\n",
        "# plot \n",
        "plt.figure(figsize=(12,7))\n",
        "plt.plot(fpr_xgboost, tpr_xgboost, color='green', label='AUC: {}'.format(roc_auc_xgboost))\n",
        "plt.fill_between(fpr_xgboost, tpr_xgboost, color='lightgreen', alpha=0.3)\n",
        "plt.plot([0,1], [0,1], color='black', ls='--', label='Reference line')\n",
        "plt.xlabel('False Positive Rate', fontsize=14)\n",
        "plt.ylabel('True Positive Rate', fontsize=14)\n",
        "plt.title('ROC XGboost', fontsize=16)\n",
        "plt.legend(loc=4, fontsize=14)\n",
        "plt.grid(False)\n",
        "plt.show()"
      ]
    },
    {
      "cell_type": "code",
      "execution_count": 10,
      "metadata": {
        "colab": {
          "base_uri": "https://localhost:8080/",
          "height": 367
        },
        "id": "k1Uy3Rwtbcr0",
        "outputId": "d384a81f-adee-4baa-f071-9260cb7cc3be"
      },
      "outputs": [
        {
          "data": {
            "text/plain": [
              "0.8524349481409097"
            ]
          },
          "execution_count": 10,
          "metadata": {},
          "output_type": "execute_result"
        },
        {
          "data": {
            "image/png": "[encoded data removed]",
            "text/plain": [
              "<Figure size 720x360 with 1 Axes>"
            ]
          },
          "metadata": {},
          "output_type": "display_data"
        }
      ],
      "source": [
        "from yellowbrick.classifier import PrecisionRecallCurve, ConfusionMatrix\n",
        "# Precision-Recall \n",
        "# yellowbrick 이용\n",
        "plt.figure(figsize=(10,5))\n",
        "plt.title('Precision-Recall XGboost')\n",
        "plt.xlabel('Recall')\n",
        "plt.ylabel('Precision')\n",
        "prcur = PrecisionRecallCurve(model)\n",
        "prcur.fit(train_x, train_y)\n",
        "prcur.score(test_x, test_y)"
      ]
    },
    {
      "cell_type": "markdown",
      "metadata": {
        "id": "YqS00j62cGM8"
      },
      "source": [
        "실험 시나리오 2 - 다른 모델들과 비교 (Logistic Regression, KNN, RandomForest, MLP)"
      ]
    },
    {
      "cell_type": "markdown",
      "metadata": {
        "id": "Le_zQXwjk_s1"
      },
      "source": [
        "1. Logistic Regression"
      ]
    },
    {
      "cell_type": "code",
      "execution_count": 11,
      "metadata": {
        "id": "sFvQFYt7cJg9"
      },
      "outputs": [],
      "source": [
        "from sklearn.linear_model import LogisticRegression"
      ]
    },
    {
      "cell_type": "code",
      "execution_count": 12,
      "metadata": {
        "colab": {
          "base_uri": "https://localhost:8080/"
        },
        "id": "F-6oyO9BcU-c",
        "outputId": "96a38ef7-2de7-4a0c-8441-236bd55d5f84"
      },
      "outputs": [
        {
          "name": "stderr",
          "output_type": "stream",
          "text": [
            "/usr/local/lib/python3.8/dist-packages/sklearn/linear_model/_logistic.py:814: ConvergenceWarning: lbfgs failed to converge (status=1):\n",
            "STOP: TOTAL NO. of ITERATIONS REACHED LIMIT.\n",
            "\n",
            "Increase the number of iterations (max_iter) or scale the data as shown in:\n",
            "    https://scikit-learn.org/stable/modules/preprocessing.html\n",
            "Please also refer to the documentation for alternative solver options:\n",
            "    https://scikit-learn.org/stable/modules/linear_model.html#logistic-regression\n",
            "  n_iter_i = _check_optimize_result(\n"
          ]
        },
        {
          "data": {
            "text/plain": [
              "LogisticRegression(random_state=32)"
            ]
          },
          "execution_count": 12,
          "metadata": {},
          "output_type": "execute_result"
        }
      ],
      "source": [
        "lr = LogisticRegression(random_state=32)\n",
        "lr.fit(train_x, train_y)"
      ]
    },
    {
      "cell_type": "code",
      "execution_count": 13,
      "metadata": {
        "colab": {
          "base_uri": "https://localhost:8080/"
        },
        "id": "WxZVPwzUceQx",
        "outputId": "f2bdad1c-b6f0-4de0-fa17-dccdecc0d965"
      },
      "outputs": [
        {
          "name": "stdout",
          "output_type": "stream",
          "text": [
            "              precision    recall  f1-score   support\n",
            "\n",
            "           0       1.00      1.00      1.00     71079\n",
            "           1       0.71      0.69      0.70       123\n",
            "\n",
            "    accuracy                           1.00     71202\n",
            "   macro avg       0.86      0.85      0.85     71202\n",
            "weighted avg       1.00      1.00      1.00     71202\n",
            "\n"
          ]
        }
      ],
      "source": [
        "pred = lr.predict(test_x)\n",
        "print (classification_report(test_y, pred))"
      ]
    },
    {
      "cell_type": "code",
      "execution_count": 14,
      "metadata": {
        "colab": {
          "base_uri": "https://localhost:8080/"
        },
        "id": "Cf-kjOYcc2fU",
        "outputId": "1ae6432f-2a53-4070-a608-8a9cb869ce88"
      },
      "outputs": [
        {
          "name": "stdout",
          "output_type": "stream",
          "text": [
            "AUC:  0.8452892847841237\n",
            "Precision:  0.7142857142857143\n",
            "Recall:  0.6910569105691057\n",
            "Precision-Recall:  0.4941457718517283\n",
            "F1-score:  0.7024793388429752\n"
          ]
        }
      ],
      "source": [
        "precision_recall= average_precision_score(test_y, pred)\n",
        "precision = precision_score(test_y, pred)\n",
        "recall = recall_score(test_y, pred)\n",
        "auc  = roc_auc_score(test_y, pred)\n",
        "f1 = f1_score(test_y, pred)\n",
        "\n",
        "print('AUC: ', np.mean(auc))\n",
        "print('Precision: ', np.mean(precision))\n",
        "print('Recall: ', np.mean(recall))\n",
        "print('Precision-Recall: ', np.mean(precision_recall))\n",
        "print('F1-score: ', np.mean(f1))"
      ]
    },
    {
      "cell_type": "markdown",
      "metadata": {
        "id": "I7kZUPHmlB1F"
      },
      "source": [
        "2. KNN (n_neighbors = 3) - 보류"
      ]
    },
    {
      "cell_type": "code",
      "execution_count": null,
      "metadata": {
        "id": "AScIgSbkdvI_"
      },
      "outputs": [],
      "source": [
        "from sklearn.neighbors import KNeighborsClassifier"
      ]
    },
    {
      "cell_type": "code",
      "execution_count": null,
      "metadata": {
        "colab": {
          "base_uri": "https://localhost:8080/"
        },
        "id": "AOAsHEr1eBGm",
        "outputId": "4132eb8a-3dbd-4dae-90cf-1889d9d48bbc"
      },
      "outputs": [
        {
          "data": {
            "text/plain": [
              "KNeighborsClassifier(n_neighbors=3)"
            ]
          },
          "execution_count": 16,
          "metadata": {},
          "output_type": "execute_result"
        }
      ],
      "source": [
        "knn = KNeighborsClassifier(n_neighbors=3)\n",
        "knn.fit(train_x, train_y)"
      ]
    },
    {
      "cell_type": "code",
      "execution_count": null,
      "metadata": {
        "colab": {
          "base_uri": "https://localhost:8080/"
        },
        "id": "d7VDrRY_mtpl",
        "outputId": "ac206497-aa1c-4ad6-d966-1eff7ca8bf4f"
      },
      "outputs": [
        {
          "name": "stdout",
          "output_type": "stream",
          "text": [
            "              precision    recall  f1-score   support\n",
            "\n",
            "           0       1.00      1.00      1.00     71079\n",
            "           1       0.88      0.06      0.11       123\n",
            "\n",
            "    accuracy                           1.00     71202\n",
            "   macro avg       0.94      0.53      0.55     71202\n",
            "weighted avg       1.00      1.00      1.00     71202\n",
            "\n"
          ]
        }
      ],
      "source": [
        "pred = knn.predict(test_x)\n",
        "print (classification_report(test_y, pred))"
      ]
    },
    {
      "cell_type": "code",
      "execution_count": null,
      "metadata": {
        "colab": {
          "base_uri": "https://localhost:8080/"
        },
        "id": "P2Izq1WunQ4e",
        "outputId": "27070eb6-958e-4254-caf2-4d5b64da0243"
      },
      "outputs": [
        {
          "name": "stdout",
          "output_type": "stream",
          "text": [
            "AUC:  0.5284482501263623\n",
            "Precision:  0.875\n",
            "Recall:  0.056910569105691054\n",
            "Precision-Recall:  0.05142591568748754\n",
            "F1-score:  0.10687022900763359\n"
          ]
        }
      ],
      "source": [
        "precision_recall= average_precision_score(test_y, pred)\n",
        "precision = precision_score(test_y, pred)\n",
        "recall = recall_score(test_y, pred)\n",
        "auc  = roc_auc_score(test_y, pred)\n",
        "f1 = f1_score(test_y, pred)\n",
        "\n",
        "print('AUC: ', np.mean(auc))\n",
        "print('Precision: ', np.mean(precision))\n",
        "print('Recall: ', np.mean(recall))\n",
        "print('Precision-Recall: ', np.mean(precision_recall))\n",
        "print('F1-score: ', np.mean(f1))"
      ]
    },
    {
      "cell_type": "markdown",
      "metadata": {
        "id": "aGjLFbkcl4P8"
      },
      "source": [
        "3. Random Forest"
      ]
    },
    {
      "cell_type": "code",
      "execution_count": 15,
      "metadata": {
        "colab": {
          "base_uri": "https://localhost:8080/"
        },
        "id": "5CsaDS4vEE4W",
        "outputId": "9c9cac82-d663-44e6-9773-eb9c83341fd7"
      },
      "outputs": [
        {
          "data": {
            "text/plain": [
              "RandomForestClassifier(random_state=32)"
            ]
          },
          "execution_count": 15,
          "metadata": {},
          "output_type": "execute_result"
        }
      ],
      "source": [
        "from sklearn.ensemble import RandomForestClassifier\n",
        "rfc = RandomForestClassifier(n_estimators=100, random_state=32)\n",
        "rfc.fit(train_x, train_y)"
      ]
    },
    {
      "cell_type": "code",
      "execution_count": 16,
      "metadata": {
        "colab": {
          "base_uri": "https://localhost:8080/"
        },
        "id": "AU3GdVkdE5cL",
        "outputId": "649fa4b7-dc7d-49ce-acce-edf0a4dd37e3"
      },
      "outputs": [
        {
          "name": "stdout",
          "output_type": "stream",
          "text": [
            "              precision    recall  f1-score   support\n",
            "\n",
            "           0       1.00      1.00      1.00     71079\n",
            "           1       0.97      0.76      0.85       123\n",
            "\n",
            "    accuracy                           1.00     71202\n",
            "   macro avg       0.98      0.88      0.93     71202\n",
            "weighted avg       1.00      1.00      1.00     71202\n",
            "\n"
          ]
        }
      ],
      "source": [
        "pred = rfc.predict(test_x)\n",
        "print (classification_report(test_y, pred))"
      ]
    },
    {
      "cell_type": "code",
      "execution_count": 17,
      "metadata": {
        "colab": {
          "base_uri": "https://localhost:8080/"
        },
        "id": "Si2zezrbgw6C",
        "outputId": "d81a635a-9bba-4886-b334-24eb1b255940"
      },
      "outputs": [
        {
          "name": "stdout",
          "output_type": "stream",
          "text": [
            "AUC:  0.8820927178587616\n",
            "Precision:  0.9690721649484536\n",
            "Recall:  0.7642276422764228\n",
            "Precision-Recall:  0.7409990277442674\n",
            "F1-score:  0.8545454545454546\n"
          ]
        }
      ],
      "source": [
        "precision_recall= average_precision_score(test_y, pred)\n",
        "precision = precision_score(test_y, pred)\n",
        "recall = recall_score(test_y, pred)\n",
        "auc  = roc_auc_score(test_y, pred)\n",
        "f1 = f1_score(test_y, pred)\n",
        "\n",
        "print('AUC: ', np.mean(auc))\n",
        "print('Precision: ', np.mean(precision))\n",
        "print('Recall: ', np.mean(recall))\n",
        "print('Precision-Recall: ', np.mean(precision_recall))\n",
        "print('F1-score: ', np.mean(f1))"
      ]
    },
    {
      "cell_type": "markdown",
      "metadata": {
        "id": "Ry9HkI2KmnVw"
      },
      "source": [
        "4. MLP"
      ]
    },
    {
      "cell_type": "code",
      "execution_count": 18,
      "metadata": {
        "id": "wdcTv5jB40nu"
      },
      "outputs": [],
      "source": [
        "from sklearn.neural_network import MLPClassifier"
      ]
    },
    {
      "cell_type": "code",
      "execution_count": 19,
      "metadata": {
        "colab": {
          "base_uri": "https://localhost:8080/"
        },
        "id": "FnSrwFl040fE",
        "outputId": "33b86cb1-9b72-453a-982d-031469eb4567"
      },
      "outputs": [
        {
          "data": {
            "text/plain": [
              "MLPClassifier()"
            ]
          },
          "execution_count": 19,
          "metadata": {},
          "output_type": "execute_result"
        }
      ],
      "source": [
        "mlp = MLPClassifier()\n",
        "mlp.fit(train_x, train_y)"
      ]
    },
    {
      "cell_type": "code",
      "execution_count": 20,
      "metadata": {
        "colab": {
          "base_uri": "https://localhost:8080/"
        },
        "id": "FLPNU0Sl40F5",
        "outputId": "684b75f8-9e88-40b6-a5b3-80c0271e68ae"
      },
      "outputs": [
        {
          "name": "stdout",
          "output_type": "stream",
          "text": [
            "              precision    recall  f1-score   support\n",
            "\n",
            "           0       1.00      1.00      1.00     71079\n",
            "           1       0.80      0.03      0.06       123\n",
            "\n",
            "    accuracy                           1.00     71202\n",
            "   macro avg       0.90      0.52      0.53     71202\n",
            "weighted avg       1.00      1.00      1.00     71202\n",
            "\n"
          ]
        }
      ],
      "source": [
        "pred = mlp.predict(test_x)\n",
        "print (classification_report(test_y, pred))"
      ]
    },
    {
      "cell_type": "code",
      "execution_count": 21,
      "metadata": {
        "colab": {
          "base_uri": "https://localhost:8080/"
        },
        "id": "1vMWtxir5W8f",
        "outputId": "db2171a6-a957-4586-ad4b-746144717aa4"
      },
      "outputs": [
        {
          "name": "stdout",
          "output_type": "stream",
          "text": [
            "AUC:  0.5162531281751428\n",
            "Precision:  0.8\n",
            "Recall:  0.032520325203252036\n",
            "Precision-Recall:  0.027687561530540732\n",
            "F1-score:  0.06250000000000001\n"
          ]
        }
      ],
      "source": [
        "precision_recall= average_precision_score(test_y, pred)\n",
        "precision = precision_score(test_y, pred)\n",
        "recall = recall_score(test_y, pred)\n",
        "auc  = roc_auc_score(test_y, pred)\n",
        "f1 = f1_score(test_y, pred)\n",
        "\n",
        "print('AUC: ', np.mean(auc))\n",
        "print('Precision: ', np.mean(precision))\n",
        "print('Recall: ', np.mean(recall))\n",
        "print('Precision-Recall: ', np.mean(precision_recall))\n",
        "print('F1-score: ', np.mean(f1))"
      ]
    },
    {
      "cell_type": "markdown",
      "metadata": {
        "id": "esa--3Va5Z7u"
      },
      "source": [
        "* oversampling 적용한 xgboost"
      ]
    },
    {
      "cell_type": "code",
      "execution_count": 22,
      "metadata": {
        "colab": {
          "base_uri": "https://localhost:8080/"
        },
        "id": "tD50J_6anVjS",
        "outputId": "eebb7352-f817-466c-c7b0-7b4e2aead47c"
      },
      "outputs": [
        {
          "name": "stdout",
          "output_type": "stream",
          "text": [
            "Distribution of training set after applying SMOTE :\n",
            " 0    213236\n",
            "1    213236\n",
            "Name: Class, dtype: int64\n"
          ]
        }
      ],
      "source": [
        "from imblearn.over_sampling import SMOTE\n",
        "smote = SMOTE(random_state=42)\n",
        "train_x_over, train_y_over = smote.fit_resample(train_x, train_y)\n",
        "print('Distribution of training set after applying SMOTE :\\n',pd.Series(train_y_over).value_counts() )"
      ]
    },
    {
      "cell_type": "code",
      "execution_count": 23,
      "metadata": {
        "colab": {
          "base_uri": "https://localhost:8080/"
        },
        "id": "cBxcOpGQ4tTT",
        "outputId": "eb797721-fe77-4296-aba1-53cbe0782d89"
      },
      "outputs": [
        {
          "data": {
            "text/plain": [
              "XGBClassifier()"
            ]
          },
          "execution_count": 23,
          "metadata": {},
          "output_type": "execute_result"
        }
      ],
      "source": [
        "from xgboost import XGBClassifier\n",
        "xgb = XGBClassifier()\n",
        "xgb.fit(train_x_over, train_y_over)"
      ]
    },
    {
      "cell_type": "code",
      "execution_count": 24,
      "metadata": {
        "colab": {
          "base_uri": "https://localhost:8080/"
        },
        "id": "WPfi0u4Lh-0Q",
        "outputId": "53386b90-f788-471c-e703-847b99044630"
      },
      "outputs": [
        {
          "name": "stdout",
          "output_type": "stream",
          "text": [
            "              precision    recall  f1-score   support\n",
            "\n",
            "           0       1.00      0.99      1.00     71079\n",
            "           1       0.22      0.88      0.35       123\n",
            "\n",
            "    accuracy                           0.99     71202\n",
            "   macro avg       0.61      0.94      0.67     71202\n",
            "weighted avg       1.00      0.99      1.00     71202\n",
            "\n"
          ]
        }
      ],
      "source": [
        "pred = xgb.predict(test_x)\n",
        "print (classification_report(test_y, pred))"
      ]
    },
    {
      "cell_type": "code",
      "execution_count": 25,
      "metadata": {
        "colab": {
          "base_uri": "https://localhost:8080/"
        },
        "id": "gOkNJk-biOmO",
        "outputId": "de6322ff-dee8-4c66-a720-2514c980f4ef"
      },
      "outputs": [
        {
          "name": "stdout",
          "output_type": "stream",
          "text": [
            "AUC:  0.9363231704743503\n",
            "Precision:  0.21951219512195122\n",
            "Recall:  0.8780487804878049\n",
            "Precision-Recall:  0.19295308346868653\n",
            "F1-score:  0.35121951219512193\n"
          ]
        }
      ],
      "source": [
        "precision_recall= average_precision_score(test_y, pred)\n",
        "precision = precision_score(test_y, pred)\n",
        "recall = recall_score(test_y, pred)\n",
        "auc  = roc_auc_score(test_y, pred)\n",
        "f1 = f1_score(test_y, pred)\n",
        "\n",
        "print('AUC: ', np.mean(auc))\n",
        "print('Precision: ', np.mean(precision))\n",
        "print('Recall: ', np.mean(recall))\n",
        "print('Precision-Recall: ', np.mean(precision_recall))\n",
        "print('F1-score: ', np.mean(f1))"
      ]
    },
    {
      "cell_type": "markdown",
      "metadata": {
        "id": "mNTPXaLbnvXa"
      },
      "source": [
        "실험 시나리오 3 - test set의 base rate를 변경하여 실험"
      ]
    },
    {
      "cell_type": "code",
      "execution_count": 50,
      "metadata": {
        "colab": {
          "base_uri": "https://localhost:8080/"
        },
        "id": "wTANv33Q6BYx",
        "outputId": "19b1822c-2cf0-4799-caec-ed7f1b088da7"
      },
      "outputs": [
        {
          "name": "stdout",
          "output_type": "stream",
          "text": [
            "(71079, 31)\n",
            "(123, 31)\n"
          ]
        }
      ],
      "source": [
        "# test dataset Class 0, 1 나누기\n",
        "test_x['Class'] = test_y\n",
        "\n",
        "index2 = test_x.index[test_x.Class == 0]\n",
        "test_1 = test_x.drop(index2, axis=0)\n",
        "index1 = test_x.index[test_x.Class == 1]\n",
        "test_0 = test_x.drop(index1, axis=0)\n",
        "\n",
        "print(test_0.shape)\n",
        "print(test_1.shape)"
      ]
    },
    {
      "cell_type": "code",
      "execution_count": 51,
      "metadata": {
        "id": "7S3mNf2965FA"
      },
      "outputs": [],
      "source": [
        "# base rate 1:1인 test set\n",
        "test_0_br_1 = test_0.sample(n=len(test_1))\n",
        "test_br1 = pd.concat([test_0_br_1, test_1])\n",
        "test_br1 = test_br1.sample(frac=1)\n",
        "X_test_br1 = test_br1.drop('Class', axis=1)\n",
        "y_test_br1 = test_br1['Class']\n",
        "\n",
        "# base rate 1:10인 test set\n",
        "test_0_br_10 = test_0.sample(n=len(test_1)*10)\n",
        "test_br10 = pd.concat([test_0_br_10, test_1])\n",
        "test_br10 = test_br10.sample(frac=1)\n",
        "X_test_br10 = test_br10.drop('Class', axis=1)\n",
        "y_test_br10 = test_br10['Class']\n",
        "\n",
        "# base rate 1:100인 test set\n",
        "test_0_br_100 = test_0.sample(n=len(test_1)*100)\n",
        "test_br100 = pd.concat([test_0_br_100, test_1])\n",
        "test_br100 = test_br100.sample(frac=1)\n",
        "X_test_br100 = test_br100.drop('Class', axis=1)\n",
        "y_test_br100 = test_br100['Class']\n",
        "\n",
        "# base rate 1:577.87인 test set (원본)\n",
        "X_test_brreal = test_x.drop('Class', axis=1)\n",
        "y_test_brreal = test_x['Class']"
      ]
    },
    {
      "cell_type": "code",
      "execution_count": 52,
      "metadata": {
        "colab": {
          "base_uri": "https://localhost:8080/"
        },
        "id": "iX3VwUVU7duS",
        "outputId": "a6f25d0e-0de8-45be-de64-020ad19c817a"
      },
      "outputs": [
        {
          "name": "stdout",
          "output_type": "stream",
          "text": [
            "(246, 30) (246,)\n",
            "(1353, 30) (1353,)\n",
            "(12423, 30) (12423,)\n",
            "(71202, 30) (71202,)\n"
          ]
        }
      ],
      "source": [
        "print(X_test_br1.shape, y_test_br1.shape)\n",
        "print(X_test_br10.shape, y_test_br10.shape)\n",
        "print(X_test_br100.shape, y_test_br100.shape)\n",
        "print(X_test_brreal.shape, y_test_brreal.shape)"
      ]
    },
    {
      "cell_type": "markdown",
      "metadata": {
        "id": "R1oXIGwN9uj5"
      },
      "source": [
        "1. Logistic Regression"
      ]
    },
    {
      "cell_type": "code",
      "execution_count": 58,
      "metadata": {
        "colab": {
          "base_uri": "https://localhost:8080/"
        },
        "id": "PXID0j0f74Gg",
        "outputId": "6450308f-df05-4fe9-fd7c-234e7ed9541c"
      },
      "outputs": [
        {
          "name": "stderr",
          "output_type": "stream",
          "text": [
            "/usr/local/lib/python3.8/dist-packages/sklearn/linear_model/_logistic.py:814: ConvergenceWarning: lbfgs failed to converge (status=1):\n",
            "STOP: TOTAL NO. of ITERATIONS REACHED LIMIT.\n",
            "\n",
            "Increase the number of iterations (max_iter) or scale the data as shown in:\n",
            "    https://scikit-learn.org/stable/modules/preprocessing.html\n",
            "Please also refer to the documentation for alternative solver options:\n",
            "    https://scikit-learn.org/stable/modules/linear_model.html#logistic-regression\n",
            "  n_iter_i = _check_optimize_result(\n"
          ]
        },
        {
          "data": {
            "text/plain": [
              "LogisticRegression(random_state=32)"
            ]
          },
          "execution_count": 58,
          "metadata": {},
          "output_type": "execute_result"
        }
      ],
      "source": [
        "from sklearn.linear_model import LogisticRegression\n",
        "lr = LogisticRegression(random_state=32)\n",
        "lr.fit(train_x, train_y)"
      ]
    },
    {
      "cell_type": "code",
      "execution_count": 59,
      "metadata": {
        "colab": {
          "base_uri": "https://localhost:8080/"
        },
        "id": "PKxmaExr8D9z",
        "outputId": "6b202ea7-eaff-4bea-bd56-3d4a5c5d933e"
      },
      "outputs": [
        {
          "name": "stdout",
          "output_type": "stream",
          "text": [
            "              precision    recall  f1-score   support\n",
            "\n",
            "           0       0.76      1.00      0.87       123\n",
            "           1       1.00      0.69      0.82       123\n",
            "\n",
            "    accuracy                           0.85       246\n",
            "   macro avg       0.88      0.85      0.84       246\n",
            "weighted avg       0.88      0.85      0.84       246\n",
            "\n"
          ]
        }
      ],
      "source": [
        "# base rate = 1:1\n",
        "pred = lr.predict(X_test_br1)\n",
        "print (classification_report(y_test_br1, pred))"
      ]
    },
    {
      "cell_type": "code",
      "execution_count": 60,
      "metadata": {
        "colab": {
          "base_uri": "https://localhost:8080/"
        },
        "id": "qMDthLJU8ItH",
        "outputId": "6d5f109a-68ea-4f21-f370-be289750af38"
      },
      "outputs": [
        {
          "name": "stdout",
          "output_type": "stream",
          "text": [
            "AUC:  0.8455284552845528\n",
            "Precision:  1.0\n",
            "Recall:  0.6910569105691057\n",
            "Precision-Recall:  0.8455284552845528\n",
            "F1-score:  0.8173076923076924\n"
          ]
        }
      ],
      "source": [
        "precision_recall= average_precision_score(y_test_br1, pred)\n",
        "precision_lr_br1 = precision_score(y_test_br1, pred)\n",
        "recall = recall_score(y_test_br1, pred)\n",
        "auc  = roc_auc_score(y_test_br1, pred)\n",
        "f1_lr_br1 = f1_score(y_test_br1, pred)\n",
        "\n",
        "print('AUC: ', np.mean(auc))\n",
        "print('Precision: ', np.mean(precision_lr_br1))\n",
        "print('Recall: ', np.mean(recall))\n",
        "print('Precision-Recall: ', np.mean(precision_recall))\n",
        "print('F1-score: ', np.mean(f1_lr_br1))"
      ]
    },
    {
      "cell_type": "code",
      "execution_count": 61,
      "metadata": {
        "colab": {
          "base_uri": "https://localhost:8080/"
        },
        "id": "_s2cpk5g8nbO",
        "outputId": "4c9e5657-edda-4f2e-9a42-4676baf282fa"
      },
      "outputs": [
        {
          "name": "stdout",
          "output_type": "stream",
          "text": [
            "              precision    recall  f1-score   support\n",
            "\n",
            "           0       0.97      1.00      0.98      1230\n",
            "           1       1.00      0.69      0.82       123\n",
            "\n",
            "    accuracy                           0.97      1353\n",
            "   macro avg       0.99      0.85      0.90      1353\n",
            "weighted avg       0.97      0.97      0.97      1353\n",
            "\n"
          ]
        }
      ],
      "source": [
        "# base rate = 1:10\n",
        "pred = lr.predict(X_test_br10)\n",
        "print (classification_report(y_test_br10, pred))"
      ]
    },
    {
      "cell_type": "code",
      "execution_count": 62,
      "metadata": {
        "colab": {
          "base_uri": "https://localhost:8080/"
        },
        "id": "16ylTt038ySn",
        "outputId": "f8e14430-5bdd-42d7-adf1-2eb9eb78754e"
      },
      "outputs": [
        {
          "name": "stdout",
          "output_type": "stream",
          "text": [
            "AUC:  0.8455284552845528\n",
            "Precision:  1.0\n",
            "Recall:  0.6910569105691057\n",
            "Precision-Recall:  0.7191426459719142\n",
            "F1-score:  0.8173076923076924\n"
          ]
        }
      ],
      "source": [
        "precision_recall= average_precision_score(y_test_br10, pred)\n",
        "precision_lr_br10 = precision_score(y_test_br10, pred)\n",
        "recall = recall_score(y_test_br10, pred)\n",
        "auc  = roc_auc_score(y_test_br10, pred)\n",
        "f1_lr_br10 = f1_score(y_test_br10, pred)\n",
        "\n",
        "print('AUC: ', np.mean(auc))\n",
        "print('Precision: ', np.mean(precision_lr_br10))\n",
        "print('Recall: ', np.mean(recall))\n",
        "print('Precision-Recall: ', np.mean(precision_recall))\n",
        "print('F1-score: ', np.mean(f1_lr_br10))"
      ]
    },
    {
      "cell_type": "code",
      "execution_count": 63,
      "metadata": {
        "colab": {
          "base_uri": "https://localhost:8080/"
        },
        "id": "DzjOQqUm82fh",
        "outputId": "40f6af4d-a30e-4b52-a4f6-9488b3ba11e3"
      },
      "outputs": [
        {
          "name": "stdout",
          "output_type": "stream",
          "text": [
            "              precision    recall  f1-score   support\n",
            "\n",
            "           0       1.00      1.00      1.00     12300\n",
            "           1       0.93      0.69      0.79       123\n",
            "\n",
            "    accuracy                           1.00     12423\n",
            "   macro avg       0.97      0.85      0.90     12423\n",
            "weighted avg       1.00      1.00      1.00     12423\n",
            "\n"
          ]
        }
      ],
      "source": [
        "# base rate = 1:100\n",
        "pred = lr.predict(X_test_br100)\n",
        "print (classification_report(y_test_br100, pred))"
      ]
    },
    {
      "cell_type": "code",
      "execution_count": 64,
      "metadata": {
        "colab": {
          "base_uri": "https://localhost:8080/"
        },
        "id": "2J7Rd4dc86eF",
        "outputId": "e0af4903-3f01-46ac-eb2b-99183eff96a9"
      },
      "outputs": [
        {
          "name": "stdout",
          "output_type": "stream",
          "text": [
            "AUC:  0.8452845528455284\n",
            "Precision:  0.9340659340659341\n",
            "Recall:  0.6910569105691057\n",
            "Precision-Recall:  0.6485515611330632\n",
            "F1-score:  0.794392523364486\n"
          ]
        }
      ],
      "source": [
        "precision_recall= average_precision_score(y_test_br100, pred)\n",
        "precision_lr_br100 = precision_score(y_test_br100, pred)\n",
        "recall = recall_score(y_test_br100, pred)\n",
        "auc  = roc_auc_score(y_test_br100, pred)\n",
        "f1_lr_br100 = f1_score(y_test_br100, pred)\n",
        "\n",
        "print('AUC: ', np.mean(auc))\n",
        "print('Precision: ', np.mean(precision_lr_br100))\n",
        "print('Recall: ', np.mean(recall))\n",
        "print('Precision-Recall: ', np.mean(precision_recall))\n",
        "print('F1-score: ', np.mean(f1_lr_br100))"
      ]
    },
    {
      "cell_type": "code",
      "execution_count": 65,
      "metadata": {
        "colab": {
          "base_uri": "https://localhost:8080/"
        },
        "id": "c2nLTDRW9LwN",
        "outputId": "0bba48a1-68ad-42d2-8383-2ad6299a3b90"
      },
      "outputs": [
        {
          "name": "stdout",
          "output_type": "stream",
          "text": [
            "              precision    recall  f1-score   support\n",
            "\n",
            "           0       1.00      1.00      1.00     71079\n",
            "           1       0.71      0.69      0.70       123\n",
            "\n",
            "    accuracy                           1.00     71202\n",
            "   macro avg       0.86      0.85      0.85     71202\n",
            "weighted avg       1.00      1.00      1.00     71202\n",
            "\n"
          ]
        }
      ],
      "source": [
        "# base rate = 1:577.87\n",
        "pred = lr.predict(X_test_brreal)\n",
        "print (classification_report(y_test_brreal, pred))"
      ]
    },
    {
      "cell_type": "code",
      "execution_count": 66,
      "metadata": {
        "colab": {
          "base_uri": "https://localhost:8080/"
        },
        "id": "ngQX1DJR9jPa",
        "outputId": "6d7015a7-f069-4c82-84f2-8b2100dba1d1"
      },
      "outputs": [
        {
          "name": "stdout",
          "output_type": "stream",
          "text": [
            "AUC:  0.8452892847841237\n",
            "Precision:  0.7142857142857143\n",
            "Recall:  0.6910569105691057\n",
            "Precision-Recall:  0.4941457718517283\n",
            "F1-score:  0.7024793388429752\n"
          ]
        }
      ],
      "source": [
        "precision_recall= average_precision_score(y_test_brreal, pred)\n",
        "precision_lr_brreal = precision_score(y_test_brreal, pred)\n",
        "recall = recall_score(y_test_brreal, pred)\n",
        "auc  = roc_auc_score(y_test_brreal, pred)\n",
        "f1_lr_brreal = f1_score(y_test_brreal, pred)\n",
        "\n",
        "print('AUC: ', np.mean(auc))\n",
        "print('Precision: ', np.mean(precision_lr_brreal))\n",
        "print('Recall: ', np.mean(recall))\n",
        "print('Precision-Recall: ', np.mean(precision_recall))\n",
        "print('F1-score: ', np.mean(f1_lr_brreal))"
      ]
    },
    {
      "cell_type": "markdown",
      "metadata": {
        "id": "YXfGSY189rDA"
      },
      "source": [
        "2. MLP"
      ]
    },
    {
      "cell_type": "code",
      "execution_count": 67,
      "metadata": {
        "colab": {
          "base_uri": "https://localhost:8080/"
        },
        "id": "qIbRCGaC90X9",
        "outputId": "a70af861-7894-4213-c90e-941b8e5cb4a6"
      },
      "outputs": [
        {
          "data": {
            "text/plain": [
              "MLPClassifier()"
            ]
          },
          "execution_count": 67,
          "metadata": {},
          "output_type": "execute_result"
        }
      ],
      "source": [
        "from sklearn.neural_network import MLPClassifier\n",
        "mlp = MLPClassifier()\n",
        "mlp.fit(train_x, train_y)"
      ]
    },
    {
      "cell_type": "code",
      "execution_count": 68,
      "metadata": {
        "colab": {
          "base_uri": "https://localhost:8080/"
        },
        "id": "plYqLz3S-Ab8",
        "outputId": "2401b3f1-564e-4218-94be-3553409eefb4"
      },
      "outputs": [
        {
          "name": "stdout",
          "output_type": "stream",
          "text": [
            "              precision    recall  f1-score   support\n",
            "\n",
            "           0       0.84      1.00      0.91       123\n",
            "           1       1.00      0.80      0.89       123\n",
            "\n",
            "    accuracy                           0.90       246\n",
            "   macro avg       0.92      0.90      0.90       246\n",
            "weighted avg       0.92      0.90      0.90       246\n",
            "\n"
          ]
        }
      ],
      "source": [
        "# base rate = 1:1\n",
        "pred = mlp.predict(X_test_br1)\n",
        "print (classification_report(y_test_br1, pred))"
      ]
    },
    {
      "cell_type": "code",
      "execution_count": 69,
      "metadata": {
        "colab": {
          "base_uri": "https://localhost:8080/"
        },
        "id": "P4PJFi5b-UQk",
        "outputId": "4d845964-55e7-48ac-83ae-2ef3db73110f"
      },
      "outputs": [
        {
          "name": "stdout",
          "output_type": "stream",
          "text": [
            "AUC:  0.9024390243902439\n",
            "Precision:  1.0\n",
            "Recall:  0.8048780487804879\n",
            "Precision-Recall:  0.9024390243902439\n",
            "F1-score:  0.8918918918918919\n"
          ]
        }
      ],
      "source": [
        "precision_recall= average_precision_score(y_test_br1, pred)\n",
        "precision_mlp_br1 = precision_score(y_test_br1, pred)\n",
        "recall = recall_score(y_test_br1, pred)\n",
        "auc  = roc_auc_score(y_test_br1, pred)\n",
        "f1_mlp_br1 = f1_score(y_test_br1, pred)\n",
        "\n",
        "print('AUC: ', np.mean(auc))\n",
        "print('Precision: ', np.mean(precision_mlp_br1))\n",
        "print('Recall: ', np.mean(recall))\n",
        "print('Precision-Recall: ', np.mean(precision_recall))\n",
        "print('F1-score: ', np.mean(f1_mlp_br1))"
      ]
    },
    {
      "cell_type": "code",
      "execution_count": 70,
      "metadata": {
        "colab": {
          "base_uri": "https://localhost:8080/"
        },
        "id": "k1krX9yv-ZRR",
        "outputId": "e646937e-c8e0-434c-8d37-d4780c9c74e0"
      },
      "outputs": [
        {
          "name": "stdout",
          "output_type": "stream",
          "text": [
            "              precision    recall  f1-score   support\n",
            "\n",
            "           0       0.98      1.00      0.99      1230\n",
            "           1       0.97      0.80      0.88       123\n",
            "\n",
            "    accuracy                           0.98      1353\n",
            "   macro avg       0.98      0.90      0.93      1353\n",
            "weighted avg       0.98      0.98      0.98      1353\n",
            "\n"
          ]
        }
      ],
      "source": [
        "# base rate = 1:10\n",
        "pred = mlp.predict(X_test_br10)\n",
        "print (classification_report(y_test_br10, pred))"
      ]
    },
    {
      "cell_type": "code",
      "execution_count": 72,
      "metadata": {
        "colab": {
          "base_uri": "https://localhost:8080/"
        },
        "id": "0n89I_FO-ZMN",
        "outputId": "9482c98d-efd4-40b8-a080-72b6bfa9db2a"
      },
      "outputs": [
        {
          "name": "stdout",
          "output_type": "stream",
          "text": [
            "AUC:  0.901219512195122\n",
            "Precision:  0.9705882352941176\n",
            "Recall:  0.8048780487804879\n",
            "Precision-Recall:  0.7989435241946002\n",
            "F1-score:  0.8800000000000001\n"
          ]
        }
      ],
      "source": [
        "precision_recall= average_precision_score(y_test_br10, pred)\n",
        "precision_mlp_br10 = precision_score(y_test_br10, pred)\n",
        "recall = recall_score(y_test_br10, pred)\n",
        "auc  = roc_auc_score(y_test_br10, pred)\n",
        "f1_mlp_br10 = f1_score(y_test_br10, pred)\n",
        "\n",
        "print('AUC: ', np.mean(auc))\n",
        "print('Precision: ', np.mean(precision_mlp_br10))\n",
        "print('Recall: ', np.mean(recall))\n",
        "print('Precision-Recall: ', np.mean(precision_recall))\n",
        "print('F1-score: ', np.mean(f1_mlp_br10))"
      ]
    },
    {
      "cell_type": "code",
      "execution_count": 73,
      "metadata": {
        "colab": {
          "base_uri": "https://localhost:8080/"
        },
        "id": "v_cKgwgu-ZJx",
        "outputId": "631eac8c-dec6-49af-de74-1050733f4250"
      },
      "outputs": [
        {
          "name": "stdout",
          "output_type": "stream",
          "text": [
            "              precision    recall  f1-score   support\n",
            "\n",
            "           0       1.00      1.00      1.00     12300\n",
            "           1       0.85      0.80      0.83       123\n",
            "\n",
            "    accuracy                           1.00     12423\n",
            "   macro avg       0.93      0.90      0.91     12423\n",
            "weighted avg       1.00      1.00      1.00     12423\n",
            "\n"
          ]
        }
      ],
      "source": [
        "# base rate = 1:100\n",
        "pred = mlp.predict(X_test_br100)\n",
        "print (classification_report(y_test_br100, pred))"
      ]
    },
    {
      "cell_type": "code",
      "execution_count": 74,
      "metadata": {
        "colab": {
          "base_uri": "https://localhost:8080/"
        },
        "id": "NLT-PEyz-ZHd",
        "outputId": "3154a0d8-1350-46c1-ad15-0e0abfd25600"
      },
      "outputs": [
        {
          "name": "stdout",
          "output_type": "stream",
          "text": [
            "AUC:  0.9017479674796749\n",
            "Precision:  1.0\n",
            "Recall:  0.8048780487804879\n",
            "Precision-Recall:  0.6888536835180574\n",
            "F1-score:  0.8173076923076924\n"
          ]
        }
      ],
      "source": [
        "precision_recall= average_precision_score(y_test_br100, pred)\n",
        "precision_mlp_br100 = precision_score(y_test_br100, pred)\n",
        "recall = recall_score(y_test_br100, pred)\n",
        "auc  = roc_auc_score(y_test_br100, pred)\n",
        "f1_mlp_br100 = f1_score(y_test_br100, pred)\n",
        "\n",
        "print('AUC: ', np.mean(auc))\n",
        "print('Precision: ', np.mean(precision))\n",
        "print('Recall: ', np.mean(recall))\n",
        "print('Precision-Recall: ', np.mean(precision_recall))\n",
        "print('F1-score: ', np.mean(f1))"
      ]
    },
    {
      "cell_type": "code",
      "execution_count": 75,
      "metadata": {
        "colab": {
          "base_uri": "https://localhost:8080/"
        },
        "id": "vhk1Y30o-ZE9",
        "outputId": "9027bf10-2933-4ea6-9812-5e3aa902ff8b"
      },
      "outputs": [
        {
          "name": "stdout",
          "output_type": "stream",
          "text": [
            "              precision    recall  f1-score   support\n",
            "\n",
            "           0       1.00      1.00      1.00     71079\n",
            "           1       0.49      0.80      0.61       123\n",
            "\n",
            "    accuracy                           1.00     71202\n",
            "   macro avg       0.75      0.90      0.81     71202\n",
            "weighted avg       1.00      1.00      1.00     71202\n",
            "\n"
          ]
        }
      ],
      "source": [
        "# base rate = 1:577.87\n",
        "pred = mlp.predict(X_test_brreal)\n",
        "print (classification_report(y_test_brreal, pred))"
      ]
    },
    {
      "cell_type": "code",
      "execution_count": 76,
      "metadata": {
        "colab": {
          "base_uri": "https://localhost:8080/"
        },
        "id": "Pyc_aU-6-ZCb",
        "outputId": "3a165faa-9ea2-478e-cdb6-fded8cdf646e"
      },
      "outputs": [
        {
          "name": "stdout",
          "output_type": "stream",
          "text": [
            "AUC:  0.9017215128889567\n",
            "Precision:  1.0\n",
            "Recall:  0.8048780487804879\n",
            "Precision-Recall:  0.3967695409708543\n",
            "F1-score:  0.8173076923076924\n"
          ]
        }
      ],
      "source": [
        "precision_recall= average_precision_score(y_test_brreal, pred)\n",
        "precision_mlp_brreal = precision_score(y_test_brreal, pred)\n",
        "recall = recall_score(y_test_brreal, pred)\n",
        "auc  = roc_auc_score(y_test_brreal, pred)\n",
        "f1_mlp_brreal = f1_score(y_test_brreal, pred)\n",
        "\n",
        "print('AUC: ', np.mean(auc))\n",
        "print('Precision: ', np.mean(precision))\n",
        "print('Recall: ', np.mean(recall))\n",
        "print('Precision-Recall: ', np.mean(precision_recall))\n",
        "print('F1-score: ', np.mean(f1))"
      ]
    },
    {
      "cell_type": "markdown",
      "metadata": {
        "id": "1JL8XOpQ_wE2"
      },
      "source": [
        "3. Random Forest"
      ]
    },
    {
      "cell_type": "code",
      "execution_count": 77,
      "metadata": {
        "colab": {
          "base_uri": "https://localhost:8080/"
        },
        "id": "h_fvHVZV-ZAC",
        "outputId": "66bf003b-2abf-4145-da74-c7e0bd1d0648"
      },
      "outputs": [
        {
          "data": {
            "text/plain": [
              "RandomForestClassifier(random_state=32)"
            ]
          },
          "execution_count": 77,
          "metadata": {},
          "output_type": "execute_result"
        }
      ],
      "source": [
        "from sklearn.ensemble import RandomForestClassifier\n",
        "rfc = RandomForestClassifier(n_estimators=100, random_state=32)\n",
        "rfc.fit(train_x, train_y)"
      ]
    },
    {
      "cell_type": "code",
      "execution_count": 78,
      "metadata": {
        "colab": {
          "base_uri": "https://localhost:8080/"
        },
        "id": "zEp46N9g_7rZ",
        "outputId": "085fdc64-10aa-49a8-fb6e-0049deb8629d"
      },
      "outputs": [
        {
          "name": "stdout",
          "output_type": "stream",
          "text": [
            "              precision    recall  f1-score   support\n",
            "\n",
            "           0       0.81      1.00      0.89       123\n",
            "           1       1.00      0.76      0.87       123\n",
            "\n",
            "    accuracy                           0.88       246\n",
            "   macro avg       0.90      0.88      0.88       246\n",
            "weighted avg       0.90      0.88      0.88       246\n",
            "\n"
          ]
        }
      ],
      "source": [
        "# base rate = 1:1\n",
        "pred = rfc.predict(X_test_br1)\n",
        "print (classification_report(y_test_br1, pred))"
      ]
    },
    {
      "cell_type": "code",
      "execution_count": 79,
      "metadata": {
        "colab": {
          "base_uri": "https://localhost:8080/"
        },
        "id": "b2GOUkhwAEpW",
        "outputId": "ae9df550-5db5-4ec4-8fa2-f8538c29c750"
      },
      "outputs": [
        {
          "name": "stdout",
          "output_type": "stream",
          "text": [
            "AUC:  0.8821138211382114\n",
            "Precision:  1.0\n",
            "Recall:  0.7642276422764228\n",
            "Precision-Recall:  0.8821138211382114\n",
            "F1-score:  0.8173076923076924\n"
          ]
        }
      ],
      "source": [
        "precision_recall= average_precision_score(y_test_br1, pred)\n",
        "precision_rf_br1 = precision_score(y_test_br1, pred)\n",
        "recall = recall_score(y_test_br1, pred)\n",
        "auc  = roc_auc_score(y_test_br1, pred)\n",
        "f1_rf_br1 = f1_score(y_test_br1, pred)\n",
        "\n",
        "print('AUC: ', np.mean(auc))\n",
        "print('Precision: ', np.mean(precision))\n",
        "print('Recall: ', np.mean(recall))\n",
        "print('Precision-Recall: ', np.mean(precision_recall))\n",
        "print('F1-score: ', np.mean(f1))"
      ]
    },
    {
      "cell_type": "code",
      "execution_count": 80,
      "metadata": {
        "colab": {
          "base_uri": "https://localhost:8080/"
        },
        "id": "-2q1fyO6AEl9",
        "outputId": "a52cc10c-939f-4d91-c559-e6e8037a5a82"
      },
      "outputs": [
        {
          "name": "stdout",
          "output_type": "stream",
          "text": [
            "              precision    recall  f1-score   support\n",
            "\n",
            "           0       0.98      1.00      0.99      1230\n",
            "           1       1.00      0.76      0.87       123\n",
            "\n",
            "    accuracy                           0.98      1353\n",
            "   macro avg       0.99      0.88      0.93      1353\n",
            "weighted avg       0.98      0.98      0.98      1353\n",
            "\n"
          ]
        }
      ],
      "source": [
        "# base rate = 1:10\n",
        "pred = rfc.predict(X_test_br10)\n",
        "print (classification_report(y_test_br10, pred))"
      ]
    },
    {
      "cell_type": "code",
      "execution_count": 81,
      "metadata": {
        "colab": {
          "base_uri": "https://localhost:8080/"
        },
        "id": "ZI4tqjurAEjc",
        "outputId": "316434ca-cb59-463e-e522-116fff378380"
      },
      "outputs": [
        {
          "name": "stdout",
          "output_type": "stream",
          "text": [
            "AUC:  0.8821138211382114\n",
            "Precision:  1.0\n",
            "Recall:  0.7642276422764228\n",
            "Precision-Recall:  0.7856614929785662\n",
            "F1-score:  0.8663594470046084\n"
          ]
        }
      ],
      "source": [
        "precision_recall= average_precision_score(y_test_br10, pred)\n",
        "precision_rf_br10 = precision_score(y_test_br10, pred)\n",
        "recall = recall_score(y_test_br10, pred)\n",
        "auc  = roc_auc_score(y_test_br10, pred)\n",
        "f1_rf_br10 = f1_score(y_test_br10, pred)\n",
        "\n",
        "print('AUC: ', np.mean(auc))\n",
        "print('Precision: ', np.mean(precision_rf_br10))\n",
        "print('Recall: ', np.mean(recall))\n",
        "print('Precision-Recall: ', np.mean(precision_recall))\n",
        "print('F1-score: ', np.mean(f1_rf_br10))"
      ]
    },
    {
      "cell_type": "code",
      "execution_count": 82,
      "metadata": {
        "colab": {
          "base_uri": "https://localhost:8080/"
        },
        "id": "12gINR7aAK83",
        "outputId": "4cd9d297-2a5d-4e84-92c0-4695e1db07b1"
      },
      "outputs": [
        {
          "name": "stdout",
          "output_type": "stream",
          "text": [
            "              precision    recall  f1-score   support\n",
            "\n",
            "           0       1.00      1.00      1.00     12300\n",
            "           1       1.00      0.76      0.87       123\n",
            "\n",
            "    accuracy                           1.00     12423\n",
            "   macro avg       1.00      0.88      0.93     12423\n",
            "weighted avg       1.00      1.00      1.00     12423\n",
            "\n"
          ]
        }
      ],
      "source": [
        "# base rate = 1:100\n",
        "pred = rfc.predict(X_test_br100)\n",
        "print (classification_report(y_test_br100, pred))"
      ]
    },
    {
      "cell_type": "code",
      "execution_count": 83,
      "metadata": {
        "colab": {
          "base_uri": "https://localhost:8080/"
        },
        "id": "DTKgiqf6ALqd",
        "outputId": "e4b9202b-4320-4e1e-aaa9-141af2d91d21"
      },
      "outputs": [
        {
          "name": "stdout",
          "output_type": "stream",
          "text": [
            "AUC:  0.8821138211382114\n",
            "Precision:  1.0\n",
            "Recall:  0.7642276422764228\n",
            "Precision-Recall:  0.7665620220558642\n",
            "F1-score:  0.8173076923076924\n"
          ]
        }
      ],
      "source": [
        "precision_recall= average_precision_score(y_test_br100, pred)\n",
        "precision_rf_br100 = precision_score(y_test_br100, pred)\n",
        "recall = recall_score(y_test_br100, pred)\n",
        "auc  = roc_auc_score(y_test_br100, pred)\n",
        "f1_rf_br100 = f1_score(y_test_br100, pred)\n",
        "\n",
        "print('AUC: ', np.mean(auc))\n",
        "print('Precision: ', np.mean(precision))\n",
        "print('Recall: ', np.mean(recall))\n",
        "print('Precision-Recall: ', np.mean(precision_recall))\n",
        "print('F1-score: ', np.mean(f1))"
      ]
    },
    {
      "cell_type": "code",
      "execution_count": 84,
      "metadata": {
        "colab": {
          "base_uri": "https://localhost:8080/"
        },
        "id": "FQK45M0JANy_",
        "outputId": "33af1503-e55e-4a87-eb9b-add52a69f86d"
      },
      "outputs": [
        {
          "name": "stdout",
          "output_type": "stream",
          "text": [
            "              precision    recall  f1-score   support\n",
            "\n",
            "           0       1.00      1.00      1.00     71079\n",
            "           1       0.97      0.76      0.85       123\n",
            "\n",
            "    accuracy                           1.00     71202\n",
            "   macro avg       0.98      0.88      0.93     71202\n",
            "weighted avg       1.00      1.00      1.00     71202\n",
            "\n"
          ]
        }
      ],
      "source": [
        "# base rate = 1:577.87\n",
        "pred = rfc.predict(X_test_brreal)\n",
        "print (classification_report(y_test_brreal, pred))"
      ]
    },
    {
      "cell_type": "code",
      "execution_count": 85,
      "metadata": {
        "colab": {
          "base_uri": "https://localhost:8080/"
        },
        "id": "ilfftWHuAPIF",
        "outputId": "2943fe8f-57ed-44cc-86cd-a8b25b1a3372"
      },
      "outputs": [
        {
          "name": "stdout",
          "output_type": "stream",
          "text": [
            "AUC:  0.8820927178587616\n",
            "Precision:  0.9690721649484536\n",
            "Recall:  0.7642276422764228\n",
            "Precision-Recall:  0.7409990277442674\n",
            "F1-score:  0.8545454545454546\n"
          ]
        }
      ],
      "source": [
        "precision_recall= average_precision_score(y_test_brreal, pred)\n",
        "precision_rf_brreal = precision_score(y_test_brreal, pred)\n",
        "recall = recall_score(y_test_brreal, pred)\n",
        "auc  = roc_auc_score(y_test_brreal, pred)\n",
        "f1_rf_brreal = f1_score(y_test_brreal, pred)\n",
        "\n",
        "print('AUC: ', np.mean(auc))\n",
        "print('Precision: ', np.mean(precision_rf_brreal))\n",
        "print('Recall: ', np.mean(recall))\n",
        "print('Precision-Recall: ', np.mean(precision_recall))\n",
        "print('F1-score: ', np.mean(f1_rf_brreal))"
      ]
    },
    {
      "cell_type": "markdown",
      "metadata": {
        "id": "kdt4d-8cBEmc"
      },
      "source": [
        "4. xgboost (our model)"
      ]
    },
    {
      "cell_type": "code",
      "execution_count": 86,
      "metadata": {
        "colab": {
          "base_uri": "https://localhost:8080/"
        },
        "id": "hVe7cy0eOfgJ",
        "outputId": "d5ddfc38-6baf-4810-9d70-16e79a99b449"
      },
      "outputs": [
        {
          "data": {
            "text/plain": [
              "XGBClassifier(learning_rate=0.2, max_depth=4, random_state=32)"
            ]
          },
          "execution_count": 86,
          "metadata": {},
          "output_type": "execute_result"
        }
      ],
      "source": [
        "from xgboost import XGBClassifier\n",
        "model = XGBClassifier(n_estimators=100, learning_rate=0.2, max_depth=4, random_state=32)\n",
        "model.fit(train_x, train_y)"
      ]
    },
    {
      "cell_type": "code",
      "execution_count": 87,
      "metadata": {
        "colab": {
          "base_uri": "https://localhost:8080/"
        },
        "id": "x1Qrcy7BOhAN",
        "outputId": "1cde43aa-3e79-426b-8b08-638c214d8d39"
      },
      "outputs": [
        {
          "name": "stdout",
          "output_type": "stream",
          "text": [
            "              precision    recall  f1-score   support\n",
            "\n",
            "           0       0.84      1.00      0.91       123\n",
            "           1       1.00      0.80      0.89       123\n",
            "\n",
            "    accuracy                           0.90       246\n",
            "   macro avg       0.92      0.90      0.90       246\n",
            "weighted avg       0.92      0.90      0.90       246\n",
            "\n"
          ]
        }
      ],
      "source": [
        "# base rate = 1:1\n",
        "pred = model.predict(X_test_br1)\n",
        "print (classification_report(y_test_br1, pred))"
      ]
    },
    {
      "cell_type": "code",
      "execution_count": 88,
      "metadata": {
        "colab": {
          "base_uri": "https://localhost:8080/"
        },
        "id": "xRxoenv7O5Gl",
        "outputId": "001cfbba-f274-4fd4-8087-464d453c73c7"
      },
      "outputs": [
        {
          "name": "stdout",
          "output_type": "stream",
          "text": [
            "AUC:  0.9024390243902439\n",
            "Precision:  1.0\n",
            "Recall:  0.8048780487804879\n",
            "Precision-Recall:  0.9024390243902439\n",
            "F1-score:  0.8918918918918919\n"
          ]
        }
      ],
      "source": [
        "precision_recall= average_precision_score(y_test_br1, pred)\n",
        "precision_xgb_br1 = precision_score(y_test_br1, pred)\n",
        "recall = recall_score(y_test_br1, pred)\n",
        "auc  = roc_auc_score(y_test_br1, pred)\n",
        "f1_xgb_br1 = f1_score(y_test_br1, pred)\n",
        "\n",
        "print('AUC: ', np.mean(auc))\n",
        "print('Precision: ', np.mean(precision_xgb_br1))\n",
        "print('Recall: ', np.mean(recall))\n",
        "print('Precision-Recall: ', np.mean(precision_recall))\n",
        "print('F1-score: ', np.mean(f1_xgb_br1))"
      ]
    },
    {
      "cell_type": "code",
      "execution_count": 89,
      "metadata": {
        "colab": {
          "base_uri": "https://localhost:8080/"
        },
        "id": "2DFpxNp_O9Qn",
        "outputId": "0da98b1d-29d5-40cf-b954-d669e0419760"
      },
      "outputs": [
        {
          "name": "stdout",
          "output_type": "stream",
          "text": [
            "              precision    recall  f1-score   support\n",
            "\n",
            "           0       0.98      1.00      0.99      1230\n",
            "           1       1.00      0.80      0.89       123\n",
            "\n",
            "    accuracy                           0.98      1353\n",
            "   macro avg       0.99      0.90      0.94      1353\n",
            "weighted avg       0.98      0.98      0.98      1353\n",
            "\n"
          ]
        }
      ],
      "source": [
        "# base rate = 1:10\n",
        "pred = model.predict(X_test_br10)\n",
        "print (classification_report(y_test_br10, pred))"
      ]
    },
    {
      "cell_type": "code",
      "execution_count": 90,
      "metadata": {
        "colab": {
          "base_uri": "https://localhost:8080/"
        },
        "id": "nb3W6ykFPEib",
        "outputId": "c5bed01e-7c8e-4983-8c03-c74eaa92d320"
      },
      "outputs": [
        {
          "name": "stdout",
          "output_type": "stream",
          "text": [
            "AUC:  0.9024390243902439\n",
            "Precision:  1.0\n",
            "Recall:  0.8048780487804879\n",
            "Precision-Recall:  0.8226164079822617\n",
            "F1-score:  0.8918918918918919\n"
          ]
        }
      ],
      "source": [
        "precision_recall= average_precision_score(y_test_br10, pred)\n",
        "precision_xgb_br10 = precision_score(y_test_br10, pred)\n",
        "recall = recall_score(y_test_br10, pred)\n",
        "auc  = roc_auc_score(y_test_br10, pred)\n",
        "f1_xgb_br10 = f1_score(y_test_br10, pred)\n",
        "\n",
        "print('AUC: ', np.mean(auc))\n",
        "print('Precision: ', np.mean(precision_xgb_br10))\n",
        "print('Recall: ', np.mean(recall))\n",
        "print('Precision-Recall: ', np.mean(precision_recall))\n",
        "print('F1-score: ', np.mean(f1_xgb_br10))"
      ]
    },
    {
      "cell_type": "code",
      "execution_count": 91,
      "metadata": {
        "colab": {
          "base_uri": "https://localhost:8080/"
        },
        "id": "Wg2F4kiWPI6W",
        "outputId": "7813a71b-e8a8-4b60-921f-e2640816bb6a"
      },
      "outputs": [
        {
          "name": "stdout",
          "output_type": "stream",
          "text": [
            "              precision    recall  f1-score   support\n",
            "\n",
            "           0       1.00      1.00      1.00     12300\n",
            "           1       1.00      0.80      0.89       123\n",
            "\n",
            "    accuracy                           1.00     12423\n",
            "   macro avg       1.00      0.90      0.95     12423\n",
            "weighted avg       1.00      1.00      1.00     12423\n",
            "\n"
          ]
        }
      ],
      "source": [
        "# base rate = 1:100\n",
        "pred = model.predict(X_test_br100)\n",
        "print (classification_report(y_test_br100, pred))"
      ]
    },
    {
      "cell_type": "code",
      "execution_count": 92,
      "metadata": {
        "colab": {
          "base_uri": "https://localhost:8080/"
        },
        "id": "yXvXnmYvPL-5",
        "outputId": "b934f57c-574d-4278-ba17-e525c6a42cd0"
      },
      "outputs": [
        {
          "name": "stdout",
          "output_type": "stream",
          "text": [
            "AUC:  0.9024390243902439\n",
            "Precision:  1.0\n",
            "Recall:  0.8048780487804879\n",
            "Precision-Recall:  0.8068099492876117\n",
            "F1-score:  0.8918918918918919\n"
          ]
        }
      ],
      "source": [
        "precision_recall= average_precision_score(y_test_br100, pred)\n",
        "precision_xgb_br100 = precision_score(y_test_br100, pred)\n",
        "recall = recall_score(y_test_br100, pred)\n",
        "auc  = roc_auc_score(y_test_br100, pred)\n",
        "f1_xgb_br100 = f1_score(y_test_br100, pred)\n",
        "\n",
        "print('AUC: ', np.mean(auc))\n",
        "print('Precision: ', np.mean(precision_xgb_br100))\n",
        "print('Recall: ', np.mean(recall))\n",
        "print('Precision-Recall: ', np.mean(precision_recall))\n",
        "print('F1-score: ', np.mean(f1_xgb_br100))"
      ]
    },
    {
      "cell_type": "code",
      "execution_count": 93,
      "metadata": {
        "colab": {
          "base_uri": "https://localhost:8080/"
        },
        "id": "EVMO157APQ-i",
        "outputId": "dbaa0533-f54d-4818-96aa-1389a535c6dc"
      },
      "outputs": [
        {
          "name": "stdout",
          "output_type": "stream",
          "text": [
            "              precision    recall  f1-score   support\n",
            "\n",
            "           0       1.00      1.00      1.00     71079\n",
            "           1       0.96      0.80      0.88       123\n",
            "\n",
            "    accuracy                           1.00     71202\n",
            "   macro avg       0.98      0.90      0.94     71202\n",
            "weighted avg       1.00      1.00      1.00     71202\n",
            "\n"
          ]
        }
      ],
      "source": [
        "# base rate = 1:577.87\n",
        "pred = model.predict(X_test_brreal)\n",
        "print (classification_report(y_test_brreal, pred))"
      ]
    },
    {
      "cell_type": "code",
      "execution_count": 94,
      "metadata": {
        "colab": {
          "base_uri": "https://localhost:8080/"
        },
        "id": "3CByRJCHPU4e",
        "outputId": "9f10b9a9-bcdc-46f7-9181-ef565c5fbb02"
      },
      "outputs": [
        {
          "name": "stdout",
          "output_type": "stream",
          "text": [
            "AUC:  0.9024108866843111\n",
            "Precision:  0.9611650485436893\n",
            "Recall:  0.8048780487804879\n",
            "Precision-Recall:  0.7739577180112974\n",
            "F1-score:  0.8761061946902655\n"
          ]
        }
      ],
      "source": [
        "precision_recall= average_precision_score(y_test_brreal, pred)\n",
        "precision_xgb_brreal = precision_score(y_test_brreal, pred)\n",
        "recall = recall_score(y_test_brreal, pred)\n",
        "auc  = roc_auc_score(y_test_brreal, pred)\n",
        "f1_xgb_brreal = f1_score(y_test_brreal, pred)\n",
        "\n",
        "print('AUC: ', np.mean(auc))\n",
        "print('Precision: ', np.mean(precision_xgb_brreal))\n",
        "print('Recall: ', np.mean(recall))\n",
        "print('Precision-Recall: ', np.mean(precision_recall))\n",
        "print('F1-score: ', np.mean(f1_xgb_brreal))"
      ]
    },
    {
      "cell_type": "code",
      "execution_count": 123,
      "metadata": {
        "colab": {
          "base_uri": "https://localhost:8080/",
          "height": 365
        },
        "id": "6_wU1DDlC-Ol",
        "outputId": "012e3617-4229-4e73-e4fe-6d1438740974"
      },
      "outputs": [
        {
          "data": {
            "image/png": "[encoded data removed]",
            "text/plain": [
              "<Figure size 576x396 with 1 Axes>"
            ]
          },
          "metadata": {},
          "output_type": "display_data"
        }
      ],
      "source": [
        "# F1 score plot\n",
        "import matplotlib.pyplot as plt\n",
        "import matplotlib.legend as legend\n",
        "index = [577.87, 100, 10, 1]\n",
        "\n",
        "LR=[np.mean(f1_lr_br1), np.mean(f1_lr_br10), np.mean(f1_lr_br100), np.mean(f1_lr_brreal)]\n",
        "lr,=plt.plot(index, LR, 'ro-')\n",
        "\n",
        "RF=[np.mean(f1_rf_br1), np.mean(f1_rf_br10), np.mean(f1_rf_br100),np.mean(f1_rf_brreal)]\n",
        "rf,=plt.plot(index, RF, 'go-')\n",
        "\n",
        "MLP=[np.mean(f1_mlp_br1), np.mean(f1_mlp_br10), np.mean(f1_mlp_br100), np.mean(f1_mlp_brreal)]\n",
        "mlp,=plt.plot(index, MLP, 'bo-')\n",
        "\n",
        "XGB=[np.mean(f1_xgb_br1), np.mean(f1_xgb_br10), np.mean(f1_xgb_br100), np.mean(f1_xgb_brreal)]\n",
        "xgb,=plt.plot(index, XGB, 'yo-')\n",
        "\n",
        "plt.legend([lr, rf, mlp, xgb],['Logistic Regression','Random Forest','MLP', 'XGBoost(Ours)'])\n",
        "plt.xlim([-50, 600])\n",
        "plt.ylim([0.6, 0.9])\n",
        "plt.xlabel('Base rate')\n",
        "plt.ylabel('F1 score')\n",
        "plt.grid(True)\n",
        "plt.show()"
      ]
    },
    {
      "cell_type": "code",
      "execution_count": 122,
      "metadata": {
        "colab": {
          "base_uri": "https://localhost:8080/",
          "height": 361
        },
        "id": "njNmGVGwtLM9",
        "outputId": "10816c17-6543-4542-f46b-4b1a716f995e"
      },
      "outputs": [
        {
          "data": {
            "image/png": "[encoded data removed]",
            "text/plain": [
              "<Figure size 576x396 with 1 Axes>"
            ]
          },
          "metadata": {},
          "output_type": "display_data"
        }
      ],
      "source": [
        "# Precision plot\n",
        "import matplotlib.pyplot as plt\n",
        "import matplotlib.legend as legend\n",
        "index = [577.87, 100, 10, 1]\n",
        "\n",
        "LR=[np.mean(precision_lr_br1), np.mean(precision_lr_br10), np.mean(precision_lr_br100), np.mean(precision_lr_brreal)]\n",
        "lr,=plt.plot(index, LR, 'ro-')\n",
        "\n",
        "RF=[np.mean(precision_rf_br1), np.mean(precision_rf_br10), np.mean(precision_rf_br100),np.mean(precision_rf_brreal)]\n",
        "rf,=plt.plot(index, RF, 'go-')\n",
        "\n",
        "MLP=[np.mean(precision_mlp_br1), np.mean(precision_mlp_br10), np.mean(precision_mlp_br100), np.mean(precision_mlp_brreal)]\n",
        "mlp,=plt.plot(index, MLP, 'bo-')\n",
        "\n",
        "XGB=[np.mean(precision_xgb_br1), np.mean(precision_xgb_br10), np.mean(precision_xgb_br100), np.mean(precision_xgb_brreal)]\n",
        "xgb,=plt.plot(index, XGB, 'yo-')\n",
        "\n",
        "plt.legend([lr, rf, mlp, xgb],['Logistic Regression','Random Forest','MLP', 'XGBoost(Ours)'])\n",
        "plt.xlim([-50, 600])\n",
        "plt.ylim([0.45, 1.05])\n",
        "plt.xlabel('Base rate')\n",
        "plt.ylabel('Precision')\n",
        "plt.grid(True)\n",
        "plt.show()"
      ]
    }
  ],
  "metadata": {
    "accelerator": "GPU",
    "colab": {
      "provenance": []
    },
    "gpuClass": "standard",
    "kernelspec": {
      "display_name": "Python 3.9.2 ('venv': venv)",
      "language": "python",
      "name": "python3"
    },
    "language_info": {
      "name": "python",
      "version": "3.9.2"
    },
    "vscode": {
      "interpreter": {
        "hash": "879eeae299f97b1ccbe213a1109df6d220ce18b0c366d398eb039195cda6534f"
      }
    }
  },
  "nbformat": 4,
  "nbformat_minor": 0
}
