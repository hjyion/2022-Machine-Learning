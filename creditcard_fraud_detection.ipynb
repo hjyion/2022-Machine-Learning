{
  "nbformat": 4,
  "nbformat_minor": 0,
  "metadata": {
    "colab": {
      "provenance": []
    },
    "kernelspec": {
      "name": "python3",
      "display_name": "Python 3"
    },
    "language_info": {
      "name": "python"
    },
    "accelerator": "GPU",
    "gpuClass": "standard"
  },
  "cells": [
    {
      "cell_type": "code",
      "execution_count": 1,
      "metadata": {
        "colab": {
          "base_uri": "https://localhost:8080/"
        },
        "id": "EKSmGK8X5d_X",
        "outputId": "1404f77e-0941-4c6e-95ec-3de4673deb09"
      },
      "outputs": [
        {
          "output_type": "stream",
          "name": "stdout",
          "text": [
            "Drive already mounted at /content/drive; to attempt to forcibly remount, call drive.mount(\"/content/drive\", force_remount=True).\n"
          ]
        }
      ],
      "source": [
        "from google.colab import drive\n",
        "import pandas as pd\n",
        "drive.mount('/content/drive')\n",
        "data = pd.read_csv('/content/drive/MyDrive/creditcard.csv')"
      ]
    },
    {
      "cell_type": "code",
      "source": [
        "import matplotlib.pyplot as plt\n",
        "import seaborn as sns\n",
        "import numpy as np"
      ],
      "metadata": {
        "id": "YwDUTa_y9Wga"
      },
      "execution_count": 2,
      "outputs": []
    },
    {
      "cell_type": "code",
      "source": [
        "from sklearn.model_selection import train_test_split\n",
        "x = data.drop(columns='Class', axis=1)\n",
        "y = data['Class']\n",
        "train_x, test_x, train_y, test_y = train_test_split(x, y, test_size=0.25, stratify=y, shuffle=True, random_state=10)"
      ],
      "metadata": {
        "id": "X7Qt8Ebf9aYq"
      },
      "execution_count": 3,
      "outputs": []
    },
    {
      "cell_type": "code",
      "source": [
        "from sklearn.metrics import confusion_matrix, classification_report, roc_curve, roc_auc_score, recall_score, precision_score ,average_precision_score, precision_recall_curve, f1_score"
      ],
      "metadata": {
        "id": "5QLM4iHfE0Jq"
      },
      "execution_count": 4,
      "outputs": []
    },
    {
      "cell_type": "markdown",
      "source": [
        "실험 시나리오 1 - xgboost"
      ],
      "metadata": {
        "id": "EE_Ae8_Wb-24"
      }
    },
    {
      "cell_type": "code",
      "source": [
        "from xgboost import XGBClassifier\n",
        "model = XGBClassifier(n_estimators=100, learning_rate=0.2, max_depth=4, random_state=32)\n",
        "model.fit(train_x, train_y)"
      ],
      "metadata": {
        "colab": {
          "base_uri": "https://localhost:8080/"
        },
        "id": "xK6vT5qnaTgW",
        "outputId": "174287c3-6656-4972-b267-65a300d9e55d"
      },
      "execution_count": 5,
      "outputs": [
        {
          "output_type": "execute_result",
          "data": {
            "text/plain": [
              "XGBClassifier(learning_rate=0.2, max_depth=4, random_state=32)"
            ]
          },
          "metadata": {},
          "execution_count": 5
        }
      ]
    },
    {
      "cell_type": "code",
      "source": [
        "pred = model.predict(test_x)\n",
        "print (classification_report(test_y, pred))"
      ],
      "metadata": {
        "colab": {
          "base_uri": "https://localhost:8080/"
        },
        "id": "Rq2yHXIxaU5e",
        "outputId": "1154a6c3-1342-482f-fd09-c5e9c853dd73"
      },
      "execution_count": 6,
      "outputs": [
        {
          "output_type": "stream",
          "name": "stdout",
          "text": [
            "              precision    recall  f1-score   support\n",
            "\n",
            "           0       1.00      1.00      1.00     71079\n",
            "           1       0.96      0.80      0.88       123\n",
            "\n",
            "    accuracy                           1.00     71202\n",
            "   macro avg       0.98      0.90      0.94     71202\n",
            "weighted avg       1.00      1.00      1.00     71202\n",
            "\n"
          ]
        }
      ]
    },
    {
      "cell_type": "code",
      "source": [
        "cf_matrix = confusion_matrix(test_y, pred)\n",
        "sns.heatmap(cf_matrix, annot=True, linewidths=0.1, cmap=\"Blues\", fmt='d', linecolor='lightblue')"
      ],
      "metadata": {
        "colab": {
          "base_uri": "https://localhost:8080/",
          "height": 284
        },
        "id": "6dM0nJ01kBUK",
        "outputId": "795e3864-6f1d-45e0-f5e3-6ffa1d189935"
      },
      "execution_count": 7,
      "outputs": [
        {
          "output_type": "execute_result",
          "data": {
            "text/plain": [
              "<matplotlib.axes._subplots.AxesSubplot at 0x7f519a1b8bb0>"
            ]
          },
          "metadata": {},
          "execution_count": 7
        },
        {
          "output_type": "display_data",
          "data": {
            "text/plain": [
              "<Figure size 432x288 with 2 Axes>"
            ],
            "image/png": "[encoded data removed]"
          },
          "metadata": {
            "needs_background": "light"
          }
        }
      ]
    },
    {
      "cell_type": "code",
      "source": [
        "precision_recall= average_precision_score(test_y, pred)\n",
        "precision = precision_score(test_y, pred)\n",
        "recall = recall_score(test_y, pred)\n",
        "auc  = roc_auc_score(test_y, pred)\n",
        "f1 = f1_score(test_y, pred)\n",
        "\n",
        "print('AUC: ', np.mean(auc))\n",
        "print('Precision: ', np.mean(precision))\n",
        "print('Recall: ', np.mean(recall))\n",
        "print('Precision-Recall: ', np.mean(precision_recall))\n",
        "print('F1-score: ', np.mean(f1))"
      ],
      "metadata": {
        "colab": {
          "base_uri": "https://localhost:8080/"
        },
        "id": "h9gCdt5kacpe",
        "outputId": "c9d04b7d-5bf3-45d0-9db1-1c6e25c32f73"
      },
      "execution_count": 8,
      "outputs": [
        {
          "output_type": "stream",
          "name": "stdout",
          "text": [
            "AUC:  0.9024108866843111\n",
            "Precision:  0.9611650485436893\n",
            "Recall:  0.8048780487804879\n",
            "Precision-Recall:  0.7739577180112974\n",
            "F1-score:  0.8761061946902655\n"
          ]
        }
      ]
    },
    {
      "cell_type": "code",
      "source": [
        "roc_auc_xgboost = np.mean(auc)\n",
        "fpr_xgboost, tpr_xgboost, thresholds_xgboost = roc_curve(test_y, pred)\n",
        "\n",
        "# plot \n",
        "plt.figure(figsize=(11,7))\n",
        "plt.plot(fpr_xgboost, tpr_xgboost, color='green', label='AUC: {}'.format(roc_auc_xgboost))\n",
        "plt.fill_between(fpr_xgboost, tpr_xgboost, color='lightgreen', alpha=0.3)\n",
        "plt.plot([0,1], [0,1], color='black', ls='--', label='Reference line')\n",
        "plt.xlabel('False Positive Rate', fontsize=14)\n",
        "plt.ylabel('True Positive Rate', fontsize=14)\n",
        "plt.title('ROC XGboost', fontsize=16)\n",
        "plt.legend(loc=4, fontsize=14)\n",
        "plt.grid(False)\n",
        "plt.show()"
      ],
      "metadata": {
        "colab": {
          "base_uri": "https://localhost:8080/",
          "height": 464
        },
        "id": "SwU0mvX8bMUN",
        "outputId": "038b5076-3ddc-4bc3-98fd-40d8dc955c9e"
      },
      "execution_count": 9,
      "outputs": [
        {
          "output_type": "display_data",
          "data": {
            "text/plain": [
              "<Figure size 792x504 with 1 Axes>"
            ],
            "image/png": "[encoded data removed]"
          },
          "metadata": {
            "needs_background": "light"
          }
        }
      ]
    },
    {
      "cell_type": "code",
      "source": [
        "from yellowbrick.classifier import PrecisionRecallCurve, ConfusionMatrix\n",
        "# Precision-Recall \n",
        "# yellowbrick 이용\n",
        "plt.figure(figsize=(11,7))\n",
        "plt.title('Precision-Recall XGboost')\n",
        "plt.xlabel('Recall')\n",
        "plt.ylabel('Precision')\n",
        "prcur = PrecisionRecallCurve(model)\n",
        "prcur.fit(train_x, train_y)\n",
        "prcur.score(test_x, test_y)"
      ],
      "metadata": {
        "colab": {
          "base_uri": "https://localhost:8080/",
          "height": 475
        },
        "id": "k1Uy3Rwtbcr0",
        "outputId": "0d44a7d5-9845-471c-8fdb-c985b27f0b05"
      },
      "execution_count": 10,
      "outputs": [
        {
          "output_type": "execute_result",
          "data": {
            "text/plain": [
              "0.8524349481409097"
            ]
          },
          "metadata": {},
          "execution_count": 10
        },
        {
          "output_type": "display_data",
          "data": {
            "text/plain": [
              "<Figure size 792x504 with 1 Axes>"
            ],
            "image/png": "[encoded data removed]"
          },
          "metadata": {}
        }
      ]
    },
    {
      "cell_type": "code",
      "source": [
        "#default threshold = 0.5\n",
        "plt.figure(figsize=(10, 8))\n",
        "pred_prob = model.predict_proba(test_x)[:, 1]\n",
        "precisions, recalls, thresholds = precision_recall_curve(test_y, pred_prob)\n",
        "plt.plot(thresholds, precisions[:len(thresholds)], label='precision')\n",
        "plt.plot(thresholds, recalls[:len(thresholds)], label='recall')\n",
        "plt.grid()\n",
        "plt.legend()\n",
        "plt.show()"
      ],
      "metadata": {
        "colab": {
          "base_uri": "https://localhost:8080/",
          "height": 483
        },
        "id": "pB3QiEc_vbYX",
        "outputId": "5a103107-9fc6-485f-f078-da20fa8f8654"
      },
      "execution_count": 11,
      "outputs": [
        {
          "output_type": "display_data",
          "data": {
            "text/plain": [
              "<Figure size 720x576 with 1 Axes>"
            ],
            "image/png": "[encoded data removed]"
          },
          "metadata": {}
        }
      ]
    },
    {
      "cell_type": "markdown",
      "source": [
        "실험 시나리오 2 - 다른 모델들과 비교 (Logistic Regression, KNN, RandomForest, MLP)"
      ],
      "metadata": {
        "id": "YqS00j62cGM8"
      }
    },
    {
      "cell_type": "markdown",
      "source": [
        "1. Logistic Regression"
      ],
      "metadata": {
        "id": "Le_zQXwjk_s1"
      }
    },
    {
      "cell_type": "code",
      "source": [
        "from sklearn.linear_model import LogisticRegression"
      ],
      "metadata": {
        "id": "sFvQFYt7cJg9"
      },
      "execution_count": 12,
      "outputs": []
    },
    {
      "cell_type": "code",
      "source": [
        "lr = LogisticRegression(random_state=32)\n",
        "lr.fit(train_x, train_y)"
      ],
      "metadata": {
        "colab": {
          "base_uri": "https://localhost:8080/"
        },
        "id": "F-6oyO9BcU-c",
        "outputId": "827f9982-1911-4f2e-db1f-1e6d3d12ec77"
      },
      "execution_count": 13,
      "outputs": [
        {
          "output_type": "stream",
          "name": "stderr",
          "text": [
            "/usr/local/lib/python3.8/dist-packages/sklearn/linear_model/_logistic.py:814: ConvergenceWarning: lbfgs failed to converge (status=1):\n",
            "STOP: TOTAL NO. of ITERATIONS REACHED LIMIT.\n",
            "\n",
            "Increase the number of iterations (max_iter) or scale the data as shown in:\n",
            "    https://scikit-learn.org/stable/modules/preprocessing.html\n",
            "Please also refer to the documentation for alternative solver options:\n",
            "    https://scikit-learn.org/stable/modules/linear_model.html#logistic-regression\n",
            "  n_iter_i = _check_optimize_result(\n"
          ]
        },
        {
          "output_type": "execute_result",
          "data": {
            "text/plain": [
              "LogisticRegression(random_state=32)"
            ]
          },
          "metadata": {},
          "execution_count": 13
        }
      ]
    },
    {
      "cell_type": "code",
      "source": [
        "pred = lr.predict(test_x)\n",
        "print (classification_report(test_y, pred))"
      ],
      "metadata": {
        "colab": {
          "base_uri": "https://localhost:8080/"
        },
        "id": "WxZVPwzUceQx",
        "outputId": "1ce1e2b1-e9bf-4194-9917-2464d01687fc"
      },
      "execution_count": 14,
      "outputs": [
        {
          "output_type": "stream",
          "name": "stdout",
          "text": [
            "              precision    recall  f1-score   support\n",
            "\n",
            "           0       1.00      1.00      1.00     71079\n",
            "           1       0.72      0.70      0.71       123\n",
            "\n",
            "    accuracy                           1.00     71202\n",
            "   macro avg       0.86      0.85      0.85     71202\n",
            "weighted avg       1.00      1.00      1.00     71202\n",
            "\n"
          ]
        }
      ]
    },
    {
      "cell_type": "code",
      "source": [
        "cf_matrix = confusion_matrix(test_y, pred)\n",
        "sns.heatmap(cf_matrix, annot=True, linewidths=0.1, cmap=\"Blues\", fmt='d', linecolor='lightblue')"
      ],
      "metadata": {
        "colab": {
          "base_uri": "https://localhost:8080/",
          "height": 365
        },
        "id": "K-0QR-N-knYf",
        "outputId": "278a1cc7-8b2d-41c8-c858-31598a0cfe29"
      },
      "execution_count": 15,
      "outputs": [
        {
          "output_type": "execute_result",
          "data": {
            "text/plain": [
              "<matplotlib.axes._subplots.AxesSubplot at 0x7f5192b11a60>"
            ]
          },
          "metadata": {},
          "execution_count": 15
        },
        {
          "output_type": "display_data",
          "data": {
            "text/plain": [
              "<Figure size 576x396 with 2 Axes>"
            ],
            "image/png": "[encoded data removed]"
          },
          "metadata": {}
        }
      ]
    },
    {
      "cell_type": "code",
      "source": [
        "precision_recall= average_precision_score(test_y, pred)\n",
        "precision = precision_score(test_y, pred)\n",
        "recall = recall_score(test_y, pred)\n",
        "auc  = roc_auc_score(test_y, pred)\n",
        "f1 = f1_score(test_y, pred)\n",
        "\n",
        "print('AUC: ', np.mean(auc))\n",
        "print('Precision: ', np.mean(precision))\n",
        "print('Recall: ', np.mean(recall))\n",
        "print('Precision-Recall: ', np.mean(precision_recall))\n",
        "print('F1-score: ', np.mean(f1))"
      ],
      "metadata": {
        "colab": {
          "base_uri": "https://localhost:8080/"
        },
        "id": "Cf-kjOYcc2fU",
        "outputId": "70a7f772-269e-411b-efbd-1c207e16affe"
      },
      "execution_count": 16,
      "outputs": [
        {
          "output_type": "stream",
          "name": "stdout",
          "text": [
            "AUC:  0.8493543254345303\n",
            "Precision:  0.7166666666666667\n",
            "Recall:  0.6991869918699187\n",
            "Precision-Recall:  0.5016036591645937\n",
            "F1-score:  0.7078189300411523\n"
          ]
        }
      ]
    },
    {
      "cell_type": "markdown",
      "source": [
        "2. KNN (n_neighbors = 3) - 보류"
      ],
      "metadata": {
        "id": "I7kZUPHmlB1F"
      }
    },
    {
      "cell_type": "code",
      "source": [
        "from sklearn.neighbors import KNeighborsClassifier"
      ],
      "metadata": {
        "id": "AScIgSbkdvI_"
      },
      "execution_count": 17,
      "outputs": []
    },
    {
      "cell_type": "code",
      "source": [
        "knn = KNeighborsClassifier(n_neighbors=3)\n",
        "knn.fit(train_x, train_y)"
      ],
      "metadata": {
        "colab": {
          "base_uri": "https://localhost:8080/"
        },
        "id": "AOAsHEr1eBGm",
        "outputId": "2738f167-d3e1-49b6-af6d-4c3b49068003"
      },
      "execution_count": 18,
      "outputs": [
        {
          "output_type": "execute_result",
          "data": {
            "text/plain": [
              "KNeighborsClassifier(n_neighbors=3)"
            ]
          },
          "metadata": {},
          "execution_count": 18
        }
      ]
    },
    {
      "cell_type": "code",
      "source": [
        "pred = knn.predict(test_x)\n",
        "print (classification_report(test_y, pred))"
      ],
      "metadata": {
        "colab": {
          "base_uri": "https://localhost:8080/"
        },
        "id": "d7VDrRY_mtpl",
        "outputId": "ed30d7a4-16b9-416b-f4cd-232a4e32fb53"
      },
      "execution_count": 19,
      "outputs": [
        {
          "output_type": "stream",
          "name": "stdout",
          "text": [
            "              precision    recall  f1-score   support\n",
            "\n",
            "           0       1.00      1.00      1.00     71079\n",
            "           1       0.88      0.06      0.11       123\n",
            "\n",
            "    accuracy                           1.00     71202\n",
            "   macro avg       0.94      0.53      0.55     71202\n",
            "weighted avg       1.00      1.00      1.00     71202\n",
            "\n"
          ]
        }
      ]
    },
    {
      "cell_type": "code",
      "source": [
        "cf_matrix = confusion_matrix(test_y, pred)\n",
        "sns.heatmap(cf_matrix, annot=True, linewidths=0.1, cmap=\"Blues\", fmt='d', linecolor='lightblue')"
      ],
      "metadata": {
        "colab": {
          "base_uri": "https://localhost:8080/",
          "height": 365
        },
        "id": "f9R242VLk7_c",
        "outputId": "66c1ccae-cc06-43be-c71c-d478f15b2de8"
      },
      "execution_count": 20,
      "outputs": [
        {
          "output_type": "execute_result",
          "data": {
            "text/plain": [
              "<matplotlib.axes._subplots.AxesSubplot at 0x7f5192a42c70>"
            ]
          },
          "metadata": {},
          "execution_count": 20
        },
        {
          "output_type": "display_data",
          "data": {
            "text/plain": [
              "<Figure size 576x396 with 2 Axes>"
            ],
            "image/png": "[encoded data removed]"
          },
          "metadata": {}
        }
      ]
    },
    {
      "cell_type": "code",
      "source": [
        "precision_recall= average_precision_score(test_y, pred)\n",
        "precision = precision_score(test_y, pred)\n",
        "recall = recall_score(test_y, pred)\n",
        "auc  = roc_auc_score(test_y, pred)\n",
        "f1 = f1_score(test_y, pred)\n",
        "\n",
        "print('AUC: ', np.mean(auc))\n",
        "print('Precision: ', np.mean(precision))\n",
        "print('Recall: ', np.mean(recall))\n",
        "print('Precision-Recall: ', np.mean(precision_recall))\n",
        "print('F1-score: ', np.mean(f1))"
      ],
      "metadata": {
        "colab": {
          "base_uri": "https://localhost:8080/"
        },
        "id": "P2Izq1WunQ4e",
        "outputId": "394b5620-cc53-4a52-87de-746ff5e96cc1"
      },
      "execution_count": 21,
      "outputs": [
        {
          "output_type": "stream",
          "name": "stdout",
          "text": [
            "AUC:  0.5284482501263623\n",
            "Precision:  0.875\n",
            "Recall:  0.056910569105691054\n",
            "Precision-Recall:  0.05142591568748754\n",
            "F1-score:  0.10687022900763359\n"
          ]
        }
      ]
    },
    {
      "cell_type": "markdown",
      "source": [
        "3. Random Forest"
      ],
      "metadata": {
        "id": "aGjLFbkcl4P8"
      }
    },
    {
      "cell_type": "code",
      "source": [
        "from sklearn.ensemble import RandomForestClassifier\n",
        "rfc = RandomForestClassifier(n_estimators=100, random_state=32)\n",
        "rfc.fit(train_x, train_y)"
      ],
      "metadata": {
        "colab": {
          "base_uri": "https://localhost:8080/"
        },
        "id": "5CsaDS4vEE4W",
        "outputId": "5a873e43-1317-46ee-b844-49d1f2091076"
      },
      "execution_count": 22,
      "outputs": [
        {
          "output_type": "execute_result",
          "data": {
            "text/plain": [
              "RandomForestClassifier(random_state=32)"
            ]
          },
          "metadata": {},
          "execution_count": 22
        }
      ]
    },
    {
      "cell_type": "code",
      "source": [
        "pred = rfc.predict(test_x)\n",
        "print (classification_report(test_y, pred))"
      ],
      "metadata": {
        "id": "AU3GdVkdE5cL",
        "colab": {
          "base_uri": "https://localhost:8080/"
        },
        "outputId": "fcc622d1-76dc-4c27-8540-d91ecd4640df"
      },
      "execution_count": 23,
      "outputs": [
        {
          "output_type": "stream",
          "name": "stdout",
          "text": [
            "              precision    recall  f1-score   support\n",
            "\n",
            "           0       1.00      1.00      1.00     71079\n",
            "           1       0.97      0.76      0.85       123\n",
            "\n",
            "    accuracy                           1.00     71202\n",
            "   macro avg       0.98      0.88      0.93     71202\n",
            "weighted avg       1.00      1.00      1.00     71202\n",
            "\n"
          ]
        }
      ]
    },
    {
      "cell_type": "code",
      "source": [
        "cf_matrix = confusion_matrix(test_y, pred)\n",
        "sns.heatmap(cf_matrix, annot=True, linewidths=0.1, cmap=\"Blues\", fmt='d', linecolor='lightblue')"
      ],
      "metadata": {
        "colab": {
          "base_uri": "https://localhost:8080/",
          "height": 365
        },
        "id": "7RZHHnVGn7XO",
        "outputId": "e72d467d-47ef-48b3-868e-e7d1eab61d95"
      },
      "execution_count": 24,
      "outputs": [
        {
          "output_type": "execute_result",
          "data": {
            "text/plain": [
              "<matplotlib.axes._subplots.AxesSubplot at 0x7f51925d3310>"
            ]
          },
          "metadata": {},
          "execution_count": 24
        },
        {
          "output_type": "display_data",
          "data": {
            "text/plain": [
              "<Figure size 576x396 with 2 Axes>"
            ],
            "image/png": "[encoded data removed]"
          },
          "metadata": {}
        }
      ]
    },
    {
      "cell_type": "code",
      "source": [
        "precision_recall= average_precision_score(test_y, pred)\n",
        "precision = precision_score(test_y, pred)\n",
        "recall = recall_score(test_y, pred)\n",
        "auc  = roc_auc_score(test_y, pred)\n",
        "f1 = f1_score(test_y, pred)\n",
        "\n",
        "print('AUC: ', np.mean(auc))\n",
        "print('Precision: ', np.mean(precision))\n",
        "print('Recall: ', np.mean(recall))\n",
        "print('Precision-Recall: ', np.mean(precision_recall))\n",
        "print('F1-score: ', np.mean(f1))"
      ],
      "metadata": {
        "colab": {
          "base_uri": "https://localhost:8080/"
        },
        "id": "Si2zezrbgw6C",
        "outputId": "74a326ca-46f7-4688-9ea6-cf66b69590ec"
      },
      "execution_count": 25,
      "outputs": [
        {
          "output_type": "stream",
          "name": "stdout",
          "text": [
            "AUC:  0.8820927178587616\n",
            "Precision:  0.9690721649484536\n",
            "Recall:  0.7642276422764228\n",
            "Precision-Recall:  0.7409990277442674\n",
            "F1-score:  0.8545454545454546\n"
          ]
        }
      ]
    },
    {
      "cell_type": "markdown",
      "source": [
        "4. Neural Network (MLP)"
      ],
      "metadata": {
        "id": "Ry9HkI2KmnVw"
      }
    },
    {
      "cell_type": "code",
      "source": [
        "from sklearn.neural_network import MLPClassifier"
      ],
      "metadata": {
        "id": "wdcTv5jB40nu"
      },
      "execution_count": 26,
      "outputs": []
    },
    {
      "cell_type": "code",
      "source": [
        "mlp = MLPClassifier()\n",
        "mlp.fit(train_x, train_y)"
      ],
      "metadata": {
        "colab": {
          "base_uri": "https://localhost:8080/"
        },
        "id": "FnSrwFl040fE",
        "outputId": "06375947-34c0-4a37-e8d9-594a629428fe"
      },
      "execution_count": 31,
      "outputs": [
        {
          "output_type": "execute_result",
          "data": {
            "text/plain": [
              "MLPClassifier()"
            ]
          },
          "metadata": {},
          "execution_count": 31
        }
      ]
    },
    {
      "cell_type": "code",
      "source": [
        "pred = mlp.predict(test_x)\n",
        "print (classification_report(test_y, pred))"
      ],
      "metadata": {
        "colab": {
          "base_uri": "https://localhost:8080/"
        },
        "id": "FLPNU0Sl40F5",
        "outputId": "06563ea8-7fe1-4ddd-c1c1-5e9304ae356a"
      },
      "execution_count": 32,
      "outputs": [
        {
          "output_type": "stream",
          "name": "stdout",
          "text": [
            "              precision    recall  f1-score   support\n",
            "\n",
            "           0       1.00      1.00      1.00     71079\n",
            "           1       0.59      0.70      0.64       123\n",
            "\n",
            "    accuracy                           1.00     71202\n",
            "   macro avg       0.79      0.85      0.82     71202\n",
            "weighted avg       1.00      1.00      1.00     71202\n",
            "\n"
          ]
        }
      ]
    },
    {
      "cell_type": "code",
      "source": [
        "cf_matrix = confusion_matrix(test_y, pred)\n",
        "sns.heatmap(cf_matrix, annot=True, linewidths=0.1, cmap=\"Blues\", fmt='d', linecolor='lightblue')"
      ],
      "metadata": {
        "colab": {
          "base_uri": "https://localhost:8080/",
          "height": 365
        },
        "id": "7qSRVo1jopP1",
        "outputId": "7778d553-d96c-43fc-f5f8-90fbf53dcacf"
      },
      "execution_count": 33,
      "outputs": [
        {
          "output_type": "execute_result",
          "data": {
            "text/plain": [
              "<matplotlib.axes._subplots.AxesSubplot at 0x7f51923b98b0>"
            ]
          },
          "metadata": {},
          "execution_count": 33
        },
        {
          "output_type": "display_data",
          "data": {
            "text/plain": [
              "<Figure size 576x396 with 2 Axes>"
            ],
            "image/png": "[encoded data removed]"
          },
          "metadata": {}
        }
      ]
    },
    {
      "cell_type": "code",
      "source": [
        "precision_recall= average_precision_score(test_y, pred)\n",
        "precision = precision_score(test_y, pred)\n",
        "recall = recall_score(test_y, pred)\n",
        "auc  = roc_auc_score(test_y, pred)\n",
        "f1 = f1_score(test_y, pred)\n",
        "\n",
        "print('AUC: ', np.mean(auc))\n",
        "print('Precision: ', np.mean(precision))\n",
        "print('Recall: ', np.mean(recall))\n",
        "print('Precision-Recall: ', np.mean(precision_recall))\n",
        "print('F1-score: ', np.mean(f1))"
      ],
      "metadata": {
        "colab": {
          "base_uri": "https://localhost:8080/"
        },
        "id": "1vMWtxir5W8f",
        "outputId": "f6050b3d-3294-4fa9-873a-53daabff0280"
      },
      "execution_count": 34,
      "outputs": [
        {
          "output_type": "stream",
          "name": "stdout",
          "text": [
            "AUC:  0.8491714303459668\n",
            "Precision:  0.589041095890411\n",
            "Recall:  0.6991869918699187\n",
            "Precision-Recall:  0.41236952024786205\n",
            "F1-score:  0.6394052044609665\n"
          ]
        }
      ]
    },
    {
      "cell_type": "markdown",
      "source": [
        "* oversampling 적용한 xgboost"
      ],
      "metadata": {
        "id": "esa--3Va5Z7u"
      }
    },
    {
      "cell_type": "code",
      "source": [
        "from imblearn.over_sampling import SMOTE\n",
        "smote = SMOTE(random_state=42)\n",
        "train_x_over, train_y_over = smote.fit_resample(train_x, train_y)\n",
        "print('Distribution of training set after applying SMOTE :\\n',pd.Series(train_y_over).value_counts() )"
      ],
      "metadata": {
        "colab": {
          "base_uri": "https://localhost:8080/"
        },
        "id": "tD50J_6anVjS",
        "outputId": "fff80741-9be4-4e50-d72d-370f47b03f49"
      },
      "execution_count": 35,
      "outputs": [
        {
          "output_type": "stream",
          "name": "stdout",
          "text": [
            "Distribution of training set after applying SMOTE :\n",
            " 0    213236\n",
            "1    213236\n",
            "Name: Class, dtype: int64\n"
          ]
        }
      ]
    },
    {
      "cell_type": "code",
      "source": [
        "from xgboost import XGBClassifier\n",
        "xgb = XGBClassifier()\n",
        "xgb.fit(train_x_over, train_y_over)"
      ],
      "metadata": {
        "colab": {
          "base_uri": "https://localhost:8080/"
        },
        "id": "cBxcOpGQ4tTT",
        "outputId": "55cc43ad-a796-49d8-aadb-ac0d666b9d30"
      },
      "execution_count": 36,
      "outputs": [
        {
          "output_type": "execute_result",
          "data": {
            "text/plain": [
              "XGBClassifier()"
            ]
          },
          "metadata": {},
          "execution_count": 36
        }
      ]
    },
    {
      "cell_type": "code",
      "source": [
        "pred = xgb.predict(test_x)\n",
        "print (classification_report(test_y, pred))"
      ],
      "metadata": {
        "colab": {
          "base_uri": "https://localhost:8080/"
        },
        "id": "WPfi0u4Lh-0Q",
        "outputId": "8a290ead-a491-4ad1-8b62-27076db7c2fe"
      },
      "execution_count": 37,
      "outputs": [
        {
          "output_type": "stream",
          "name": "stdout",
          "text": [
            "              precision    recall  f1-score   support\n",
            "\n",
            "           0       1.00      0.99      1.00     71079\n",
            "           1       0.22      0.88      0.35       123\n",
            "\n",
            "    accuracy                           0.99     71202\n",
            "   macro avg       0.61      0.94      0.67     71202\n",
            "weighted avg       1.00      0.99      1.00     71202\n",
            "\n"
          ]
        }
      ]
    },
    {
      "cell_type": "code",
      "source": [
        "cf_matrix = confusion_matrix(test_y, pred)\n",
        "sns.heatmap(cf_matrix, annot=True, linewidths=0.1, cmap=\"Blues\", fmt='d', linecolor='lightblue')"
      ],
      "metadata": {
        "colab": {
          "base_uri": "https://localhost:8080/",
          "height": 366
        },
        "id": "cihjhOu0ovOo",
        "outputId": "54ed4b50-09f2-43b9-b36f-c0fa1db57d27"
      },
      "execution_count": 38,
      "outputs": [
        {
          "output_type": "execute_result",
          "data": {
            "text/plain": [
              "<matplotlib.axes._subplots.AxesSubplot at 0x7f51913703a0>"
            ]
          },
          "metadata": {},
          "execution_count": 38
        },
        {
          "output_type": "display_data",
          "data": {
            "text/plain": [
              "<Figure size 576x396 with 2 Axes>"
            ],
            "image/png": "[encoded data removed]"
          },
          "metadata": {}
        }
      ]
    },
    {
      "cell_type": "code",
      "source": [
        "precision_recall= average_precision_score(test_y, pred)\n",
        "precision = precision_score(test_y, pred)\n",
        "recall = recall_score(test_y, pred)\n",
        "auc  = roc_auc_score(test_y, pred)\n",
        "f1 = f1_score(test_y, pred)\n",
        "\n",
        "print('AUC: ', np.mean(auc))\n",
        "print('Precision: ', np.mean(precision))\n",
        "print('Recall: ', np.mean(recall))\n",
        "print('Precision-Recall: ', np.mean(precision_recall))\n",
        "print('F1-score: ', np.mean(f1))"
      ],
      "metadata": {
        "colab": {
          "base_uri": "https://localhost:8080/"
        },
        "id": "gOkNJk-biOmO",
        "outputId": "4b63f9d1-b0af-46e7-f9bc-85079c8041b2"
      },
      "execution_count": 39,
      "outputs": [
        {
          "output_type": "stream",
          "name": "stdout",
          "text": [
            "AUC:  0.9363231704743503\n",
            "Precision:  0.21951219512195122\n",
            "Recall:  0.8780487804878049\n",
            "Precision-Recall:  0.19295308346868653\n",
            "F1-score:  0.35121951219512193\n"
          ]
        }
      ]
    },
    {
      "cell_type": "markdown",
      "source": [
        "실험 시나리오 3 - test set의 base rate를 변경하여 실험"
      ],
      "metadata": {
        "id": "mNTPXaLbnvXa"
      }
    },
    {
      "cell_type": "code",
      "source": [
        "# test dataset Class 0, 1 나누기\n",
        "test_x['Class'] = test_y\n",
        "\n",
        "index2 = test_x.index[test_x.Class == 0]\n",
        "test_1 = test_x.drop(index2, axis=0)\n",
        "index1 = test_x.index[test_x.Class == 1]\n",
        "test_0 = test_x.drop(index1, axis=0)\n",
        "\n",
        "print(test_0.shape)\n",
        "print(test_1.shape)"
      ],
      "metadata": {
        "colab": {
          "base_uri": "https://localhost:8080/"
        },
        "id": "wTANv33Q6BYx",
        "outputId": "19b1822c-2cf0-4799-caec-ed7f1b088da7"
      },
      "execution_count": null,
      "outputs": [
        {
          "output_type": "stream",
          "name": "stdout",
          "text": [
            "(71079, 31)\n",
            "(123, 31)\n"
          ]
        }
      ]
    },
    {
      "cell_type": "code",
      "source": [
        "# base rate 1:1인 test set\n",
        "test_0_br_1 = test_0.sample(n=len(test_1))\n",
        "test_br1 = pd.concat([test_0_br_1, test_1])\n",
        "test_br1 = test_br1.sample(frac=1)\n",
        "X_test_br1 = test_br1.drop('Class', axis=1)\n",
        "y_test_br1 = test_br1['Class']\n",
        "\n",
        "# base rate 1:10인 test set\n",
        "test_0_br_10 = test_0.sample(n=len(test_1)*10)\n",
        "test_br10 = pd.concat([test_0_br_10, test_1])\n",
        "test_br10 = test_br10.sample(frac=1)\n",
        "X_test_br10 = test_br10.drop('Class', axis=1)\n",
        "y_test_br10 = test_br10['Class']\n",
        "\n",
        "# base rate 1:100인 test set\n",
        "test_0_br_100 = test_0.sample(n=len(test_1)*100)\n",
        "test_br100 = pd.concat([test_0_br_100, test_1])\n",
        "test_br100 = test_br100.sample(frac=1)\n",
        "X_test_br100 = test_br100.drop('Class', axis=1)\n",
        "y_test_br100 = test_br100['Class']\n",
        "\n",
        "# base rate 1:577.87인 test set (원본)\n",
        "X_test_brreal = test_x.drop('Class', axis=1)\n",
        "y_test_brreal = test_x['Class']"
      ],
      "metadata": {
        "id": "7S3mNf2965FA"
      },
      "execution_count": null,
      "outputs": []
    },
    {
      "cell_type": "code",
      "source": [
        "print(X_test_br1.shape, y_test_br1.shape)\n",
        "print(X_test_br10.shape, y_test_br10.shape)\n",
        "print(X_test_br100.shape, y_test_br100.shape)\n",
        "print(X_test_brreal.shape, y_test_brreal.shape)"
      ],
      "metadata": {
        "colab": {
          "base_uri": "https://localhost:8080/"
        },
        "id": "iX3VwUVU7duS",
        "outputId": "a6f25d0e-0de8-45be-de64-020ad19c817a"
      },
      "execution_count": null,
      "outputs": [
        {
          "output_type": "stream",
          "name": "stdout",
          "text": [
            "(246, 30) (246,)\n",
            "(1353, 30) (1353,)\n",
            "(12423, 30) (12423,)\n",
            "(71202, 30) (71202,)\n"
          ]
        }
      ]
    },
    {
      "cell_type": "markdown",
      "source": [
        "1. Logistic Regression"
      ],
      "metadata": {
        "id": "R1oXIGwN9uj5"
      }
    },
    {
      "cell_type": "code",
      "source": [
        "from sklearn.linear_model import LogisticRegression\n",
        "lr = LogisticRegression(random_state=32)\n",
        "lr.fit(train_x, train_y)"
      ],
      "metadata": {
        "colab": {
          "base_uri": "https://localhost:8080/"
        },
        "id": "PXID0j0f74Gg",
        "outputId": "6450308f-df05-4fe9-fd7c-234e7ed9541c"
      },
      "execution_count": null,
      "outputs": [
        {
          "output_type": "stream",
          "name": "stderr",
          "text": [
            "/usr/local/lib/python3.8/dist-packages/sklearn/linear_model/_logistic.py:814: ConvergenceWarning: lbfgs failed to converge (status=1):\n",
            "STOP: TOTAL NO. of ITERATIONS REACHED LIMIT.\n",
            "\n",
            "Increase the number of iterations (max_iter) or scale the data as shown in:\n",
            "    https://scikit-learn.org/stable/modules/preprocessing.html\n",
            "Please also refer to the documentation for alternative solver options:\n",
            "    https://scikit-learn.org/stable/modules/linear_model.html#logistic-regression\n",
            "  n_iter_i = _check_optimize_result(\n"
          ]
        },
        {
          "output_type": "execute_result",
          "data": {
            "text/plain": [
              "LogisticRegression(random_state=32)"
            ]
          },
          "metadata": {},
          "execution_count": 58
        }
      ]
    },
    {
      "cell_type": "code",
      "source": [
        "# base rate = 1:1\n",
        "pred = lr.predict(X_test_br1)\n",
        "print (classification_report(y_test_br1, pred))"
      ],
      "metadata": {
        "colab": {
          "base_uri": "https://localhost:8080/"
        },
        "id": "PKxmaExr8D9z",
        "outputId": "6b202ea7-eaff-4bea-bd56-3d4a5c5d933e"
      },
      "execution_count": null,
      "outputs": [
        {
          "output_type": "stream",
          "name": "stdout",
          "text": [
            "              precision    recall  f1-score   support\n",
            "\n",
            "           0       0.76      1.00      0.87       123\n",
            "           1       1.00      0.69      0.82       123\n",
            "\n",
            "    accuracy                           0.85       246\n",
            "   macro avg       0.88      0.85      0.84       246\n",
            "weighted avg       0.88      0.85      0.84       246\n",
            "\n"
          ]
        }
      ]
    },
    {
      "cell_type": "code",
      "source": [
        "precision_recall= average_precision_score(y_test_br1, pred)\n",
        "precision_lr_br1 = precision_score(y_test_br1, pred)\n",
        "recall = recall_score(y_test_br1, pred)\n",
        "auc  = roc_auc_score(y_test_br1, pred)\n",
        "f1_lr_br1 = f1_score(y_test_br1, pred)\n",
        "\n",
        "print('AUC: ', np.mean(auc))\n",
        "print('Precision: ', np.mean(precision_lr_br1))\n",
        "print('Recall: ', np.mean(recall))\n",
        "print('Precision-Recall: ', np.mean(precision_recall))\n",
        "print('F1-score: ', np.mean(f1_lr_br1))"
      ],
      "metadata": {
        "colab": {
          "base_uri": "https://localhost:8080/"
        },
        "id": "qMDthLJU8ItH",
        "outputId": "6d5f109a-68ea-4f21-f370-be289750af38"
      },
      "execution_count": null,
      "outputs": [
        {
          "output_type": "stream",
          "name": "stdout",
          "text": [
            "AUC:  0.8455284552845528\n",
            "Precision:  1.0\n",
            "Recall:  0.6910569105691057\n",
            "Precision-Recall:  0.8455284552845528\n",
            "F1-score:  0.8173076923076924\n"
          ]
        }
      ]
    },
    {
      "cell_type": "code",
      "source": [
        "# base rate = 1:10\n",
        "pred = lr.predict(X_test_br10)\n",
        "print (classification_report(y_test_br10, pred))"
      ],
      "metadata": {
        "colab": {
          "base_uri": "https://localhost:8080/"
        },
        "id": "_s2cpk5g8nbO",
        "outputId": "4c9e5657-edda-4f2e-9a42-4676baf282fa"
      },
      "execution_count": null,
      "outputs": [
        {
          "output_type": "stream",
          "name": "stdout",
          "text": [
            "              precision    recall  f1-score   support\n",
            "\n",
            "           0       0.97      1.00      0.98      1230\n",
            "           1       1.00      0.69      0.82       123\n",
            "\n",
            "    accuracy                           0.97      1353\n",
            "   macro avg       0.99      0.85      0.90      1353\n",
            "weighted avg       0.97      0.97      0.97      1353\n",
            "\n"
          ]
        }
      ]
    },
    {
      "cell_type": "code",
      "source": [
        "precision_recall= average_precision_score(y_test_br10, pred)\n",
        "precision_lr_br10 = precision_score(y_test_br10, pred)\n",
        "recall = recall_score(y_test_br10, pred)\n",
        "auc  = roc_auc_score(y_test_br10, pred)\n",
        "f1_lr_br10 = f1_score(y_test_br10, pred)\n",
        "\n",
        "print('AUC: ', np.mean(auc))\n",
        "print('Precision: ', np.mean(precision_lr_br10))\n",
        "print('Recall: ', np.mean(recall))\n",
        "print('Precision-Recall: ', np.mean(precision_recall))\n",
        "print('F1-score: ', np.mean(f1_lr_br10))"
      ],
      "metadata": {
        "colab": {
          "base_uri": "https://localhost:8080/"
        },
        "id": "16ylTt038ySn",
        "outputId": "f8e14430-5bdd-42d7-adf1-2eb9eb78754e"
      },
      "execution_count": null,
      "outputs": [
        {
          "output_type": "stream",
          "name": "stdout",
          "text": [
            "AUC:  0.8455284552845528\n",
            "Precision:  1.0\n",
            "Recall:  0.6910569105691057\n",
            "Precision-Recall:  0.7191426459719142\n",
            "F1-score:  0.8173076923076924\n"
          ]
        }
      ]
    },
    {
      "cell_type": "code",
      "source": [
        "# base rate = 1:100\n",
        "pred = lr.predict(X_test_br100)\n",
        "print (classification_report(y_test_br100, pred))"
      ],
      "metadata": {
        "colab": {
          "base_uri": "https://localhost:8080/"
        },
        "id": "DzjOQqUm82fh",
        "outputId": "40f6af4d-a30e-4b52-a4f6-9488b3ba11e3"
      },
      "execution_count": null,
      "outputs": [
        {
          "output_type": "stream",
          "name": "stdout",
          "text": [
            "              precision    recall  f1-score   support\n",
            "\n",
            "           0       1.00      1.00      1.00     12300\n",
            "           1       0.93      0.69      0.79       123\n",
            "\n",
            "    accuracy                           1.00     12423\n",
            "   macro avg       0.97      0.85      0.90     12423\n",
            "weighted avg       1.00      1.00      1.00     12423\n",
            "\n"
          ]
        }
      ]
    },
    {
      "cell_type": "code",
      "source": [
        "precision_recall= average_precision_score(y_test_br100, pred)\n",
        "precision_lr_br100 = precision_score(y_test_br100, pred)\n",
        "recall = recall_score(y_test_br100, pred)\n",
        "auc  = roc_auc_score(y_test_br100, pred)\n",
        "f1_lr_br100 = f1_score(y_test_br100, pred)\n",
        "\n",
        "print('AUC: ', np.mean(auc))\n",
        "print('Precision: ', np.mean(precision_lr_br100))\n",
        "print('Recall: ', np.mean(recall))\n",
        "print('Precision-Recall: ', np.mean(precision_recall))\n",
        "print('F1-score: ', np.mean(f1_lr_br100))"
      ],
      "metadata": {
        "colab": {
          "base_uri": "https://localhost:8080/"
        },
        "id": "2J7Rd4dc86eF",
        "outputId": "e0af4903-3f01-46ac-eb2b-99183eff96a9"
      },
      "execution_count": null,
      "outputs": [
        {
          "output_type": "stream",
          "name": "stdout",
          "text": [
            "AUC:  0.8452845528455284\n",
            "Precision:  0.9340659340659341\n",
            "Recall:  0.6910569105691057\n",
            "Precision-Recall:  0.6485515611330632\n",
            "F1-score:  0.794392523364486\n"
          ]
        }
      ]
    },
    {
      "cell_type": "code",
      "source": [
        "# base rate = 1:577.87\n",
        "pred = lr.predict(X_test_brreal)\n",
        "print (classification_report(y_test_brreal, pred))"
      ],
      "metadata": {
        "colab": {
          "base_uri": "https://localhost:8080/"
        },
        "id": "c2nLTDRW9LwN",
        "outputId": "0bba48a1-68ad-42d2-8383-2ad6299a3b90"
      },
      "execution_count": null,
      "outputs": [
        {
          "output_type": "stream",
          "name": "stdout",
          "text": [
            "              precision    recall  f1-score   support\n",
            "\n",
            "           0       1.00      1.00      1.00     71079\n",
            "           1       0.71      0.69      0.70       123\n",
            "\n",
            "    accuracy                           1.00     71202\n",
            "   macro avg       0.86      0.85      0.85     71202\n",
            "weighted avg       1.00      1.00      1.00     71202\n",
            "\n"
          ]
        }
      ]
    },
    {
      "cell_type": "code",
      "source": [
        "precision_recall= average_precision_score(y_test_brreal, pred)\n",
        "precision_lr_brreal = precision_score(y_test_brreal, pred)\n",
        "recall = recall_score(y_test_brreal, pred)\n",
        "auc  = roc_auc_score(y_test_brreal, pred)\n",
        "f1_lr_brreal = f1_score(y_test_brreal, pred)\n",
        "\n",
        "print('AUC: ', np.mean(auc))\n",
        "print('Precision: ', np.mean(precision_lr_brreal))\n",
        "print('Recall: ', np.mean(recall))\n",
        "print('Precision-Recall: ', np.mean(precision_recall))\n",
        "print('F1-score: ', np.mean(f1_lr_brreal))"
      ],
      "metadata": {
        "colab": {
          "base_uri": "https://localhost:8080/"
        },
        "id": "ngQX1DJR9jPa",
        "outputId": "6d7015a7-f069-4c82-84f2-8b2100dba1d1"
      },
      "execution_count": null,
      "outputs": [
        {
          "output_type": "stream",
          "name": "stdout",
          "text": [
            "AUC:  0.8452892847841237\n",
            "Precision:  0.7142857142857143\n",
            "Recall:  0.6910569105691057\n",
            "Precision-Recall:  0.4941457718517283\n",
            "F1-score:  0.7024793388429752\n"
          ]
        }
      ]
    },
    {
      "cell_type": "markdown",
      "source": [
        "2. MLP"
      ],
      "metadata": {
        "id": "YXfGSY189rDA"
      }
    },
    {
      "cell_type": "code",
      "source": [
        "from sklearn.neural_network import MLPClassifier\n",
        "mlp = MLPClassifier()\n",
        "mlp.fit(train_x, train_y)"
      ],
      "metadata": {
        "colab": {
          "base_uri": "https://localhost:8080/"
        },
        "id": "qIbRCGaC90X9",
        "outputId": "a70af861-7894-4213-c90e-941b8e5cb4a6"
      },
      "execution_count": null,
      "outputs": [
        {
          "output_type": "execute_result",
          "data": {
            "text/plain": [
              "MLPClassifier()"
            ]
          },
          "metadata": {},
          "execution_count": 67
        }
      ]
    },
    {
      "cell_type": "code",
      "source": [
        "# base rate = 1:1\n",
        "pred = mlp.predict(X_test_br1)\n",
        "print (classification_report(y_test_br1, pred))"
      ],
      "metadata": {
        "colab": {
          "base_uri": "https://localhost:8080/"
        },
        "id": "plYqLz3S-Ab8",
        "outputId": "2401b3f1-564e-4218-94be-3553409eefb4"
      },
      "execution_count": null,
      "outputs": [
        {
          "output_type": "stream",
          "name": "stdout",
          "text": [
            "              precision    recall  f1-score   support\n",
            "\n",
            "           0       0.84      1.00      0.91       123\n",
            "           1       1.00      0.80      0.89       123\n",
            "\n",
            "    accuracy                           0.90       246\n",
            "   macro avg       0.92      0.90      0.90       246\n",
            "weighted avg       0.92      0.90      0.90       246\n",
            "\n"
          ]
        }
      ]
    },
    {
      "cell_type": "code",
      "source": [
        "precision_recall= average_precision_score(y_test_br1, pred)\n",
        "precision_mlp_br1 = precision_score(y_test_br1, pred)\n",
        "recall = recall_score(y_test_br1, pred)\n",
        "auc  = roc_auc_score(y_test_br1, pred)\n",
        "f1_mlp_br1 = f1_score(y_test_br1, pred)\n",
        "\n",
        "print('AUC: ', np.mean(auc))\n",
        "print('Precision: ', np.mean(precision_mlp_br1))\n",
        "print('Recall: ', np.mean(recall))\n",
        "print('Precision-Recall: ', np.mean(precision_recall))\n",
        "print('F1-score: ', np.mean(f1_mlp_br1))"
      ],
      "metadata": {
        "colab": {
          "base_uri": "https://localhost:8080/"
        },
        "id": "P4PJFi5b-UQk",
        "outputId": "4d845964-55e7-48ac-83ae-2ef3db73110f"
      },
      "execution_count": null,
      "outputs": [
        {
          "output_type": "stream",
          "name": "stdout",
          "text": [
            "AUC:  0.9024390243902439\n",
            "Precision:  1.0\n",
            "Recall:  0.8048780487804879\n",
            "Precision-Recall:  0.9024390243902439\n",
            "F1-score:  0.8918918918918919\n"
          ]
        }
      ]
    },
    {
      "cell_type": "code",
      "source": [
        "# base rate = 1:10\n",
        "pred = mlp.predict(X_test_br10)\n",
        "print (classification_report(y_test_br10, pred))"
      ],
      "metadata": {
        "colab": {
          "base_uri": "https://localhost:8080/"
        },
        "id": "k1krX9yv-ZRR",
        "outputId": "e646937e-c8e0-434c-8d37-d4780c9c74e0"
      },
      "execution_count": null,
      "outputs": [
        {
          "output_type": "stream",
          "name": "stdout",
          "text": [
            "              precision    recall  f1-score   support\n",
            "\n",
            "           0       0.98      1.00      0.99      1230\n",
            "           1       0.97      0.80      0.88       123\n",
            "\n",
            "    accuracy                           0.98      1353\n",
            "   macro avg       0.98      0.90      0.93      1353\n",
            "weighted avg       0.98      0.98      0.98      1353\n",
            "\n"
          ]
        }
      ]
    },
    {
      "cell_type": "code",
      "source": [
        "precision_recall= average_precision_score(y_test_br10, pred)\n",
        "precision_mlp_br10 = precision_score(y_test_br10, pred)\n",
        "recall = recall_score(y_test_br10, pred)\n",
        "auc  = roc_auc_score(y_test_br10, pred)\n",
        "f1_mlp_br10 = f1_score(y_test_br10, pred)\n",
        "\n",
        "print('AUC: ', np.mean(auc))\n",
        "print('Precision: ', np.mean(precision_mlp_br10))\n",
        "print('Recall: ', np.mean(recall))\n",
        "print('Precision-Recall: ', np.mean(precision_recall))\n",
        "print('F1-score: ', np.mean(f1_mlp_br10))"
      ],
      "metadata": {
        "colab": {
          "base_uri": "https://localhost:8080/"
        },
        "id": "0n89I_FO-ZMN",
        "outputId": "9482c98d-efd4-40b8-a080-72b6bfa9db2a"
      },
      "execution_count": null,
      "outputs": [
        {
          "output_type": "stream",
          "name": "stdout",
          "text": [
            "AUC:  0.901219512195122\n",
            "Precision:  0.9705882352941176\n",
            "Recall:  0.8048780487804879\n",
            "Precision-Recall:  0.7989435241946002\n",
            "F1-score:  0.8800000000000001\n"
          ]
        }
      ]
    },
    {
      "cell_type": "code",
      "source": [
        "# base rate = 1:100\n",
        "pred = mlp.predict(X_test_br100)\n",
        "print (classification_report(y_test_br100, pred))"
      ],
      "metadata": {
        "colab": {
          "base_uri": "https://localhost:8080/"
        },
        "id": "v_cKgwgu-ZJx",
        "outputId": "631eac8c-dec6-49af-de74-1050733f4250"
      },
      "execution_count": null,
      "outputs": [
        {
          "output_type": "stream",
          "name": "stdout",
          "text": [
            "              precision    recall  f1-score   support\n",
            "\n",
            "           0       1.00      1.00      1.00     12300\n",
            "           1       0.85      0.80      0.83       123\n",
            "\n",
            "    accuracy                           1.00     12423\n",
            "   macro avg       0.93      0.90      0.91     12423\n",
            "weighted avg       1.00      1.00      1.00     12423\n",
            "\n"
          ]
        }
      ]
    },
    {
      "cell_type": "code",
      "source": [
        "precision_recall= average_precision_score(y_test_br100, pred)\n",
        "precision_mlp_br100 = precision_score(y_test_br100, pred)\n",
        "recall = recall_score(y_test_br100, pred)\n",
        "auc  = roc_auc_score(y_test_br100, pred)\n",
        "f1_mlp_br100 = f1_score(y_test_br100, pred)\n",
        "\n",
        "print('AUC: ', np.mean(auc))\n",
        "print('Precision: ', np.mean(precision))\n",
        "print('Recall: ', np.mean(recall))\n",
        "print('Precision-Recall: ', np.mean(precision_recall))\n",
        "print('F1-score: ', np.mean(f1))"
      ],
      "metadata": {
        "colab": {
          "base_uri": "https://localhost:8080/"
        },
        "id": "NLT-PEyz-ZHd",
        "outputId": "3154a0d8-1350-46c1-ad15-0e0abfd25600"
      },
      "execution_count": null,
      "outputs": [
        {
          "output_type": "stream",
          "name": "stdout",
          "text": [
            "AUC:  0.9017479674796749\n",
            "Precision:  1.0\n",
            "Recall:  0.8048780487804879\n",
            "Precision-Recall:  0.6888536835180574\n",
            "F1-score:  0.8173076923076924\n"
          ]
        }
      ]
    },
    {
      "cell_type": "code",
      "source": [
        "# base rate = 1:577.87\n",
        "pred = mlp.predict(X_test_brreal)\n",
        "print (classification_report(y_test_brreal, pred))"
      ],
      "metadata": {
        "colab": {
          "base_uri": "https://localhost:8080/"
        },
        "id": "vhk1Y30o-ZE9",
        "outputId": "9027bf10-2933-4ea6-9812-5e3aa902ff8b"
      },
      "execution_count": null,
      "outputs": [
        {
          "output_type": "stream",
          "name": "stdout",
          "text": [
            "              precision    recall  f1-score   support\n",
            "\n",
            "           0       1.00      1.00      1.00     71079\n",
            "           1       0.49      0.80      0.61       123\n",
            "\n",
            "    accuracy                           1.00     71202\n",
            "   macro avg       0.75      0.90      0.81     71202\n",
            "weighted avg       1.00      1.00      1.00     71202\n",
            "\n"
          ]
        }
      ]
    },
    {
      "cell_type": "code",
      "source": [
        "precision_recall= average_precision_score(y_test_brreal, pred)\n",
        "precision_mlp_brreal = precision_score(y_test_brreal, pred)\n",
        "recall = recall_score(y_test_brreal, pred)\n",
        "auc  = roc_auc_score(y_test_brreal, pred)\n",
        "f1_mlp_brreal = f1_score(y_test_brreal, pred)\n",
        "\n",
        "print('AUC: ', np.mean(auc))\n",
        "print('Precision: ', np.mean(precision))\n",
        "print('Recall: ', np.mean(recall))\n",
        "print('Precision-Recall: ', np.mean(precision_recall))\n",
        "print('F1-score: ', np.mean(f1))"
      ],
      "metadata": {
        "colab": {
          "base_uri": "https://localhost:8080/"
        },
        "id": "Pyc_aU-6-ZCb",
        "outputId": "3a165faa-9ea2-478e-cdb6-fded8cdf646e"
      },
      "execution_count": null,
      "outputs": [
        {
          "output_type": "stream",
          "name": "stdout",
          "text": [
            "AUC:  0.9017215128889567\n",
            "Precision:  1.0\n",
            "Recall:  0.8048780487804879\n",
            "Precision-Recall:  0.3967695409708543\n",
            "F1-score:  0.8173076923076924\n"
          ]
        }
      ]
    },
    {
      "cell_type": "markdown",
      "source": [
        "3. Random Forest"
      ],
      "metadata": {
        "id": "1JL8XOpQ_wE2"
      }
    },
    {
      "cell_type": "code",
      "source": [
        "from sklearn.ensemble import RandomForestClassifier\n",
        "rfc = RandomForestClassifier(n_estimators=100, random_state=32)\n",
        "rfc.fit(train_x, train_y)"
      ],
      "metadata": {
        "colab": {
          "base_uri": "https://localhost:8080/"
        },
        "id": "h_fvHVZV-ZAC",
        "outputId": "66bf003b-2abf-4145-da74-c7e0bd1d0648"
      },
      "execution_count": null,
      "outputs": [
        {
          "output_type": "execute_result",
          "data": {
            "text/plain": [
              "RandomForestClassifier(random_state=32)"
            ]
          },
          "metadata": {},
          "execution_count": 77
        }
      ]
    },
    {
      "cell_type": "code",
      "source": [
        "# base rate = 1:1\n",
        "pred = rfc.predict(X_test_br1)\n",
        "print (classification_report(y_test_br1, pred))"
      ],
      "metadata": {
        "colab": {
          "base_uri": "https://localhost:8080/"
        },
        "id": "zEp46N9g_7rZ",
        "outputId": "085fdc64-10aa-49a8-fb6e-0049deb8629d"
      },
      "execution_count": null,
      "outputs": [
        {
          "output_type": "stream",
          "name": "stdout",
          "text": [
            "              precision    recall  f1-score   support\n",
            "\n",
            "           0       0.81      1.00      0.89       123\n",
            "           1       1.00      0.76      0.87       123\n",
            "\n",
            "    accuracy                           0.88       246\n",
            "   macro avg       0.90      0.88      0.88       246\n",
            "weighted avg       0.90      0.88      0.88       246\n",
            "\n"
          ]
        }
      ]
    },
    {
      "cell_type": "code",
      "source": [
        "precision_recall= average_precision_score(y_test_br1, pred)\n",
        "precision_rf_br1 = precision_score(y_test_br1, pred)\n",
        "recall = recall_score(y_test_br1, pred)\n",
        "auc  = roc_auc_score(y_test_br1, pred)\n",
        "f1_rf_br1 = f1_score(y_test_br1, pred)\n",
        "\n",
        "print('AUC: ', np.mean(auc))\n",
        "print('Precision: ', np.mean(precision))\n",
        "print('Recall: ', np.mean(recall))\n",
        "print('Precision-Recall: ', np.mean(precision_recall))\n",
        "print('F1-score: ', np.mean(f1))"
      ],
      "metadata": {
        "colab": {
          "base_uri": "https://localhost:8080/"
        },
        "id": "b2GOUkhwAEpW",
        "outputId": "ae9df550-5db5-4ec4-8fa2-f8538c29c750"
      },
      "execution_count": null,
      "outputs": [
        {
          "output_type": "stream",
          "name": "stdout",
          "text": [
            "AUC:  0.8821138211382114\n",
            "Precision:  1.0\n",
            "Recall:  0.7642276422764228\n",
            "Precision-Recall:  0.8821138211382114\n",
            "F1-score:  0.8173076923076924\n"
          ]
        }
      ]
    },
    {
      "cell_type": "code",
      "source": [
        "# base rate = 1:10\n",
        "pred = rfc.predict(X_test_br10)\n",
        "print (classification_report(y_test_br10, pred))"
      ],
      "metadata": {
        "colab": {
          "base_uri": "https://localhost:8080/"
        },
        "id": "-2q1fyO6AEl9",
        "outputId": "a52cc10c-939f-4d91-c559-e6e8037a5a82"
      },
      "execution_count": null,
      "outputs": [
        {
          "output_type": "stream",
          "name": "stdout",
          "text": [
            "              precision    recall  f1-score   support\n",
            "\n",
            "           0       0.98      1.00      0.99      1230\n",
            "           1       1.00      0.76      0.87       123\n",
            "\n",
            "    accuracy                           0.98      1353\n",
            "   macro avg       0.99      0.88      0.93      1353\n",
            "weighted avg       0.98      0.98      0.98      1353\n",
            "\n"
          ]
        }
      ]
    },
    {
      "cell_type": "code",
      "source": [
        "precision_recall= average_precision_score(y_test_br10, pred)\n",
        "precision_rf_br10 = precision_score(y_test_br10, pred)\n",
        "recall = recall_score(y_test_br10, pred)\n",
        "auc  = roc_auc_score(y_test_br10, pred)\n",
        "f1_rf_br10 = f1_score(y_test_br10, pred)\n",
        "\n",
        "print('AUC: ', np.mean(auc))\n",
        "print('Precision: ', np.mean(precision_rf_br10))\n",
        "print('Recall: ', np.mean(recall))\n",
        "print('Precision-Recall: ', np.mean(precision_recall))\n",
        "print('F1-score: ', np.mean(f1_rf_br10))"
      ],
      "metadata": {
        "colab": {
          "base_uri": "https://localhost:8080/"
        },
        "id": "ZI4tqjurAEjc",
        "outputId": "316434ca-cb59-463e-e522-116fff378380"
      },
      "execution_count": null,
      "outputs": [
        {
          "output_type": "stream",
          "name": "stdout",
          "text": [
            "AUC:  0.8821138211382114\n",
            "Precision:  1.0\n",
            "Recall:  0.7642276422764228\n",
            "Precision-Recall:  0.7856614929785662\n",
            "F1-score:  0.8663594470046084\n"
          ]
        }
      ]
    },
    {
      "cell_type": "code",
      "source": [
        "# base rate = 1:100\n",
        "pred = rfc.predict(X_test_br100)\n",
        "print (classification_report(y_test_br100, pred))"
      ],
      "metadata": {
        "colab": {
          "base_uri": "https://localhost:8080/"
        },
        "id": "12gINR7aAK83",
        "outputId": "4cd9d297-2a5d-4e84-92c0-4695e1db07b1"
      },
      "execution_count": null,
      "outputs": [
        {
          "output_type": "stream",
          "name": "stdout",
          "text": [
            "              precision    recall  f1-score   support\n",
            "\n",
            "           0       1.00      1.00      1.00     12300\n",
            "           1       1.00      0.76      0.87       123\n",
            "\n",
            "    accuracy                           1.00     12423\n",
            "   macro avg       1.00      0.88      0.93     12423\n",
            "weighted avg       1.00      1.00      1.00     12423\n",
            "\n"
          ]
        }
      ]
    },
    {
      "cell_type": "code",
      "source": [
        "precision_recall= average_precision_score(y_test_br100, pred)\n",
        "precision_rf_br100 = precision_score(y_test_br100, pred)\n",
        "recall = recall_score(y_test_br100, pred)\n",
        "auc  = roc_auc_score(y_test_br100, pred)\n",
        "f1_rf_br100 = f1_score(y_test_br100, pred)\n",
        "\n",
        "print('AUC: ', np.mean(auc))\n",
        "print('Precision: ', np.mean(precision))\n",
        "print('Recall: ', np.mean(recall))\n",
        "print('Precision-Recall: ', np.mean(precision_recall))\n",
        "print('F1-score: ', np.mean(f1))"
      ],
      "metadata": {
        "colab": {
          "base_uri": "https://localhost:8080/"
        },
        "id": "DTKgiqf6ALqd",
        "outputId": "e4b9202b-4320-4e1e-aaa9-141af2d91d21"
      },
      "execution_count": null,
      "outputs": [
        {
          "output_type": "stream",
          "name": "stdout",
          "text": [
            "AUC:  0.8821138211382114\n",
            "Precision:  1.0\n",
            "Recall:  0.7642276422764228\n",
            "Precision-Recall:  0.7665620220558642\n",
            "F1-score:  0.8173076923076924\n"
          ]
        }
      ]
    },
    {
      "cell_type": "code",
      "source": [
        "# base rate = 1:577.87\n",
        "pred = rfc.predict(X_test_brreal)\n",
        "print (classification_report(y_test_brreal, pred))"
      ],
      "metadata": {
        "colab": {
          "base_uri": "https://localhost:8080/"
        },
        "id": "FQK45M0JANy_",
        "outputId": "33af1503-e55e-4a87-eb9b-add52a69f86d"
      },
      "execution_count": null,
      "outputs": [
        {
          "output_type": "stream",
          "name": "stdout",
          "text": [
            "              precision    recall  f1-score   support\n",
            "\n",
            "           0       1.00      1.00      1.00     71079\n",
            "           1       0.97      0.76      0.85       123\n",
            "\n",
            "    accuracy                           1.00     71202\n",
            "   macro avg       0.98      0.88      0.93     71202\n",
            "weighted avg       1.00      1.00      1.00     71202\n",
            "\n"
          ]
        }
      ]
    },
    {
      "cell_type": "code",
      "source": [
        "precision_recall= average_precision_score(y_test_brreal, pred)\n",
        "precision_rf_brreal = precision_score(y_test_brreal, pred)\n",
        "recall = recall_score(y_test_brreal, pred)\n",
        "auc  = roc_auc_score(y_test_brreal, pred)\n",
        "f1_rf_brreal = f1_score(y_test_brreal, pred)\n",
        "\n",
        "print('AUC: ', np.mean(auc))\n",
        "print('Precision: ', np.mean(precision_rf_brreal))\n",
        "print('Recall: ', np.mean(recall))\n",
        "print('Precision-Recall: ', np.mean(precision_recall))\n",
        "print('F1-score: ', np.mean(f1_rf_brreal))"
      ],
      "metadata": {
        "colab": {
          "base_uri": "https://localhost:8080/"
        },
        "id": "ilfftWHuAPIF",
        "outputId": "2943fe8f-57ed-44cc-86cd-a8b25b1a3372"
      },
      "execution_count": null,
      "outputs": [
        {
          "output_type": "stream",
          "name": "stdout",
          "text": [
            "AUC:  0.8820927178587616\n",
            "Precision:  0.9690721649484536\n",
            "Recall:  0.7642276422764228\n",
            "Precision-Recall:  0.7409990277442674\n",
            "F1-score:  0.8545454545454546\n"
          ]
        }
      ]
    },
    {
      "cell_type": "markdown",
      "source": [
        "4. xgboost (our model)"
      ],
      "metadata": {
        "id": "kdt4d-8cBEmc"
      }
    },
    {
      "cell_type": "code",
      "source": [
        "from xgboost import XGBClassifier\n",
        "model = XGBClassifier(n_estimators=100, learning_rate=0.2, max_depth=4, random_state=32)\n",
        "model.fit(train_x, train_y)"
      ],
      "metadata": {
        "colab": {
          "base_uri": "https://localhost:8080/"
        },
        "id": "hVe7cy0eOfgJ",
        "outputId": "d5ddfc38-6baf-4810-9d70-16e79a99b449"
      },
      "execution_count": null,
      "outputs": [
        {
          "output_type": "execute_result",
          "data": {
            "text/plain": [
              "XGBClassifier(learning_rate=0.2, max_depth=4, random_state=32)"
            ]
          },
          "metadata": {},
          "execution_count": 86
        }
      ]
    },
    {
      "cell_type": "code",
      "source": [
        "# base rate = 1:1\n",
        "pred = model.predict(X_test_br1)\n",
        "print (classification_report(y_test_br1, pred))"
      ],
      "metadata": {
        "colab": {
          "base_uri": "https://localhost:8080/"
        },
        "id": "x1Qrcy7BOhAN",
        "outputId": "1cde43aa-3e79-426b-8b08-638c214d8d39"
      },
      "execution_count": null,
      "outputs": [
        {
          "output_type": "stream",
          "name": "stdout",
          "text": [
            "              precision    recall  f1-score   support\n",
            "\n",
            "           0       0.84      1.00      0.91       123\n",
            "           1       1.00      0.80      0.89       123\n",
            "\n",
            "    accuracy                           0.90       246\n",
            "   macro avg       0.92      0.90      0.90       246\n",
            "weighted avg       0.92      0.90      0.90       246\n",
            "\n"
          ]
        }
      ]
    },
    {
      "cell_type": "code",
      "source": [
        "precision_recall= average_precision_score(y_test_br1, pred)\n",
        "precision_xgb_br1 = precision_score(y_test_br1, pred)\n",
        "recall = recall_score(y_test_br1, pred)\n",
        "auc  = roc_auc_score(y_test_br1, pred)\n",
        "f1_xgb_br1 = f1_score(y_test_br1, pred)\n",
        "\n",
        "print('AUC: ', np.mean(auc))\n",
        "print('Precision: ', np.mean(precision_xgb_br1))\n",
        "print('Recall: ', np.mean(recall))\n",
        "print('Precision-Recall: ', np.mean(precision_recall))\n",
        "print('F1-score: ', np.mean(f1_xgb_br1))"
      ],
      "metadata": {
        "colab": {
          "base_uri": "https://localhost:8080/"
        },
        "id": "xRxoenv7O5Gl",
        "outputId": "001cfbba-f274-4fd4-8087-464d453c73c7"
      },
      "execution_count": null,
      "outputs": [
        {
          "output_type": "stream",
          "name": "stdout",
          "text": [
            "AUC:  0.9024390243902439\n",
            "Precision:  1.0\n",
            "Recall:  0.8048780487804879\n",
            "Precision-Recall:  0.9024390243902439\n",
            "F1-score:  0.8918918918918919\n"
          ]
        }
      ]
    },
    {
      "cell_type": "code",
      "source": [
        "# base rate = 1:10\n",
        "pred = model.predict(X_test_br10)\n",
        "print (classification_report(y_test_br10, pred))"
      ],
      "metadata": {
        "colab": {
          "base_uri": "https://localhost:8080/"
        },
        "id": "2DFpxNp_O9Qn",
        "outputId": "0da98b1d-29d5-40cf-b954-d669e0419760"
      },
      "execution_count": null,
      "outputs": [
        {
          "output_type": "stream",
          "name": "stdout",
          "text": [
            "              precision    recall  f1-score   support\n",
            "\n",
            "           0       0.98      1.00      0.99      1230\n",
            "           1       1.00      0.80      0.89       123\n",
            "\n",
            "    accuracy                           0.98      1353\n",
            "   macro avg       0.99      0.90      0.94      1353\n",
            "weighted avg       0.98      0.98      0.98      1353\n",
            "\n"
          ]
        }
      ]
    },
    {
      "cell_type": "code",
      "source": [
        "precision_recall= average_precision_score(y_test_br10, pred)\n",
        "precision_xgb_br10 = precision_score(y_test_br10, pred)\n",
        "recall = recall_score(y_test_br10, pred)\n",
        "auc  = roc_auc_score(y_test_br10, pred)\n",
        "f1_xgb_br10 = f1_score(y_test_br10, pred)\n",
        "\n",
        "print('AUC: ', np.mean(auc))\n",
        "print('Precision: ', np.mean(precision_xgb_br10))\n",
        "print('Recall: ', np.mean(recall))\n",
        "print('Precision-Recall: ', np.mean(precision_recall))\n",
        "print('F1-score: ', np.mean(f1_xgb_br10))"
      ],
      "metadata": {
        "colab": {
          "base_uri": "https://localhost:8080/"
        },
        "id": "nb3W6ykFPEib",
        "outputId": "c5bed01e-7c8e-4983-8c03-c74eaa92d320"
      },
      "execution_count": null,
      "outputs": [
        {
          "output_type": "stream",
          "name": "stdout",
          "text": [
            "AUC:  0.9024390243902439\n",
            "Precision:  1.0\n",
            "Recall:  0.8048780487804879\n",
            "Precision-Recall:  0.8226164079822617\n",
            "F1-score:  0.8918918918918919\n"
          ]
        }
      ]
    },
    {
      "cell_type": "code",
      "source": [
        "# base rate = 1:100\n",
        "pred = model.predict(X_test_br100)\n",
        "print (classification_report(y_test_br100, pred))"
      ],
      "metadata": {
        "colab": {
          "base_uri": "https://localhost:8080/"
        },
        "id": "Wg2F4kiWPI6W",
        "outputId": "7813a71b-e8a8-4b60-921f-e2640816bb6a"
      },
      "execution_count": null,
      "outputs": [
        {
          "output_type": "stream",
          "name": "stdout",
          "text": [
            "              precision    recall  f1-score   support\n",
            "\n",
            "           0       1.00      1.00      1.00     12300\n",
            "           1       1.00      0.80      0.89       123\n",
            "\n",
            "    accuracy                           1.00     12423\n",
            "   macro avg       1.00      0.90      0.95     12423\n",
            "weighted avg       1.00      1.00      1.00     12423\n",
            "\n"
          ]
        }
      ]
    },
    {
      "cell_type": "code",
      "source": [
        "precision_recall= average_precision_score(y_test_br100, pred)\n",
        "precision_xgb_br100 = precision_score(y_test_br100, pred)\n",
        "recall = recall_score(y_test_br100, pred)\n",
        "auc  = roc_auc_score(y_test_br100, pred)\n",
        "f1_xgb_br100 = f1_score(y_test_br100, pred)\n",
        "\n",
        "print('AUC: ', np.mean(auc))\n",
        "print('Precision: ', np.mean(precision_xgb_br100))\n",
        "print('Recall: ', np.mean(recall))\n",
        "print('Precision-Recall: ', np.mean(precision_recall))\n",
        "print('F1-score: ', np.mean(f1_xgb_br100))"
      ],
      "metadata": {
        "colab": {
          "base_uri": "https://localhost:8080/"
        },
        "id": "yXvXnmYvPL-5",
        "outputId": "b934f57c-574d-4278-ba17-e525c6a42cd0"
      },
      "execution_count": null,
      "outputs": [
        {
          "output_type": "stream",
          "name": "stdout",
          "text": [
            "AUC:  0.9024390243902439\n",
            "Precision:  1.0\n",
            "Recall:  0.8048780487804879\n",
            "Precision-Recall:  0.8068099492876117\n",
            "F1-score:  0.8918918918918919\n"
          ]
        }
      ]
    },
    {
      "cell_type": "code",
      "source": [
        "# base rate = 1:577.87\n",
        "pred = model.predict(X_test_brreal)\n",
        "print (classification_report(y_test_brreal, pred))"
      ],
      "metadata": {
        "colab": {
          "base_uri": "https://localhost:8080/"
        },
        "id": "EVMO157APQ-i",
        "outputId": "dbaa0533-f54d-4818-96aa-1389a535c6dc"
      },
      "execution_count": null,
      "outputs": [
        {
          "output_type": "stream",
          "name": "stdout",
          "text": [
            "              precision    recall  f1-score   support\n",
            "\n",
            "           0       1.00      1.00      1.00     71079\n",
            "           1       0.96      0.80      0.88       123\n",
            "\n",
            "    accuracy                           1.00     71202\n",
            "   macro avg       0.98      0.90      0.94     71202\n",
            "weighted avg       1.00      1.00      1.00     71202\n",
            "\n"
          ]
        }
      ]
    },
    {
      "cell_type": "code",
      "source": [
        "precision_recall= average_precision_score(y_test_brreal, pred)\n",
        "precision_xgb_brreal = precision_score(y_test_brreal, pred)\n",
        "recall = recall_score(y_test_brreal, pred)\n",
        "auc  = roc_auc_score(y_test_brreal, pred)\n",
        "f1_xgb_brreal = f1_score(y_test_brreal, pred)\n",
        "\n",
        "print('AUC: ', np.mean(auc))\n",
        "print('Precision: ', np.mean(precision_xgb_brreal))\n",
        "print('Recall: ', np.mean(recall))\n",
        "print('Precision-Recall: ', np.mean(precision_recall))\n",
        "print('F1-score: ', np.mean(f1_xgb_brreal))"
      ],
      "metadata": {
        "colab": {
          "base_uri": "https://localhost:8080/"
        },
        "id": "3CByRJCHPU4e",
        "outputId": "9f10b9a9-bcdc-46f7-9181-ef565c5fbb02"
      },
      "execution_count": null,
      "outputs": [
        {
          "output_type": "stream",
          "name": "stdout",
          "text": [
            "AUC:  0.9024108866843111\n",
            "Precision:  0.9611650485436893\n",
            "Recall:  0.8048780487804879\n",
            "Precision-Recall:  0.7739577180112974\n",
            "F1-score:  0.8761061946902655\n"
          ]
        }
      ]
    },
    {
      "cell_type": "code",
      "source": [
        "import matplotlib.pyplot as plt\n",
        "import matplotlib.legend as legend\n",
        "index = [577.87, 100, 10, 1]\n",
        "\n",
        "LR=[np.mean(f1_lr_br1), np.mean(f1_lr_br10), np.mean(f1_lr_br100), np.mean(f1_lr_brreal)]\n",
        "lr,=plt.plot(index, LR, 'ro-')\n",
        "\n",
        "RF=[np.mean(f1_rf_br1), np.mean(f1_rf_br10), np.mean(f1_rf_br100),np.mean(f1_rf_brreal)]\n",
        "rf,=plt.plot(index, RF, 'go-')\n",
        "\n",
        "MLP=[np.mean(f1_mlp_br1), np.mean(f1_mlp_br10), np.mean(f1_mlp_br100), np.mean(f1_mlp_brreal)]\n",
        "mlp,=plt.plot(index, MLP, 'bo-')\n",
        "\n",
        "XGB=[np.mean(f1_xgb_br1), np.mean(f1_xgb_br10), np.mean(f1_xgb_br100), np.mean(f1_xgb_brreal)]\n",
        "xgb,=plt.plot(index, XGB, 'yo-')\n",
        "\n",
        "plt.legend([lr, rf, mlp, xgb],['Logistic Regression','Random Forest','MLP', 'XGBoost(Ours)'])\n",
        "plt.xlim([-50, 600])\n",
        "plt.ylim([0.6, 0.9])\n",
        "plt.xlabel('Base rate')\n",
        "plt.ylabel('F1 score')\n",
        "plt.grid(True)\n",
        "plt.show()"
      ],
      "metadata": {
        "id": "6_wU1DDlC-Ol",
        "colab": {
          "base_uri": "https://localhost:8080/",
          "height": 365
        },
        "outputId": "012e3617-4229-4e73-e4fe-6d1438740974"
      },
      "execution_count": null,
      "outputs": [
        {
          "output_type": "display_data",
          "data": {
            "text/plain": [
              "<Figure size 576x396 with 1 Axes>"
            ],
            "image/png": "[encoded data removed]"
          },
          "metadata": {}
        }
      ]
    },
    {
      "cell_type": "code",
      "source": [
        "import matplotlib.pyplot as plt\n",
        "import matplotlib.legend as legend\n",
        "index = [577.87, 100, 10, 1]\n",
        "\n",
        "LR=[np.mean(precision_lr_br1), np.mean(precision_lr_br10), np.mean(precision_lr_br100), np.mean(precision_lr_brreal)]\n",
        "lr,=plt.plot(index, LR, 'ro-')\n",
        "\n",
        "RF=[np.mean(precision_rf_br1), np.mean(precision_rf_br10), np.mean(precision_rf_br100),np.mean(precision_rf_brreal)]\n",
        "rf,=plt.plot(index, RF, 'go-')\n",
        "\n",
        "MLP=[np.mean(precision_mlp_br1), np.mean(precision_mlp_br10), np.mean(precision_mlp_br100), np.mean(precision_mlp_brreal)]\n",
        "mlp,=plt.plot(index, MLP, 'bo-')\n",
        "\n",
        "XGB=[np.mean(precision_xgb_br1), np.mean(precision_xgb_br10), np.mean(precision_xgb_br100), np.mean(precision_xgb_brreal)]\n",
        "xgb,=plt.plot(index, XGB, 'yo-')\n",
        "\n",
        "plt.legend([lr, rf, mlp, xgb],['Logistic Regression','Random Forest','MLP', 'XGBoost(Ours)'])\n",
        "plt.xlim([-50, 600])\n",
        "plt.ylim([0.45, 1.05])\n",
        "plt.xlabel('Base rate')\n",
        "plt.ylabel('Precision')\n",
        "plt.grid(True)\n",
        "plt.show()"
      ],
      "metadata": {
        "colab": {
          "base_uri": "https://localhost:8080/",
          "height": 361
        },
        "id": "njNmGVGwtLM9",
        "outputId": "10816c17-6543-4542-f46b-4b1a716f995e"
      },
      "execution_count": null,
      "outputs": [
        {
          "output_type": "display_data",
          "data": {
            "text/plain": [
              "<Figure size 576x396 with 1 Axes>"
            ],
            "image/png": "[encoded data removed]"
          },
          "metadata": {}
        }
      ]
    }
  ]
}