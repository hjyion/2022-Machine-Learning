{
  "nbformat": 4,
  "nbformat_minor": 0,
  "metadata": {
    "colab": {
      "provenance": []
    },
    "kernelspec": {
      "name": "python3",
      "display_name": "Python 3"
    },
    "language_info": {
      "name": "python"
    },
    "gpuClass": "standard"
  },
  "cells": [
    {
      "cell_type": "code",
      "execution_count": 1,
      "metadata": {
        "colab": {
          "base_uri": "https://localhost:8080/"
        },
        "id": "EKSmGK8X5d_X",
        "outputId": "c43ce069-5edb-4394-c74d-de3d817137fe"
      },
      "outputs": [
        {
          "output_type": "stream",
          "name": "stdout",
          "text": [
            "Drive already mounted at /content/drive; to attempt to forcibly remount, call drive.mount(\"/content/drive\", force_remount=True).\n"
          ]
        }
      ],
      "source": [
        "from google.colab import drive\n",
        "import pandas as pd\n",
        "drive.mount('/content/drive')\n",
        "data = pd.read_csv('/content/drive/MyDrive/creditcard.csv')"
      ]
    },
    {
      "cell_type": "code",
      "source": [
        "import matplotlib.pyplot as plt\n",
        "import seaborn as sns\n",
        "import numpy as np"
      ],
      "metadata": {
        "id": "YwDUTa_y9Wga"
      },
      "execution_count": 2,
      "outputs": []
    },
    {
      "cell_type": "code",
      "source": [
        "from sklearn.model_selection import train_test_split\n",
        "x = data.drop(columns='Class', axis=1)\n",
        "y = data['Class']\n",
        "train_x, test_x, train_y, test_y = train_test_split(x, y, test_size=0.25, stratify=y, shuffle=True, random_state=10)"
      ],
      "metadata": {
        "id": "X7Qt8Ebf9aYq"
      },
      "execution_count": 3,
      "outputs": []
    },
    {
      "cell_type": "code",
      "source": [
        "from sklearn.metrics import confusion_matrix, classification_report, roc_curve, roc_auc_score, recall_score, precision_score ,average_precision_score, precision_recall_curve, f1_score"
      ],
      "metadata": {
        "id": "5QLM4iHfE0Jq"
      },
      "execution_count": 4,
      "outputs": []
    },
    {
      "cell_type": "markdown",
      "source": [
        "실험 시나리오 1 - xgboost"
      ],
      "metadata": {
        "id": "EE_Ae8_Wb-24"
      }
    },
    {
      "cell_type": "code",
      "source": [
        "from xgboost import XGBClassifier\n",
        "model = XGBClassifier(n_estimators=100, learning_rate=0.2, max_depth=4, random_state=32)\n",
        "model.fit(train_x, train_y)"
      ],
      "metadata": {
        "colab": {
          "base_uri": "https://localhost:8080/"
        },
        "id": "xK6vT5qnaTgW",
        "outputId": "66c48f29-7a99-4325-c36a-50f8332b6c18"
      },
      "execution_count": 5,
      "outputs": [
        {
          "output_type": "execute_result",
          "data": {
            "text/plain": [
              "XGBClassifier(learning_rate=0.2, max_depth=4, random_state=32)"
            ]
          },
          "metadata": {},
          "execution_count": 5
        }
      ]
    },
    {
      "cell_type": "code",
      "source": [
        "pred = model.predict(test_x)\n",
        "print (classification_report(test_y, pred))"
      ],
      "metadata": {
        "colab": {
          "base_uri": "https://localhost:8080/"
        },
        "id": "Rq2yHXIxaU5e",
        "outputId": "9275dd95-4eb2-4b59-df8f-775888262dbd"
      },
      "execution_count": 6,
      "outputs": [
        {
          "output_type": "stream",
          "name": "stdout",
          "text": [
            "              precision    recall  f1-score   support\n",
            "\n",
            "           0       1.00      1.00      1.00     71079\n",
            "           1       0.96      0.80      0.88       123\n",
            "\n",
            "    accuracy                           1.00     71202\n",
            "   macro avg       0.98      0.90      0.94     71202\n",
            "weighted avg       1.00      1.00      1.00     71202\n",
            "\n"
          ]
        }
      ]
    },
    {
      "cell_type": "code",
      "source": [
        "precision_recall= average_precision_score(test_y, pred)\n",
        "precision = precision_score(test_y, pred)\n",
        "recall = recall_score(test_y, pred)\n",
        "auc  = roc_auc_score(test_y, pred)\n",
        "f1 = f1_score(test_y, pred)\n",
        "\n",
        "print('AUC: ', auc)\n",
        "print('Precision: ', precision)\n",
        "print('Recall: ', recall)\n",
        "print('Precision-Recall: ', precision_recall)\n",
        "print('F1-score: ', f1)"
      ],
      "metadata": {
        "colab": {
          "base_uri": "https://localhost:8080/"
        },
        "id": "Mi-fk3DGyiv1",
        "outputId": "3b3c41ed-0fbc-4f3e-fcd0-ceb0bba163ac"
      },
      "execution_count": 7,
      "outputs": [
        {
          "output_type": "stream",
          "name": "stdout",
          "text": [
            "AUC:  0.9024108866843111\n",
            "Precision:  0.9611650485436893\n",
            "Recall:  0.8048780487804879\n",
            "Precision-Recall:  0.7739577180112974\n",
            "F1-score:  0.8761061946902655\n"
          ]
        }
      ]
    },
    {
      "cell_type": "code",
      "source": [
        "cf_matrix = confusion_matrix(test_y, pred)\n",
        "sns.heatmap(cf_matrix, annot=True, linewidths=0.1, cmap=\"Blues\", fmt='d', linecolor='lightblue')"
      ],
      "metadata": {
        "colab": {
          "base_uri": "https://localhost:8080/",
          "height": 284
        },
        "id": "6dM0nJ01kBUK",
        "outputId": "0fc78534-21dd-4236-9d81-2a4ecb900ac3"
      },
      "execution_count": 8,
      "outputs": [
        {
          "output_type": "execute_result",
          "data": {
            "text/plain": [
              "<matplotlib.axes._subplots.AxesSubplot at 0x7fe62ba8bee0>"
            ]
          },
          "metadata": {},
          "execution_count": 8
        },
        {
          "output_type": "display_data",
          "data": {
            "text/plain": [
              "<Figure size 432x288 with 2 Axes>"
            ],
            "image/png": "[encoded data removed]"
          },
          "metadata": {
            "needs_background": "light"
          }
        }
      ]
    },
    {
      "cell_type": "code",
      "source": [
        "roc_auc_xgboost = np.mean(auc)\n",
        "fpr_xgboost, tpr_xgboost, thresholds_xgboost = roc_curve(test_y, pred)\n",
        "\n",
        "# plot \n",
        "plt.figure(figsize=(11,7))\n",
        "plt.plot(fpr_xgboost, tpr_xgboost, color='green', label='AUC: {}'.format(roc_auc_xgboost))\n",
        "plt.fill_between(fpr_xgboost, tpr_xgboost, color='lightgreen', alpha=0.3)\n",
        "plt.plot([0,1], [0,1], color='black', ls='--', label='Reference line')\n",
        "plt.xlabel('False Positive Rate', fontsize=14)\n",
        "plt.ylabel('True Positive Rate', fontsize=14)\n",
        "plt.title('ROC XGboost', fontsize=16)\n",
        "plt.legend(loc=4, fontsize=14)\n",
        "plt.grid(False)\n",
        "plt.show()"
      ],
      "metadata": {
        "colab": {
          "base_uri": "https://localhost:8080/",
          "height": 464
        },
        "id": "SwU0mvX8bMUN",
        "outputId": "b573296b-9c2d-41db-83fe-75498e8760f2"
      },
      "execution_count": 9,
      "outputs": [
        {
          "output_type": "display_data",
          "data": {
            "text/plain": [
              "<Figure size 792x504 with 1 Axes>"
            ],
            "image/png": "[encoded data removed]"
          },
          "metadata": {
            "needs_background": "light"
          }
        }
      ]
    },
    {
      "cell_type": "code",
      "source": [
        "from yellowbrick.classifier import PrecisionRecallCurve, ConfusionMatrix\n",
        "# Precision-Recall \n",
        "# yellowbrick 이용\n",
        "plt.figure(figsize=(11,7))\n",
        "plt.title('Precision-Recall XGboost')\n",
        "plt.xlabel('Recall')\n",
        "plt.ylabel('Precision')\n",
        "prcur = PrecisionRecallCurve(model)\n",
        "prcur.fit(train_x, train_y)\n",
        "prcur.score(test_x, test_y)\n",
        "prcur.show()"
      ],
      "metadata": {
        "colab": {
          "base_uri": "https://localhost:8080/",
          "height": 475
        },
        "id": "k1Uy3Rwtbcr0",
        "outputId": "6430cd3b-1d0b-4a01-877e-710259927ba9"
      },
      "execution_count": 46,
      "outputs": [
        {
          "output_type": "display_data",
          "data": {
            "text/plain": [
              "<Figure size 792x504 with 1 Axes>"
            ],
            "image/png": "[encoded data removed]"
          },
          "metadata": {}
        },
        {
          "output_type": "execute_result",
          "data": {
            "text/plain": [
              "<matplotlib.axes._subplots.AxesSubplot at 0x7fe61f18afd0>"
            ]
          },
          "metadata": {},
          "execution_count": 46
        }
      ]
    },
    {
      "cell_type": "markdown",
      "source": [
        "실험 시나리오 2 - 다른 모델들과 비교 (Logistic Regression, KNN, RandomForest, MLP)"
      ],
      "metadata": {
        "id": "YqS00j62cGM8"
      }
    },
    {
      "cell_type": "markdown",
      "source": [
        "1. Logistic Regression"
      ],
      "metadata": {
        "id": "Le_zQXwjk_s1"
      }
    },
    {
      "cell_type": "code",
      "source": [
        "from sklearn.linear_model import LogisticRegression"
      ],
      "metadata": {
        "id": "sFvQFYt7cJg9"
      },
      "execution_count": 12,
      "outputs": []
    },
    {
      "cell_type": "code",
      "source": [
        "lr = LogisticRegression(random_state=32)\n",
        "lr.fit(train_x, train_y)"
      ],
      "metadata": {
        "colab": {
          "base_uri": "https://localhost:8080/"
        },
        "id": "F-6oyO9BcU-c",
        "outputId": "181ae6ae-e860-4bc1-c538-1c07ef7fd924"
      },
      "execution_count": 13,
      "outputs": [
        {
          "output_type": "stream",
          "name": "stderr",
          "text": [
            "/usr/local/lib/python3.8/dist-packages/sklearn/linear_model/_logistic.py:814: ConvergenceWarning: lbfgs failed to converge (status=1):\n",
            "STOP: TOTAL NO. of ITERATIONS REACHED LIMIT.\n",
            "\n",
            "Increase the number of iterations (max_iter) or scale the data as shown in:\n",
            "    https://scikit-learn.org/stable/modules/preprocessing.html\n",
            "Please also refer to the documentation for alternative solver options:\n",
            "    https://scikit-learn.org/stable/modules/linear_model.html#logistic-regression\n",
            "  n_iter_i = _check_optimize_result(\n"
          ]
        },
        {
          "output_type": "execute_result",
          "data": {
            "text/plain": [
              "LogisticRegression(random_state=32)"
            ]
          },
          "metadata": {},
          "execution_count": 13
        }
      ]
    },
    {
      "cell_type": "code",
      "source": [
        "pred = lr.predict(test_x)\n",
        "print (classification_report(test_y, pred))"
      ],
      "metadata": {
        "colab": {
          "base_uri": "https://localhost:8080/"
        },
        "id": "WxZVPwzUceQx",
        "outputId": "f04bb98e-ad42-4b74-8221-6cdb5920904c"
      },
      "execution_count": 14,
      "outputs": [
        {
          "output_type": "stream",
          "name": "stdout",
          "text": [
            "              precision    recall  f1-score   support\n",
            "\n",
            "           0       1.00      1.00      1.00     71079\n",
            "           1       0.72      0.70      0.71       123\n",
            "\n",
            "    accuracy                           1.00     71202\n",
            "   macro avg       0.86      0.85      0.85     71202\n",
            "weighted avg       1.00      1.00      1.00     71202\n",
            "\n"
          ]
        }
      ]
    },
    {
      "cell_type": "code",
      "source": [
        "precision_recall= average_precision_score(test_y, pred)\n",
        "precision = precision_score(test_y, pred)\n",
        "recall = recall_score(test_y, pred)\n",
        "auc  = roc_auc_score(test_y, pred)\n",
        "f1 = f1_score(test_y, pred)\n",
        "\n",
        "print('AUC: ', np.mean(auc))\n",
        "print('Precision: ', np.mean(precision))\n",
        "print('Recall: ', np.mean(recall))\n",
        "print('Precision-Recall: ', np.mean(precision_recall))\n",
        "print('F1-score: ', np.mean(f1))"
      ],
      "metadata": {
        "colab": {
          "base_uri": "https://localhost:8080/"
        },
        "id": "-Ihzd8vOysiG",
        "outputId": "cfc65d90-413a-40a8-b6b9-7f669c7e80fa"
      },
      "execution_count": 15,
      "outputs": [
        {
          "output_type": "stream",
          "name": "stdout",
          "text": [
            "AUC:  0.8493543254345303\n",
            "Precision:  0.7166666666666667\n",
            "Recall:  0.6991869918699187\n",
            "Precision-Recall:  0.5016036591645937\n",
            "F1-score:  0.7078189300411523\n"
          ]
        }
      ]
    },
    {
      "cell_type": "code",
      "source": [
        "cf_matrix = confusion_matrix(test_y, pred)\n",
        "sns.heatmap(cf_matrix, annot=True, linewidths=0.1, cmap=\"Blues\", fmt='d', linecolor='lightblue')"
      ],
      "metadata": {
        "colab": {
          "base_uri": "https://localhost:8080/",
          "height": 365
        },
        "id": "K-0QR-N-knYf",
        "outputId": "4faa9835-387f-4043-8855-36f6447553d7"
      },
      "execution_count": 16,
      "outputs": [
        {
          "output_type": "execute_result",
          "data": {
            "text/plain": [
              "<matplotlib.axes._subplots.AxesSubplot at 0x7fe61f9034f0>"
            ]
          },
          "metadata": {},
          "execution_count": 16
        },
        {
          "output_type": "display_data",
          "data": {
            "text/plain": [
              "<Figure size 576x396 with 2 Axes>"
            ],
            "image/png": "[encoded data removed]"
          },
          "metadata": {}
        }
      ]
    },
    {
      "cell_type": "markdown",
      "source": [
        "2. KNN (n_neighbors = 3) "
      ],
      "metadata": {
        "id": "I7kZUPHmlB1F"
      }
    },
    {
      "cell_type": "code",
      "source": [
        "from sklearn.neighbors import KNeighborsClassifier"
      ],
      "metadata": {
        "id": "AScIgSbkdvI_"
      },
      "execution_count": 17,
      "outputs": []
    },
    {
      "cell_type": "code",
      "source": [
        "knn = KNeighborsClassifier(n_neighbors=3)\n",
        "knn.fit(train_x, train_y)"
      ],
      "metadata": {
        "colab": {
          "base_uri": "https://localhost:8080/"
        },
        "id": "AOAsHEr1eBGm",
        "outputId": "c89d615d-2bcc-4853-a61b-1d7abbfcf245"
      },
      "execution_count": 18,
      "outputs": [
        {
          "output_type": "execute_result",
          "data": {
            "text/plain": [
              "KNeighborsClassifier(n_neighbors=3)"
            ]
          },
          "metadata": {},
          "execution_count": 18
        }
      ]
    },
    {
      "cell_type": "code",
      "source": [
        "pred = knn.predict(test_x)\n",
        "print (classification_report(test_y, pred))"
      ],
      "metadata": {
        "colab": {
          "base_uri": "https://localhost:8080/"
        },
        "id": "d7VDrRY_mtpl",
        "outputId": "42cbde4a-46cb-45d8-846b-4e3183bec589"
      },
      "execution_count": 19,
      "outputs": [
        {
          "output_type": "stream",
          "name": "stdout",
          "text": [
            "              precision    recall  f1-score   support\n",
            "\n",
            "           0       1.00      1.00      1.00     71079\n",
            "           1       0.88      0.06      0.11       123\n",
            "\n",
            "    accuracy                           1.00     71202\n",
            "   macro avg       0.94      0.53      0.55     71202\n",
            "weighted avg       1.00      1.00      1.00     71202\n",
            "\n"
          ]
        }
      ]
    },
    {
      "cell_type": "code",
      "source": [
        "precision_recall= average_precision_score(test_y, pred)\n",
        "precision = precision_score(test_y, pred)\n",
        "recall = recall_score(test_y, pred)\n",
        "auc  = roc_auc_score(test_y, pred)\n",
        "f1 = f1_score(test_y, pred)\n",
        "\n",
        "print('AUC: ', np.mean(auc))\n",
        "print('Precision: ', np.mean(precision))\n",
        "print('Recall: ', np.mean(recall))\n",
        "print('Precision-Recall: ', np.mean(precision_recall))\n",
        "print('F1-score: ', np.mean(f1))"
      ],
      "metadata": {
        "colab": {
          "base_uri": "https://localhost:8080/"
        },
        "id": "qnOfsXESyvUC",
        "outputId": "02c4a30f-209f-415e-d1b4-22e944c3b454"
      },
      "execution_count": 20,
      "outputs": [
        {
          "output_type": "stream",
          "name": "stdout",
          "text": [
            "AUC:  0.5284482501263623\n",
            "Precision:  0.875\n",
            "Recall:  0.056910569105691054\n",
            "Precision-Recall:  0.05142591568748754\n",
            "F1-score:  0.10687022900763359\n"
          ]
        }
      ]
    },
    {
      "cell_type": "code",
      "source": [
        "cf_matrix = confusion_matrix(test_y, pred)\n",
        "sns.heatmap(cf_matrix, annot=True, linewidths=0.1, cmap=\"Blues\", fmt='d', linecolor='lightblue')"
      ],
      "metadata": {
        "colab": {
          "base_uri": "https://localhost:8080/",
          "height": 365
        },
        "id": "f9R242VLk7_c",
        "outputId": "edd9fc53-058e-4228-e6f6-233133f1f07a"
      },
      "execution_count": 21,
      "outputs": [
        {
          "output_type": "execute_result",
          "data": {
            "text/plain": [
              "<matplotlib.axes._subplots.AxesSubplot at 0x7fe61f886490>"
            ]
          },
          "metadata": {},
          "execution_count": 21
        },
        {
          "output_type": "display_data",
          "data": {
            "text/plain": [
              "<Figure size 576x396 with 2 Axes>"
            ],
            "image/png": "[encoded data removed]"
          },
          "metadata": {}
        }
      ]
    },
    {
      "cell_type": "markdown",
      "source": [
        "3. Random Forest"
      ],
      "metadata": {
        "id": "aGjLFbkcl4P8"
      }
    },
    {
      "cell_type": "code",
      "source": [
        "from sklearn.ensemble import RandomForestClassifier\n",
        "rfc = RandomForestClassifier(n_estimators=100, random_state=32)\n",
        "rfc.fit(train_x, train_y)"
      ],
      "metadata": {
        "colab": {
          "base_uri": "https://localhost:8080/"
        },
        "id": "5CsaDS4vEE4W",
        "outputId": "624442cc-f08b-44bc-9bc9-b39ef760ba60"
      },
      "execution_count": 22,
      "outputs": [
        {
          "output_type": "execute_result",
          "data": {
            "text/plain": [
              "RandomForestClassifier(random_state=32)"
            ]
          },
          "metadata": {},
          "execution_count": 22
        }
      ]
    },
    {
      "cell_type": "code",
      "source": [
        "pred = rfc.predict(test_x)\n",
        "print (classification_report(test_y, pred))"
      ],
      "metadata": {
        "id": "AU3GdVkdE5cL",
        "colab": {
          "base_uri": "https://localhost:8080/"
        },
        "outputId": "d9f439f0-ba95-41f6-c337-5869d8f81860"
      },
      "execution_count": 23,
      "outputs": [
        {
          "output_type": "stream",
          "name": "stdout",
          "text": [
            "              precision    recall  f1-score   support\n",
            "\n",
            "           0       1.00      1.00      1.00     71079\n",
            "           1       0.97      0.76      0.85       123\n",
            "\n",
            "    accuracy                           1.00     71202\n",
            "   macro avg       0.98      0.88      0.93     71202\n",
            "weighted avg       1.00      1.00      1.00     71202\n",
            "\n"
          ]
        }
      ]
    },
    {
      "cell_type": "code",
      "source": [
        "precision_recall= average_precision_score(test_y, pred)\n",
        "precision = precision_score(test_y, pred)\n",
        "recall = recall_score(test_y, pred)\n",
        "auc  = roc_auc_score(test_y, pred)\n",
        "f1 = f1_score(test_y, pred)\n",
        "\n",
        "print('AUC: ', np.mean(auc))\n",
        "print('Precision: ', np.mean(precision))\n",
        "print('Recall: ', np.mean(recall))\n",
        "print('Precision-Recall: ', np.mean(precision_recall))\n",
        "print('F1-score: ', np.mean(f1))"
      ],
      "metadata": {
        "colab": {
          "base_uri": "https://localhost:8080/"
        },
        "id": "VX4YoDsgyy8L",
        "outputId": "c32858c8-0ac3-4d84-a6e3-2f3feff24a17"
      },
      "execution_count": 24,
      "outputs": [
        {
          "output_type": "stream",
          "name": "stdout",
          "text": [
            "AUC:  0.8820927178587616\n",
            "Precision:  0.9690721649484536\n",
            "Recall:  0.7642276422764228\n",
            "Precision-Recall:  0.7409990277442674\n",
            "F1-score:  0.8545454545454546\n"
          ]
        }
      ]
    },
    {
      "cell_type": "code",
      "source": [
        "cf_matrix = confusion_matrix(test_y, pred)\n",
        "sns.heatmap(cf_matrix, annot=True, linewidths=0.1, cmap=\"Blues\", fmt='d', linecolor='lightblue')"
      ],
      "metadata": {
        "colab": {
          "base_uri": "https://localhost:8080/",
          "height": 365
        },
        "id": "7RZHHnVGn7XO",
        "outputId": "be737b7e-20fd-46a5-efcf-58d4ad58a30d"
      },
      "execution_count": 25,
      "outputs": [
        {
          "output_type": "execute_result",
          "data": {
            "text/plain": [
              "<matplotlib.axes._subplots.AxesSubplot at 0x7fe61f2a3490>"
            ]
          },
          "metadata": {},
          "execution_count": 25
        },
        {
          "output_type": "display_data",
          "data": {
            "text/plain": [
              "<Figure size 576x396 with 2 Axes>"
            ],
            "image/png": "[encoded data removed]"
          },
          "metadata": {}
        }
      ]
    },
    {
      "cell_type": "markdown",
      "source": [
        "4. Neural Network (MLP)"
      ],
      "metadata": {
        "id": "Ry9HkI2KmnVw"
      }
    },
    {
      "cell_type": "code",
      "source": [
        "from sklearn.neural_network import MLPClassifier"
      ],
      "metadata": {
        "id": "wdcTv5jB40nu"
      },
      "execution_count": 36,
      "outputs": []
    },
    {
      "cell_type": "code",
      "source": [
        "mlp = MLPClassifier()\n",
        "mlp.fit(train_x, train_y)"
      ],
      "metadata": {
        "colab": {
          "base_uri": "https://localhost:8080/"
        },
        "id": "FnSrwFl040fE",
        "outputId": "9905d3fe-f765-4ec3-e219-93231a195350"
      },
      "execution_count": 37,
      "outputs": [
        {
          "output_type": "execute_result",
          "data": {
            "text/plain": [
              "MLPClassifier()"
            ]
          },
          "metadata": {},
          "execution_count": 37
        }
      ]
    },
    {
      "cell_type": "code",
      "source": [
        "pred = mlp.predict(test_x)\n",
        "print (classification_report(test_y, pred))"
      ],
      "metadata": {
        "colab": {
          "base_uri": "https://localhost:8080/"
        },
        "id": "FLPNU0Sl40F5",
        "outputId": "efa74179-f6a7-4ba6-98d3-bfdee427583d"
      },
      "execution_count": 38,
      "outputs": [
        {
          "output_type": "stream",
          "name": "stdout",
          "text": [
            "              precision    recall  f1-score   support\n",
            "\n",
            "           0       1.00      1.00      1.00     71079\n",
            "           1       0.55      0.80      0.65       123\n",
            "\n",
            "    accuracy                           1.00     71202\n",
            "   macro avg       0.77      0.90      0.83     71202\n",
            "weighted avg       1.00      1.00      1.00     71202\n",
            "\n"
          ]
        }
      ]
    },
    {
      "cell_type": "code",
      "source": [
        "precision_recall= average_precision_score(test_y, pred)\n",
        "precision = precision_score(test_y, pred)\n",
        "recall = recall_score(test_y, pred)\n",
        "auc  = roc_auc_score(test_y, pred)\n",
        "f1 = f1_score(test_y, pred)\n",
        "\n",
        "print('AUC: ', np.mean(auc))\n",
        "print('Precision: ', np.mean(precision))\n",
        "print('Recall: ', np.mean(recall))\n",
        "print('Precision-Recall: ', np.mean(precision_recall))\n",
        "print('F1-score: ', np.mean(f1))"
      ],
      "metadata": {
        "colab": {
          "base_uri": "https://localhost:8080/"
        },
        "id": "Ao8Wmuuty2Z3",
        "outputId": "b38ebdf0-93bd-4d6a-96d6-82ae4634b5ac"
      },
      "execution_count": 39,
      "outputs": [
        {
          "output_type": "stream",
          "name": "stdout",
          "text": [
            "AUC:  0.9018622014186207\n",
            "Precision:  0.5469613259668509\n",
            "Recall:  0.8048780487804879\n",
            "Precision-Recall:  0.44057423398603723\n",
            "F1-score:  0.6513157894736843\n"
          ]
        }
      ]
    },
    {
      "cell_type": "code",
      "source": [
        "cf_matrix = confusion_matrix(test_y, pred)\n",
        "sns.heatmap(cf_matrix, annot=True, linewidths=0.1, cmap=\"Blues\", fmt='d', linecolor='lightblue')"
      ],
      "metadata": {
        "colab": {
          "base_uri": "https://localhost:8080/",
          "height": 365
        },
        "id": "7qSRVo1jopP1",
        "outputId": "f24209b5-efe9-4600-e208-9f952b55f033"
      },
      "execution_count": 40,
      "outputs": [
        {
          "output_type": "execute_result",
          "data": {
            "text/plain": [
              "<matplotlib.axes._subplots.AxesSubplot at 0x7fe61edb8400>"
            ]
          },
          "metadata": {},
          "execution_count": 40
        },
        {
          "output_type": "display_data",
          "data": {
            "text/plain": [
              "<Figure size 576x396 with 2 Axes>"
            ],
            "image/png": "[encoded data removed]"
          },
          "metadata": {}
        }
      ]
    },
    {
      "cell_type": "markdown",
      "source": [
        "* Oversampling(SMOTE) 적용한 xgboost"
      ],
      "metadata": {
        "id": "esa--3Va5Z7u"
      }
    },
    {
      "cell_type": "code",
      "source": [
        "from imblearn.over_sampling import SMOTE\n",
        "smote = SMOTE(random_state=42)\n",
        "train_x_over, train_y_over = smote.fit_resample(train_x, train_y)\n",
        "print('Distribution of training set after applying SMOTE :\\n',pd.Series(train_y_over).value_counts() )"
      ],
      "metadata": {
        "colab": {
          "base_uri": "https://localhost:8080/"
        },
        "id": "tD50J_6anVjS",
        "outputId": "d77453d6-ca43-42cc-a0d4-848978952c5f"
      },
      "execution_count": 31,
      "outputs": [
        {
          "output_type": "stream",
          "name": "stdout",
          "text": [
            "Distribution of training set after applying SMOTE :\n",
            " 0    213236\n",
            "1    213236\n",
            "Name: Class, dtype: int64\n"
          ]
        }
      ]
    },
    {
      "cell_type": "code",
      "source": [
        "from xgboost import XGBClassifier\n",
        "xgb = XGBClassifier()\n",
        "xgb.fit(train_x_over, train_y_over)"
      ],
      "metadata": {
        "colab": {
          "base_uri": "https://localhost:8080/"
        },
        "id": "cBxcOpGQ4tTT",
        "outputId": "7c684216-f8b1-465a-b78d-79d98f2b1e54"
      },
      "execution_count": 32,
      "outputs": [
        {
          "output_type": "execute_result",
          "data": {
            "text/plain": [
              "XGBClassifier()"
            ]
          },
          "metadata": {},
          "execution_count": 32
        }
      ]
    },
    {
      "cell_type": "code",
      "source": [
        "pred = xgb.predict(test_x)\n",
        "print (classification_report(test_y, pred))"
      ],
      "metadata": {
        "colab": {
          "base_uri": "https://localhost:8080/"
        },
        "id": "WPfi0u4Lh-0Q",
        "outputId": "cb2ff4a3-9aba-4a2b-b3cf-d8c8ea27677b"
      },
      "execution_count": 33,
      "outputs": [
        {
          "output_type": "stream",
          "name": "stdout",
          "text": [
            "              precision    recall  f1-score   support\n",
            "\n",
            "           0       1.00      0.99      1.00     71079\n",
            "           1       0.22      0.88      0.35       123\n",
            "\n",
            "    accuracy                           0.99     71202\n",
            "   macro avg       0.61      0.94      0.67     71202\n",
            "weighted avg       1.00      0.99      1.00     71202\n",
            "\n"
          ]
        }
      ]
    },
    {
      "cell_type": "code",
      "source": [
        "precision_recall= average_precision_score(test_y, pred)\n",
        "precision = precision_score(test_y, pred)\n",
        "recall = recall_score(test_y, pred)\n",
        "auc  = roc_auc_score(test_y, pred)\n",
        "f1 = f1_score(test_y, pred)\n",
        "\n",
        "print('AUC: ', np.mean(auc))\n",
        "print('Precision: ', np.mean(precision))\n",
        "print('Recall: ', np.mean(recall))\n",
        "print('Precision-Recall: ', np.mean(precision_recall))\n",
        "print('F1-score: ', np.mean(f1))"
      ],
      "metadata": {
        "colab": {
          "base_uri": "https://localhost:8080/"
        },
        "id": "a_qIcUZay8z0",
        "outputId": "63a5ead6-fbd5-478f-a029-26e4b419a2ce"
      },
      "execution_count": 34,
      "outputs": [
        {
          "output_type": "stream",
          "name": "stdout",
          "text": [
            "AUC:  0.9363231704743503\n",
            "Precision:  0.21951219512195122\n",
            "Recall:  0.8780487804878049\n",
            "Precision-Recall:  0.19295308346868653\n",
            "F1-score:  0.35121951219512193\n"
          ]
        }
      ]
    },
    {
      "cell_type": "code",
      "source": [
        "cf_matrix = confusion_matrix(test_y, pred)\n",
        "sns.heatmap(cf_matrix, annot=True, linewidths=0.1, cmap=\"Blues\", fmt='d', linecolor='lightblue')"
      ],
      "metadata": {
        "colab": {
          "base_uri": "https://localhost:8080/",
          "height": 366
        },
        "id": "cihjhOu0ovOo",
        "outputId": "945783af-a9ee-46c9-ece5-271506d737fc"
      },
      "execution_count": 35,
      "outputs": [
        {
          "output_type": "execute_result",
          "data": {
            "text/plain": [
              "<matplotlib.axes._subplots.AxesSubplot at 0x7fe61f22aee0>"
            ]
          },
          "metadata": {},
          "execution_count": 35
        },
        {
          "output_type": "display_data",
          "data": {
            "text/plain": [
              "<Figure size 576x396 with 2 Axes>"
            ],
            "image/png": "[encoded data removed]"
          },
          "metadata": {}
        }
      ]
    },
    {
      "cell_type": "markdown",
      "source": [
        "실험 시나리오 3 - test set의 base rate를 변경하여 실험"
      ],
      "metadata": {
        "id": "mNTPXaLbnvXa"
      }
    },
    {
      "cell_type": "code",
      "source": [
        "# test dataset Class 0, 1 나누기\n",
        "test_x['Class'] = test_y\n",
        "\n",
        "index2 = test_x.index[test_x.Class == 0]\n",
        "test_1 = test_x.drop(index2, axis=0)\n",
        "index1 = test_x.index[test_x.Class == 1]\n",
        "test_0 = test_x.drop(index1, axis=0)\n",
        "\n",
        "print(test_0.shape)\n",
        "print(test_1.shape)"
      ],
      "metadata": {
        "colab": {
          "base_uri": "https://localhost:8080/"
        },
        "id": "wTANv33Q6BYx",
        "outputId": "676d2f0a-6be4-4756-947d-13382ae9ba0b"
      },
      "execution_count": null,
      "outputs": [
        {
          "output_type": "stream",
          "name": "stdout",
          "text": [
            "(71079, 31)\n",
            "(123, 31)\n"
          ]
        }
      ]
    },
    {
      "cell_type": "code",
      "source": [
        "# base rate 1:1인 test set\n",
        "test_0_br_1 = test_0.sample(n=len(test_1))\n",
        "test_br1 = pd.concat([test_0_br_1, test_1])\n",
        "test_br1 = test_br1.sample(frac=1)\n",
        "X_test_br1 = test_br1.drop('Class', axis=1)\n",
        "y_test_br1 = test_br1['Class']\n",
        "\n",
        "# base rate 1:10인 test set\n",
        "test_0_br_10 = test_0.sample(n=len(test_1)*10)\n",
        "test_br10 = pd.concat([test_0_br_10, test_1])\n",
        "test_br10 = test_br10.sample(frac=1)\n",
        "X_test_br10 = test_br10.drop('Class', axis=1)\n",
        "y_test_br10 = test_br10['Class']\n",
        "\n",
        "# base rate 1:100인 test set\n",
        "test_0_br_100 = test_0.sample(n=len(test_1)*100)\n",
        "test_br100 = pd.concat([test_0_br_100, test_1])\n",
        "test_br100 = test_br100.sample(frac=1)\n",
        "X_test_br100 = test_br100.drop('Class', axis=1)\n",
        "y_test_br100 = test_br100['Class']\n",
        "\n",
        "# base rate 1:577.87인 test set (원본)\n",
        "X_test_brreal = test_x.drop('Class', axis=1)\n",
        "y_test_brreal = test_x['Class']"
      ],
      "metadata": {
        "id": "7S3mNf2965FA"
      },
      "execution_count": null,
      "outputs": []
    },
    {
      "cell_type": "code",
      "source": [
        "print(X_test_br1.shape, y_test_br1.shape)\n",
        "print(X_test_br10.shape, y_test_br10.shape)\n",
        "print(X_test_br100.shape, y_test_br100.shape)\n",
        "print(X_test_brreal.shape, y_test_brreal.shape)"
      ],
      "metadata": {
        "colab": {
          "base_uri": "https://localhost:8080/"
        },
        "id": "iX3VwUVU7duS",
        "outputId": "bda95a05-8d6b-408c-b45d-8ea8fdc8f049"
      },
      "execution_count": null,
      "outputs": [
        {
          "output_type": "stream",
          "name": "stdout",
          "text": [
            "(246, 30) (246,)\n",
            "(1353, 30) (1353,)\n",
            "(12423, 30) (12423,)\n",
            "(71202, 30) (71202,)\n"
          ]
        }
      ]
    },
    {
      "cell_type": "markdown",
      "source": [
        "1. Logistic Regression"
      ],
      "metadata": {
        "id": "R1oXIGwN9uj5"
      }
    },
    {
      "cell_type": "code",
      "source": [
        "from sklearn.linear_model import LogisticRegression\n",
        "lr = LogisticRegression(random_state=32)\n",
        "lr.fit(train_x, train_y)"
      ],
      "metadata": {
        "colab": {
          "base_uri": "https://localhost:8080/"
        },
        "id": "PXID0j0f74Gg",
        "outputId": "6d206bf2-0ff2-48c9-a8f4-c5545885e96e"
      },
      "execution_count": null,
      "outputs": [
        {
          "output_type": "stream",
          "name": "stderr",
          "text": [
            "/usr/local/lib/python3.8/dist-packages/sklearn/linear_model/_logistic.py:814: ConvergenceWarning: lbfgs failed to converge (status=1):\n",
            "STOP: TOTAL NO. of ITERATIONS REACHED LIMIT.\n",
            "\n",
            "Increase the number of iterations (max_iter) or scale the data as shown in:\n",
            "    https://scikit-learn.org/stable/modules/preprocessing.html\n",
            "Please also refer to the documentation for alternative solver options:\n",
            "    https://scikit-learn.org/stable/modules/linear_model.html#logistic-regression\n",
            "  n_iter_i = _check_optimize_result(\n"
          ]
        },
        {
          "output_type": "execute_result",
          "data": {
            "text/plain": [
              "LogisticRegression(random_state=32)"
            ]
          },
          "metadata": {},
          "execution_count": 8
        }
      ]
    },
    {
      "cell_type": "code",
      "source": [
        "# base rate = 1:1\n",
        "pred = lr.predict(X_test_br1)\n",
        "print (classification_report(y_test_br1, pred))"
      ],
      "metadata": {
        "colab": {
          "base_uri": "https://localhost:8080/"
        },
        "id": "PKxmaExr8D9z",
        "outputId": "9cb77e27-63ed-49b5-9616-f0faa62ed5f1"
      },
      "execution_count": null,
      "outputs": [
        {
          "output_type": "stream",
          "name": "stdout",
          "text": [
            "              precision    recall  f1-score   support\n",
            "\n",
            "           0       0.76      1.00      0.87       123\n",
            "           1       1.00      0.69      0.82       123\n",
            "\n",
            "    accuracy                           0.85       246\n",
            "   macro avg       0.88      0.85      0.84       246\n",
            "weighted avg       0.88      0.85      0.84       246\n",
            "\n"
          ]
        }
      ]
    },
    {
      "cell_type": "code",
      "source": [
        "precision_recall= average_precision_score(y_test_br1, pred)\n",
        "precision_lr_br1 = precision_score(y_test_br1, pred)\n",
        "recall = recall_score(y_test_br1, pred)\n",
        "auc  = roc_auc_score(y_test_br1, pred)\n",
        "f1_lr_br1 = f1_score(y_test_br1, pred)\n",
        "\n",
        "print('AUC: ', np.mean(auc))\n",
        "print('Precision: ', np.mean(precision_lr_br1))\n",
        "print('Recall: ', np.mean(recall))\n",
        "print('Precision-Recall: ', np.mean(precision_recall))\n",
        "print('F1-score: ', np.mean(f1_lr_br1))"
      ],
      "metadata": {
        "colab": {
          "base_uri": "https://localhost:8080/"
        },
        "id": "qMDthLJU8ItH",
        "outputId": "c6d86ef7-2b08-42c2-d8d6-0abdad0d1158"
      },
      "execution_count": null,
      "outputs": [
        {
          "output_type": "stream",
          "name": "stdout",
          "text": [
            "AUC:  0.8455284552845528\n",
            "Precision:  1.0\n",
            "Recall:  0.6910569105691057\n",
            "Precision-Recall:  0.8455284552845528\n",
            "F1-score:  0.8173076923076924\n"
          ]
        }
      ]
    },
    {
      "cell_type": "code",
      "source": [
        "# base rate = 1:10\n",
        "pred = lr.predict(X_test_br10)\n",
        "print (classification_report(y_test_br10, pred))"
      ],
      "metadata": {
        "colab": {
          "base_uri": "https://localhost:8080/"
        },
        "id": "_s2cpk5g8nbO",
        "outputId": "4a9d32fa-6aec-4dbd-f8e3-284586331bfe"
      },
      "execution_count": null,
      "outputs": [
        {
          "output_type": "stream",
          "name": "stdout",
          "text": [
            "              precision    recall  f1-score   support\n",
            "\n",
            "           0       0.97      1.00      0.98      1230\n",
            "           1       1.00      0.69      0.82       123\n",
            "\n",
            "    accuracy                           0.97      1353\n",
            "   macro avg       0.99      0.85      0.90      1353\n",
            "weighted avg       0.97      0.97      0.97      1353\n",
            "\n"
          ]
        }
      ]
    },
    {
      "cell_type": "code",
      "source": [
        "precision_recall= average_precision_score(y_test_br10, pred)\n",
        "precision_lr_br10 = precision_score(y_test_br10, pred)\n",
        "recall = recall_score(y_test_br10, pred)\n",
        "auc  = roc_auc_score(y_test_br10, pred)\n",
        "f1_lr_br10 = f1_score(y_test_br10, pred)\n",
        "\n",
        "print('AUC: ', np.mean(auc))\n",
        "print('Precision: ', np.mean(precision_lr_br10))\n",
        "print('Recall: ', np.mean(recall))\n",
        "print('Precision-Recall: ', np.mean(precision_recall))\n",
        "print('F1-score: ', np.mean(f1_lr_br10))"
      ],
      "metadata": {
        "colab": {
          "base_uri": "https://localhost:8080/"
        },
        "id": "16ylTt038ySn",
        "outputId": "4d1bd11f-364e-4f52-c8f0-b777037164ac"
      },
      "execution_count": null,
      "outputs": [
        {
          "output_type": "stream",
          "name": "stdout",
          "text": [
            "AUC:  0.8455284552845528\n",
            "Precision:  1.0\n",
            "Recall:  0.6910569105691057\n",
            "Precision-Recall:  0.7191426459719142\n",
            "F1-score:  0.8173076923076924\n"
          ]
        }
      ]
    },
    {
      "cell_type": "code",
      "source": [
        "# base rate = 1:100\n",
        "pred = lr.predict(X_test_br100)\n",
        "print (classification_report(y_test_br100, pred))"
      ],
      "metadata": {
        "colab": {
          "base_uri": "https://localhost:8080/"
        },
        "id": "DzjOQqUm82fh",
        "outputId": "5a6e32c0-1b16-4fcc-d80c-dc0323ba1dbb"
      },
      "execution_count": null,
      "outputs": [
        {
          "output_type": "stream",
          "name": "stdout",
          "text": [
            "              precision    recall  f1-score   support\n",
            "\n",
            "           0       1.00      1.00      1.00     12300\n",
            "           1       0.93      0.69      0.79       123\n",
            "\n",
            "    accuracy                           1.00     12423\n",
            "   macro avg       0.97      0.85      0.90     12423\n",
            "weighted avg       1.00      1.00      1.00     12423\n",
            "\n"
          ]
        }
      ]
    },
    {
      "cell_type": "code",
      "source": [
        "precision_recall= average_precision_score(y_test_br100, pred)\n",
        "precision_lr_br100 = precision_score(y_test_br100, pred)\n",
        "recall = recall_score(y_test_br100, pred)\n",
        "auc  = roc_auc_score(y_test_br100, pred)\n",
        "f1_lr_br100 = f1_score(y_test_br100, pred)\n",
        "\n",
        "print('AUC: ', np.mean(auc))\n",
        "print('Precision: ', np.mean(precision_lr_br100))\n",
        "print('Recall: ', np.mean(recall))\n",
        "print('Precision-Recall: ', np.mean(precision_recall))\n",
        "print('F1-score: ', np.mean(f1_lr_br100))"
      ],
      "metadata": {
        "colab": {
          "base_uri": "https://localhost:8080/"
        },
        "id": "2J7Rd4dc86eF",
        "outputId": "c77f9d29-6d6a-4cb7-f4d3-09453d166afb"
      },
      "execution_count": null,
      "outputs": [
        {
          "output_type": "stream",
          "name": "stdout",
          "text": [
            "AUC:  0.8452845528455284\n",
            "Precision:  0.9340659340659341\n",
            "Recall:  0.6910569105691057\n",
            "Precision-Recall:  0.6485515611330632\n",
            "F1-score:  0.794392523364486\n"
          ]
        }
      ]
    },
    {
      "cell_type": "code",
      "source": [
        "# base rate = 1:577.87\n",
        "pred = lr.predict(X_test_brreal)\n",
        "print (classification_report(y_test_brreal, pred))"
      ],
      "metadata": {
        "colab": {
          "base_uri": "https://localhost:8080/"
        },
        "id": "c2nLTDRW9LwN",
        "outputId": "0c73e3dc-32c0-4dc4-8711-3ceb4804cc97"
      },
      "execution_count": null,
      "outputs": [
        {
          "output_type": "stream",
          "name": "stdout",
          "text": [
            "              precision    recall  f1-score   support\n",
            "\n",
            "           0       1.00      1.00      1.00     71079\n",
            "           1       0.71      0.69      0.70       123\n",
            "\n",
            "    accuracy                           1.00     71202\n",
            "   macro avg       0.86      0.85      0.85     71202\n",
            "weighted avg       1.00      1.00      1.00     71202\n",
            "\n"
          ]
        }
      ]
    },
    {
      "cell_type": "code",
      "source": [
        "precision_recall= average_precision_score(y_test_brreal, pred)\n",
        "precision_lr_brreal = precision_score(y_test_brreal, pred)\n",
        "recall = recall_score(y_test_brreal, pred)\n",
        "auc  = roc_auc_score(y_test_brreal, pred)\n",
        "f1_lr_brreal = f1_score(y_test_brreal, pred)\n",
        "\n",
        "print('AUC: ', np.mean(auc))\n",
        "print('Precision: ', np.mean(precision_lr_brreal))\n",
        "print('Recall: ', np.mean(recall))\n",
        "print('Precision-Recall: ', np.mean(precision_recall))\n",
        "print('F1-score: ', np.mean(f1_lr_brreal))"
      ],
      "metadata": {
        "colab": {
          "base_uri": "https://localhost:8080/"
        },
        "id": "ngQX1DJR9jPa",
        "outputId": "10f71346-112a-45dc-d2eb-c94ca2aa5087"
      },
      "execution_count": null,
      "outputs": [
        {
          "output_type": "stream",
          "name": "stdout",
          "text": [
            "AUC:  0.8452892847841237\n",
            "Precision:  0.7142857142857143\n",
            "Recall:  0.6910569105691057\n",
            "Precision-Recall:  0.4941457718517283\n",
            "F1-score:  0.7024793388429752\n"
          ]
        }
      ]
    },
    {
      "cell_type": "markdown",
      "source": [
        "2. MLP"
      ],
      "metadata": {
        "id": "YXfGSY189rDA"
      }
    },
    {
      "cell_type": "code",
      "source": [
        "from sklearn.neural_network import MLPClassifier\n",
        "mlp = MLPClassifier()\n",
        "mlp.fit(train_x, train_y)"
      ],
      "metadata": {
        "colab": {
          "base_uri": "https://localhost:8080/"
        },
        "id": "qIbRCGaC90X9",
        "outputId": "1d5cac94-47e6-4a6d-c8b6-8641a51ff7f9"
      },
      "execution_count": null,
      "outputs": [
        {
          "output_type": "execute_result",
          "data": {
            "text/plain": [
              "MLPClassifier()"
            ]
          },
          "metadata": {},
          "execution_count": 17
        }
      ]
    },
    {
      "cell_type": "code",
      "source": [
        "# base rate = 1:1\n",
        "pred = mlp.predict(X_test_br1)\n",
        "print (classification_report(y_test_br1, pred))"
      ],
      "metadata": {
        "colab": {
          "base_uri": "https://localhost:8080/"
        },
        "id": "plYqLz3S-Ab8",
        "outputId": "b4f4a592-8af8-4ee8-9a40-5690811948cb"
      },
      "execution_count": null,
      "outputs": [
        {
          "output_type": "stream",
          "name": "stdout",
          "text": [
            "              precision    recall  f1-score   support\n",
            "\n",
            "           0       0.83      1.00      0.91       123\n",
            "           1       1.00      0.80      0.89       123\n",
            "\n",
            "    accuracy                           0.90       246\n",
            "   macro avg       0.92      0.90      0.90       246\n",
            "weighted avg       0.92      0.90      0.90       246\n",
            "\n"
          ]
        }
      ]
    },
    {
      "cell_type": "code",
      "source": [
        "precision_recall= average_precision_score(y_test_br1, pred)\n",
        "precision_mlp_br1 = precision_score(y_test_br1, pred)\n",
        "recall = recall_score(y_test_br1, pred)\n",
        "auc  = roc_auc_score(y_test_br1, pred)\n",
        "f1_mlp_br1 = f1_score(y_test_br1, pred)\n",
        "\n",
        "print('AUC: ', np.mean(auc))\n",
        "print('Precision: ', np.mean(precision_mlp_br1))\n",
        "print('Recall: ', np.mean(recall))\n",
        "print('Precision-Recall: ', np.mean(precision_recall))\n",
        "print('F1-score: ', np.mean(f1_mlp_br1))"
      ],
      "metadata": {
        "colab": {
          "base_uri": "https://localhost:8080/"
        },
        "id": "P4PJFi5b-UQk",
        "outputId": "3637dff3-b2ba-4924-c726-e8428b4c91af"
      },
      "execution_count": null,
      "outputs": [
        {
          "output_type": "stream",
          "name": "stdout",
          "text": [
            "AUC:  0.8983739837398375\n",
            "Precision:  1.0\n",
            "Recall:  0.7967479674796748\n",
            "Precision-Recall:  0.8983739837398375\n",
            "F1-score:  0.8868778280542986\n"
          ]
        }
      ]
    },
    {
      "cell_type": "code",
      "source": [
        "# base rate = 1:10\n",
        "pred = mlp.predict(X_test_br10)\n",
        "print (classification_report(y_test_br10, pred))"
      ],
      "metadata": {
        "colab": {
          "base_uri": "https://localhost:8080/"
        },
        "id": "k1krX9yv-ZRR",
        "outputId": "04e61e61-c416-4cea-b6fd-ed0c1e846fb9"
      },
      "execution_count": null,
      "outputs": [
        {
          "output_type": "stream",
          "name": "stdout",
          "text": [
            "              precision    recall  f1-score   support\n",
            "\n",
            "           0       0.98      1.00      0.99      1230\n",
            "           1       1.00      0.80      0.89       123\n",
            "\n",
            "    accuracy                           0.98      1353\n",
            "   macro avg       0.99      0.90      0.94      1353\n",
            "weighted avg       0.98      0.98      0.98      1353\n",
            "\n"
          ]
        }
      ]
    },
    {
      "cell_type": "code",
      "source": [
        "precision_recall= average_precision_score(y_test_br10, pred)\n",
        "precision_mlp_br10 = precision_score(y_test_br10, pred)\n",
        "recall = recall_score(y_test_br10, pred)\n",
        "auc  = roc_auc_score(y_test_br10, pred)\n",
        "f1_mlp_br10 = f1_score(y_test_br10, pred)\n",
        "\n",
        "print('AUC: ', np.mean(auc))\n",
        "print('Precision: ', np.mean(precision_mlp_br10))\n",
        "print('Recall: ', np.mean(recall))\n",
        "print('Precision-Recall: ', np.mean(precision_recall))\n",
        "print('F1-score: ', np.mean(f1_mlp_br10))"
      ],
      "metadata": {
        "colab": {
          "base_uri": "https://localhost:8080/"
        },
        "id": "0n89I_FO-ZMN",
        "outputId": "f15ff35e-645c-4cd4-8401-68d0d56bb7f2"
      },
      "execution_count": null,
      "outputs": [
        {
          "output_type": "stream",
          "name": "stdout",
          "text": [
            "AUC:  0.8983739837398375\n",
            "Precision:  1.0\n",
            "Recall:  0.7967479674796748\n",
            "Precision-Recall:  0.8152254249815225\n",
            "F1-score:  0.8868778280542986\n"
          ]
        }
      ]
    },
    {
      "cell_type": "code",
      "source": [
        "# base rate = 1:100\n",
        "pred = mlp.predict(X_test_br100)\n",
        "print (classification_report(y_test_br100, pred))"
      ],
      "metadata": {
        "colab": {
          "base_uri": "https://localhost:8080/"
        },
        "id": "v_cKgwgu-ZJx",
        "outputId": "1d5cce31-643c-4697-bfab-6aa9b6516faf"
      },
      "execution_count": null,
      "outputs": [
        {
          "output_type": "stream",
          "name": "stdout",
          "text": [
            "              precision    recall  f1-score   support\n",
            "\n",
            "           0       1.00      1.00      1.00     12300\n",
            "           1       0.88      0.80      0.83       123\n",
            "\n",
            "    accuracy                           1.00     12423\n",
            "   macro avg       0.94      0.90      0.92     12423\n",
            "weighted avg       1.00      1.00      1.00     12423\n",
            "\n"
          ]
        }
      ]
    },
    {
      "cell_type": "code",
      "source": [
        "precision_recall= average_precision_score(y_test_br100, pred)\n",
        "precision_mlp_br100 = precision_score(y_test_br100, pred)\n",
        "recall = recall_score(y_test_br100, pred)\n",
        "auc  = roc_auc_score(y_test_br100, pred)\n",
        "f1_mlp_br100 = f1_score(y_test_br100, pred)\n",
        "\n",
        "print('AUC: ', np.mean(auc))\n",
        "print('Precision: ', np.mean(precision_mlp_br100))\n",
        "print('Recall: ', np.mean(recall))\n",
        "print('Precision-Recall: ', np.mean(precision_recall))\n",
        "print('F1-score: ', np.mean(f1_mlp_br100))"
      ],
      "metadata": {
        "colab": {
          "base_uri": "https://localhost:8080/"
        },
        "id": "NLT-PEyz-ZHd",
        "outputId": "ad04b97e-fba3-4e45-ef78-ab833648a2a3"
      },
      "execution_count": null,
      "outputs": [
        {
          "output_type": "stream",
          "name": "stdout",
          "text": [
            "AUC:  0.8978048780487806\n",
            "Precision:  0.875\n",
            "Recall:  0.7967479674796748\n",
            "Precision-Recall:  0.6991668679063028\n",
            "F1-score:  0.8340425531914893\n"
          ]
        }
      ]
    },
    {
      "cell_type": "code",
      "source": [
        "# base rate = 1:577.87\n",
        "pred = mlp.predict(X_test_brreal)\n",
        "print (classification_report(y_test_brreal, pred))"
      ],
      "metadata": {
        "colab": {
          "base_uri": "https://localhost:8080/"
        },
        "id": "vhk1Y30o-ZE9",
        "outputId": "8f3cca0f-21ed-4856-fb72-3a850e3a9352"
      },
      "execution_count": null,
      "outputs": [
        {
          "output_type": "stream",
          "name": "stdout",
          "text": [
            "              precision    recall  f1-score   support\n",
            "\n",
            "           0       1.00      1.00      1.00     71079\n",
            "           1       0.55      0.80      0.65       123\n",
            "\n",
            "    accuracy                           1.00     71202\n",
            "   macro avg       0.77      0.90      0.82     71202\n",
            "weighted avg       1.00      1.00      1.00     71202\n",
            "\n"
          ]
        }
      ]
    },
    {
      "cell_type": "code",
      "source": [
        "precision_recall= average_precision_score(y_test_brreal, pred)\n",
        "precision_mlp_brreal = precision_score(y_test_brreal, pred)\n",
        "recall = recall_score(y_test_brreal, pred)\n",
        "auc  = roc_auc_score(y_test_brreal, pred)\n",
        "f1_mlp_brreal = f1_score(y_test_brreal, pred)\n",
        "\n",
        "print('AUC: ', np.mean(auc))\n",
        "print('Precision: ', np.mean(precision_mlp_brreal))\n",
        "print('Recall: ', np.mean(recall))\n",
        "print('Precision-Recall: ', np.mean(precision_recall))\n",
        "print('F1-score: ', np.mean(f1_mlp_brreal))"
      ],
      "metadata": {
        "colab": {
          "base_uri": "https://localhost:8080/"
        },
        "id": "Pyc_aU-6-ZCb",
        "outputId": "70044ca6-b8df-4f86-a290-3e16dae2e1d2"
      },
      "execution_count": null,
      "outputs": [
        {
          "output_type": "stream",
          "name": "stdout",
          "text": [
            "AUC:  0.8978041951946976\n",
            "Precision:  0.547486033519553\n",
            "Recall:  0.7967479674796748\n",
            "Precision-Recall:  0.4365594981629733\n",
            "F1-score:  0.6490066225165562\n"
          ]
        }
      ]
    },
    {
      "cell_type": "markdown",
      "source": [
        "3. Random Forest"
      ],
      "metadata": {
        "id": "1JL8XOpQ_wE2"
      }
    },
    {
      "cell_type": "code",
      "source": [
        "from sklearn.ensemble import RandomForestClassifier\n",
        "rfc = RandomForestClassifier(n_estimators=100, random_state=32)\n",
        "rfc.fit(train_x, train_y)"
      ],
      "metadata": {
        "colab": {
          "base_uri": "https://localhost:8080/"
        },
        "id": "h_fvHVZV-ZAC",
        "outputId": "3a1d583f-b106-4637-d3e1-3471f068148f"
      },
      "execution_count": null,
      "outputs": [
        {
          "output_type": "execute_result",
          "data": {
            "text/plain": [
              "RandomForestClassifier(random_state=32)"
            ]
          },
          "metadata": {},
          "execution_count": 31
        }
      ]
    },
    {
      "cell_type": "code",
      "source": [
        "# base rate = 1:1\n",
        "pred = rfc.predict(X_test_br1)\n",
        "print (classification_report(y_test_br1, pred))"
      ],
      "metadata": {
        "colab": {
          "base_uri": "https://localhost:8080/"
        },
        "id": "zEp46N9g_7rZ",
        "outputId": "4c097a85-a266-44bf-86ea-cc6827f4dcf7"
      },
      "execution_count": null,
      "outputs": [
        {
          "output_type": "stream",
          "name": "stdout",
          "text": [
            "              precision    recall  f1-score   support\n",
            "\n",
            "           0       0.81      1.00      0.89       123\n",
            "           1       1.00      0.76      0.87       123\n",
            "\n",
            "    accuracy                           0.88       246\n",
            "   macro avg       0.90      0.88      0.88       246\n",
            "weighted avg       0.90      0.88      0.88       246\n",
            "\n"
          ]
        }
      ]
    },
    {
      "cell_type": "code",
      "source": [
        "precision_recall= average_precision_score(y_test_br1, pred)\n",
        "precision_rf_br1 = precision_score(y_test_br1, pred)\n",
        "recall = recall_score(y_test_br1, pred)\n",
        "auc  = roc_auc_score(y_test_br1, pred)\n",
        "f1_rf_br1 = f1_score(y_test_br1, pred)\n",
        "\n",
        "print('AUC: ', np.mean(auc))\n",
        "print('Precision: ', np.mean(precision_rf_br1))\n",
        "print('Recall: ', np.mean(recall))\n",
        "print('Precision-Recall: ', np.mean(precision_recall))\n",
        "print('F1-score: ', np.mean(f1_rf_br1))"
      ],
      "metadata": {
        "colab": {
          "base_uri": "https://localhost:8080/"
        },
        "id": "b2GOUkhwAEpW",
        "outputId": "750a90d9-5d73-4eab-d0ba-5b81206a046a"
      },
      "execution_count": null,
      "outputs": [
        {
          "output_type": "stream",
          "name": "stdout",
          "text": [
            "AUC:  0.8821138211382114\n",
            "Precision:  1.0\n",
            "Recall:  0.7642276422764228\n",
            "Precision-Recall:  0.8821138211382114\n",
            "F1-score:  0.8663594470046084\n"
          ]
        }
      ]
    },
    {
      "cell_type": "code",
      "source": [
        "# base rate = 1:10\n",
        "pred = rfc.predict(X_test_br10)\n",
        "print (classification_report(y_test_br10, pred))"
      ],
      "metadata": {
        "colab": {
          "base_uri": "https://localhost:8080/"
        },
        "id": "-2q1fyO6AEl9",
        "outputId": "688b27f6-8f59-4f84-9cd3-b47937462f9f"
      },
      "execution_count": null,
      "outputs": [
        {
          "output_type": "stream",
          "name": "stdout",
          "text": [
            "              precision    recall  f1-score   support\n",
            "\n",
            "           0       0.98      1.00      0.99      1230\n",
            "           1       1.00      0.76      0.87       123\n",
            "\n",
            "    accuracy                           0.98      1353\n",
            "   macro avg       0.99      0.88      0.93      1353\n",
            "weighted avg       0.98      0.98      0.98      1353\n",
            "\n"
          ]
        }
      ]
    },
    {
      "cell_type": "code",
      "source": [
        "precision_recall= average_precision_score(y_test_br10, pred)\n",
        "precision_rf_br10 = precision_score(y_test_br10, pred)\n",
        "recall = recall_score(y_test_br10, pred)\n",
        "auc  = roc_auc_score(y_test_br10, pred)\n",
        "f1_rf_br10 = f1_score(y_test_br10, pred)\n",
        "\n",
        "print('AUC: ', np.mean(auc))\n",
        "print('Precision: ', np.mean(precision_rf_br10))\n",
        "print('Recall: ', np.mean(recall))\n",
        "print('Precision-Recall: ', np.mean(precision_recall))\n",
        "print('F1-score: ', np.mean(f1_rf_br10))"
      ],
      "metadata": {
        "colab": {
          "base_uri": "https://localhost:8080/"
        },
        "id": "ZI4tqjurAEjc",
        "outputId": "439272e6-d992-4825-f34a-ac64ea799845"
      },
      "execution_count": null,
      "outputs": [
        {
          "output_type": "stream",
          "name": "stdout",
          "text": [
            "AUC:  0.8821138211382114\n",
            "Precision:  1.0\n",
            "Recall:  0.7642276422764228\n",
            "Precision-Recall:  0.7856614929785662\n",
            "F1-score:  0.8663594470046084\n"
          ]
        }
      ]
    },
    {
      "cell_type": "code",
      "source": [
        "# base rate = 1:100\n",
        "pred = rfc.predict(X_test_br100)\n",
        "print (classification_report(y_test_br100, pred))"
      ],
      "metadata": {
        "colab": {
          "base_uri": "https://localhost:8080/"
        },
        "id": "12gINR7aAK83",
        "outputId": "c62a18ea-251f-4f98-bc4e-8fe7aa1e21de"
      },
      "execution_count": null,
      "outputs": [
        {
          "output_type": "stream",
          "name": "stdout",
          "text": [
            "              precision    recall  f1-score   support\n",
            "\n",
            "           0       1.00      1.00      1.00     12300\n",
            "           1       0.99      0.76      0.86       123\n",
            "\n",
            "    accuracy                           1.00     12423\n",
            "   macro avg       0.99      0.88      0.93     12423\n",
            "weighted avg       1.00      1.00      1.00     12423\n",
            "\n"
          ]
        }
      ]
    },
    {
      "cell_type": "code",
      "source": [
        "precision_recall= average_precision_score(y_test_br100, pred)\n",
        "precision_rf_br100 = precision_score(y_test_br100, pred)\n",
        "recall = recall_score(y_test_br100, pred)\n",
        "auc  = roc_auc_score(y_test_br100, pred)\n",
        "f1_rf_br100 = f1_score(y_test_br100, pred)\n",
        "\n",
        "print('AUC: ', np.mean(auc))\n",
        "print('Precision: ', np.mean(precision_rf_br100))\n",
        "print('Recall: ', np.mean(recall))\n",
        "print('Precision-Recall: ', np.mean(precision_recall))\n",
        "print('F1-score: ', np.mean(f1_rf_br100))"
      ],
      "metadata": {
        "colab": {
          "base_uri": "https://localhost:8080/"
        },
        "id": "DTKgiqf6ALqd",
        "outputId": "ad54c9d8-d67f-4d57-983b-d5644420fd78"
      },
      "execution_count": null,
      "outputs": [
        {
          "output_type": "stream",
          "name": "stdout",
          "text": [
            "AUC:  0.8820731707317072\n",
            "Precision:  0.9894736842105263\n",
            "Recall:  0.7642276422764228\n",
            "Precision-Recall:  0.7585175205582176\n",
            "F1-score:  0.8623853211009175\n"
          ]
        }
      ]
    },
    {
      "cell_type": "code",
      "source": [
        "# base rate = 1:577.87\n",
        "pred = rfc.predict(X_test_brreal)\n",
        "print (classification_report(y_test_brreal, pred))"
      ],
      "metadata": {
        "colab": {
          "base_uri": "https://localhost:8080/"
        },
        "id": "FQK45M0JANy_",
        "outputId": "badee631-0846-4219-f4a1-98b55a10596b"
      },
      "execution_count": null,
      "outputs": [
        {
          "output_type": "stream",
          "name": "stdout",
          "text": [
            "              precision    recall  f1-score   support\n",
            "\n",
            "           0       1.00      1.00      1.00     71079\n",
            "           1       0.97      0.76      0.85       123\n",
            "\n",
            "    accuracy                           1.00     71202\n",
            "   macro avg       0.98      0.88      0.93     71202\n",
            "weighted avg       1.00      1.00      1.00     71202\n",
            "\n"
          ]
        }
      ]
    },
    {
      "cell_type": "code",
      "source": [
        "precision_recall= average_precision_score(y_test_brreal, pred)\n",
        "precision_rf_brreal = precision_score(y_test_brreal, pred)\n",
        "recall = recall_score(y_test_brreal, pred)\n",
        "auc  = roc_auc_score(y_test_brreal, pred)\n",
        "f1_rf_brreal = f1_score(y_test_brreal, pred)\n",
        "\n",
        "print('AUC: ', np.mean(auc))\n",
        "print('Precision: ', np.mean(precision_rf_brreal))\n",
        "print('Recall: ', np.mean(recall))\n",
        "print('Precision-Recall: ', np.mean(precision_recall))\n",
        "print('F1-score: ', np.mean(f1_rf_brreal))"
      ],
      "metadata": {
        "colab": {
          "base_uri": "https://localhost:8080/"
        },
        "id": "ilfftWHuAPIF",
        "outputId": "68b5e291-699b-4c91-f51f-5f12abeb5358"
      },
      "execution_count": null,
      "outputs": [
        {
          "output_type": "stream",
          "name": "stdout",
          "text": [
            "AUC:  0.8820927178587616\n",
            "Precision:  0.9690721649484536\n",
            "Recall:  0.7642276422764228\n",
            "Precision-Recall:  0.7409990277442674\n",
            "F1-score:  0.8545454545454546\n"
          ]
        }
      ]
    },
    {
      "cell_type": "markdown",
      "source": [
        "4. xgboost (our model)"
      ],
      "metadata": {
        "id": "kdt4d-8cBEmc"
      }
    },
    {
      "cell_type": "code",
      "source": [
        "from xgboost import XGBClassifier\n",
        "model = XGBClassifier(n_estimators=100, learning_rate=0.2, max_depth=4, random_state=32)\n",
        "model.fit(train_x, train_y)"
      ],
      "metadata": {
        "colab": {
          "base_uri": "https://localhost:8080/"
        },
        "id": "hVe7cy0eOfgJ",
        "outputId": "8c1401a1-2441-4cc6-f7fe-1ee3237acc96"
      },
      "execution_count": null,
      "outputs": [
        {
          "output_type": "execute_result",
          "data": {
            "text/plain": [
              "XGBClassifier(learning_rate=0.2, max_depth=4, random_state=32)"
            ]
          },
          "metadata": {},
          "execution_count": 40
        }
      ]
    },
    {
      "cell_type": "code",
      "source": [
        "# base rate = 1:1\n",
        "pred = model.predict(X_test_br1)\n",
        "print (classification_report(y_test_br1, pred))"
      ],
      "metadata": {
        "colab": {
          "base_uri": "https://localhost:8080/"
        },
        "id": "x1Qrcy7BOhAN",
        "outputId": "8bb9f43e-d21e-40ca-da99-cd0699703dae"
      },
      "execution_count": null,
      "outputs": [
        {
          "output_type": "stream",
          "name": "stdout",
          "text": [
            "              precision    recall  f1-score   support\n",
            "\n",
            "           0       0.84      1.00      0.91       123\n",
            "           1       1.00      0.80      0.89       123\n",
            "\n",
            "    accuracy                           0.90       246\n",
            "   macro avg       0.92      0.90      0.90       246\n",
            "weighted avg       0.92      0.90      0.90       246\n",
            "\n"
          ]
        }
      ]
    },
    {
      "cell_type": "code",
      "source": [
        "precision_recall= average_precision_score(y_test_br1, pred)\n",
        "precision_xgb_br1 = precision_score(y_test_br1, pred)\n",
        "recall = recall_score(y_test_br1, pred)\n",
        "auc  = roc_auc_score(y_test_br1, pred)\n",
        "f1_xgb_br1 = f1_score(y_test_br1, pred)\n",
        "\n",
        "print('AUC: ', np.mean(auc))\n",
        "print('Precision: ', np.mean(precision_xgb_br1))\n",
        "print('Recall: ', np.mean(recall))\n",
        "print('Precision-Recall: ', np.mean(precision_recall))\n",
        "print('F1-score: ', np.mean(f1_xgb_br1))"
      ],
      "metadata": {
        "colab": {
          "base_uri": "https://localhost:8080/"
        },
        "id": "xRxoenv7O5Gl",
        "outputId": "ecc095c0-663e-4d34-e698-0dbb3f9c2844"
      },
      "execution_count": null,
      "outputs": [
        {
          "output_type": "stream",
          "name": "stdout",
          "text": [
            "AUC:  0.9024390243902439\n",
            "Precision:  1.0\n",
            "Recall:  0.8048780487804879\n",
            "Precision-Recall:  0.9024390243902439\n",
            "F1-score:  0.8918918918918919\n"
          ]
        }
      ]
    },
    {
      "cell_type": "code",
      "source": [
        "# base rate = 1:10\n",
        "pred = model.predict(X_test_br10)\n",
        "print (classification_report(y_test_br10, pred))"
      ],
      "metadata": {
        "colab": {
          "base_uri": "https://localhost:8080/"
        },
        "id": "2DFpxNp_O9Qn",
        "outputId": "c812c36c-71c4-443b-d6f2-475ef734c588"
      },
      "execution_count": null,
      "outputs": [
        {
          "output_type": "stream",
          "name": "stdout",
          "text": [
            "              precision    recall  f1-score   support\n",
            "\n",
            "           0       0.98      1.00      0.99      1230\n",
            "           1       1.00      0.80      0.89       123\n",
            "\n",
            "    accuracy                           0.98      1353\n",
            "   macro avg       0.99      0.90      0.94      1353\n",
            "weighted avg       0.98      0.98      0.98      1353\n",
            "\n"
          ]
        }
      ]
    },
    {
      "cell_type": "code",
      "source": [
        "precision_recall= average_precision_score(y_test_br10, pred)\n",
        "precision_xgb_br10 = precision_score(y_test_br10, pred)\n",
        "recall = recall_score(y_test_br10, pred)\n",
        "auc  = roc_auc_score(y_test_br10, pred)\n",
        "f1_xgb_br10 = f1_score(y_test_br10, pred)\n",
        "\n",
        "print('AUC: ', np.mean(auc))\n",
        "print('Precision: ', np.mean(precision_xgb_br10))\n",
        "print('Recall: ', np.mean(recall))\n",
        "print('Precision-Recall: ', np.mean(precision_recall))\n",
        "print('F1-score: ', np.mean(f1_xgb_br10))"
      ],
      "metadata": {
        "colab": {
          "base_uri": "https://localhost:8080/"
        },
        "id": "nb3W6ykFPEib",
        "outputId": "fd9dfc2d-9a52-4dc0-b484-d204ba28fae1"
      },
      "execution_count": null,
      "outputs": [
        {
          "output_type": "stream",
          "name": "stdout",
          "text": [
            "AUC:  0.9024390243902439\n",
            "Precision:  1.0\n",
            "Recall:  0.8048780487804879\n",
            "Precision-Recall:  0.8226164079822617\n",
            "F1-score:  0.8918918918918919\n"
          ]
        }
      ]
    },
    {
      "cell_type": "code",
      "source": [
        "# base rate = 1:100\n",
        "pred = model.predict(X_test_br100)\n",
        "print (classification_report(y_test_br100, pred))"
      ],
      "metadata": {
        "colab": {
          "base_uri": "https://localhost:8080/"
        },
        "id": "Wg2F4kiWPI6W",
        "outputId": "5032fadd-5cee-4792-8116-40547d3167a7"
      },
      "execution_count": null,
      "outputs": [
        {
          "output_type": "stream",
          "name": "stdout",
          "text": [
            "              precision    recall  f1-score   support\n",
            "\n",
            "           0       1.00      1.00      1.00     12300\n",
            "           1       0.99      0.80      0.89       123\n",
            "\n",
            "    accuracy                           1.00     12423\n",
            "   macro avg       0.99      0.90      0.94     12423\n",
            "weighted avg       1.00      1.00      1.00     12423\n",
            "\n"
          ]
        }
      ]
    },
    {
      "cell_type": "code",
      "source": [
        "precision_recall= average_precision_score(y_test_br100, pred)\n",
        "precision_xgb_br100 = precision_score(y_test_br100, pred)\n",
        "recall = recall_score(y_test_br100, pred)\n",
        "auc  = roc_auc_score(y_test_br100, pred)\n",
        "f1_xgb_br100 = f1_score(y_test_br100, pred)\n",
        "\n",
        "print('AUC: ', np.mean(auc))\n",
        "print('Precision: ', np.mean(precision_xgb_br100))\n",
        "print('Recall: ', np.mean(recall))\n",
        "print('Precision-Recall: ', np.mean(precision_recall))\n",
        "print('F1-score: ', np.mean(f1_xgb_br100))"
      ],
      "metadata": {
        "colab": {
          "base_uri": "https://localhost:8080/"
        },
        "id": "yXvXnmYvPL-5",
        "outputId": "07bfb2d6-6372-4918-a5dd-e9d0e2553fb3"
      },
      "execution_count": null,
      "outputs": [
        {
          "output_type": "stream",
          "name": "stdout",
          "text": [
            "AUC:  0.9023983739837398\n",
            "Precision:  0.99\n",
            "Recall:  0.8048780487804879\n",
            "Precision-Recall:  0.7987611687998069\n",
            "F1-score:  0.8878923766816144\n"
          ]
        }
      ]
    },
    {
      "cell_type": "code",
      "source": [
        "# base rate = 1:577.87\n",
        "pred = model.predict(X_test_brreal)\n",
        "print (classification_report(y_test_brreal, pred))"
      ],
      "metadata": {
        "colab": {
          "base_uri": "https://localhost:8080/"
        },
        "id": "EVMO157APQ-i",
        "outputId": "defafa17-ce0b-46b5-c145-7988f78b07eb"
      },
      "execution_count": null,
      "outputs": [
        {
          "output_type": "stream",
          "name": "stdout",
          "text": [
            "              precision    recall  f1-score   support\n",
            "\n",
            "           0       1.00      1.00      1.00     71079\n",
            "           1       0.96      0.80      0.88       123\n",
            "\n",
            "    accuracy                           1.00     71202\n",
            "   macro avg       0.98      0.90      0.94     71202\n",
            "weighted avg       1.00      1.00      1.00     71202\n",
            "\n"
          ]
        }
      ]
    },
    {
      "cell_type": "code",
      "source": [
        "precision_recall= average_precision_score(y_test_brreal, pred)\n",
        "precision_xgb_brreal = precision_score(y_test_brreal, pred)\n",
        "recall = recall_score(y_test_brreal, pred)\n",
        "auc  = roc_auc_score(y_test_brreal, pred)\n",
        "f1_xgb_brreal = f1_score(y_test_brreal, pred)\n",
        "\n",
        "print('AUC: ', np.mean(auc))\n",
        "print('Precision: ', np.mean(precision_xgb_brreal))\n",
        "print('Recall: ', np.mean(recall))\n",
        "print('Precision-Recall: ', np.mean(precision_recall))\n",
        "print('F1-score: ', np.mean(f1_xgb_brreal))"
      ],
      "metadata": {
        "colab": {
          "base_uri": "https://localhost:8080/"
        },
        "id": "3CByRJCHPU4e",
        "outputId": "aee92d4f-57f6-421f-cd7c-cef5e26c53e4"
      },
      "execution_count": null,
      "outputs": [
        {
          "output_type": "stream",
          "name": "stdout",
          "text": [
            "AUC:  0.9024108866843111\n",
            "Precision:  0.9611650485436893\n",
            "Recall:  0.8048780487804879\n",
            "Precision-Recall:  0.7739577180112974\n",
            "F1-score:  0.8761061946902655\n"
          ]
        }
      ]
    },
    {
      "cell_type": "code",
      "source": [
        "import matplotlib.pyplot as plt\n",
        "import matplotlib.legend as legend\n",
        "index = [1, 10, 100, 577.87]\n",
        "\n",
        "LR=[np.mean(f1_lr_br1), np.mean(f1_lr_br10), np.mean(f1_lr_br100), np.mean(f1_lr_brreal)]\n",
        "lr,=plt.plot(index, LR, 'ro-')\n",
        "\n",
        "RF=[np.mean(f1_rf_br1), np.mean(f1_rf_br10), np.mean(f1_rf_br100),np.mean(f1_rf_brreal)]\n",
        "rf,=plt.plot(index, RF, 'go-')\n",
        "\n",
        "MLP=[np.mean(f1_mlp_br1), np.mean(f1_mlp_br10), np.mean(f1_mlp_br100), np.mean(f1_mlp_brreal)]\n",
        "mlp,=plt.plot(index, MLP, 'bo-')\n",
        "\n",
        "XGB=[np.mean(f1_xgb_br1), np.mean(f1_xgb_br10), np.mean(f1_xgb_br100), np.mean(f1_xgb_brreal)]\n",
        "xgb,=plt.plot(index, XGB, 'yo-')\n",
        "\n",
        "plt.legend([lr, rf, mlp, xgb],['Logistic Regression','Random Forest','MLP', 'XGBoost(Ours)'])\n",
        "plt.xlim([-50, 600])\n",
        "plt.ylim([0.6, 0.9])\n",
        "plt.xlabel('Base rate')\n",
        "plt.ylabel('F1 score')\n",
        "plt.grid(True)\n",
        "plt.show()"
      ],
      "metadata": {
        "id": "6_wU1DDlC-Ol",
        "colab": {
          "base_uri": "https://localhost:8080/",
          "height": 283
        },
        "outputId": "3efa9759-94f6-4c32-ac98-440ea477645d"
      },
      "execution_count": null,
      "outputs": [
        {
          "output_type": "display_data",
          "data": {
            "text/plain": [
              "<Figure size 432x288 with 1 Axes>"
            ],
            "image/png": "[encoded data removed]"
          },
          "metadata": {
            "needs_background": "light"
          }
        }
      ]
    },
    {
      "cell_type": "code",
      "source": [
        "import matplotlib.pyplot as plt\n",
        "import matplotlib.legend as legend\n",
        "index = [1, 10, 100, 577.87]\n",
        "\n",
        "LR=[np.mean(precision_lr_br1), np.mean(precision_lr_br10), np.mean(precision_lr_br100), np.mean(precision_lr_brreal)]\n",
        "lr,=plt.plot(index, LR, 'ro-')\n",
        "\n",
        "RF=[np.mean(precision_rf_br1), np.mean(precision_rf_br10), np.mean(precision_rf_br100),np.mean(precision_rf_brreal)]\n",
        "rf,=plt.plot(index, RF, 'go-')\n",
        "\n",
        "MLP=[np.mean(precision_mlp_br1), np.mean(precision_mlp_br10), np.mean(precision_mlp_br100), np.mean(precision_mlp_brreal)]\n",
        "mlp,=plt.plot(index, MLP, 'bo-')\n",
        "\n",
        "XGB=[np.mean(precision_xgb_br1), np.mean(precision_xgb_br10), np.mean(precision_xgb_br100), np.mean(precision_xgb_brreal)]\n",
        "xgb,=plt.plot(index, XGB, 'yo-')\n",
        "\n",
        "plt.legend([lr, rf, mlp, xgb],['Logistic Regression','Random Forest','MLP', 'XGBoost(Ours)'])\n",
        "plt.xlim([-50, 600])\n",
        "plt.ylim([0.45, 1.05])\n",
        "plt.xlabel('Base rate')\n",
        "plt.ylabel('Precision')\n",
        "plt.grid(True)\n",
        "plt.show()"
      ],
      "metadata": {
        "colab": {
          "base_uri": "https://localhost:8080/",
          "height": 279
        },
        "id": "njNmGVGwtLM9",
        "outputId": "2dbbfae1-1c79-4d7b-c9f7-f208c6bb7585"
      },
      "execution_count": null,
      "outputs": [
        {
          "output_type": "display_data",
          "data": {
            "text/plain": [
              "<Figure size 432x288 with 1 Axes>"
            ],
            "image/png": "[encoded data removed]"
          },
          "metadata": {
            "needs_background": "light"
          }
        }
      ]
    }
  ]
}