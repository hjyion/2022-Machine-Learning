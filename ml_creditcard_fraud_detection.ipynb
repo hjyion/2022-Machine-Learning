{
  "nbformat": 4,
  "nbformat_minor": 0,
  "metadata": {
    "colab": {
      "provenance": []
    },
    "kernelspec": {
      "name": "python3",
      "display_name": "Python 3"
    },
    "language_info": {
      "name": "python"
    },
    "gpuClass": "standard"
  },
  "cells": [
    {
      "cell_type": "code",
      "execution_count": null,
      "metadata": {
        "colab": {
          "base_uri": "https://localhost:8080/"
        },
        "id": "EKSmGK8X5d_X",
        "outputId": "00593c1e-ffd4-48a8-b7cc-1c79ce8ea80b"
      },
      "outputs": [
        {
          "output_type": "stream",
          "name": "stdout",
          "text": [
            "Drive already mounted at /content/drive; to attempt to forcibly remount, call drive.mount(\"/content/drive\", force_remount=True).\n"
          ]
        }
      ],
      "source": [
        "from google.colab import drive\n",
        "import pandas as pd\n",
        "drive.mount('/content/drive')\n",
        "data = pd.read_csv('/content/drive/MyDrive/creditcard.csv')"
      ]
    },
    {
      "cell_type": "code",
      "source": [
        "import matplotlib.pyplot as plt\n",
        "import seaborn as sns\n",
        "import numpy as np"
      ],
      "metadata": {
        "id": "YwDUTa_y9Wga"
      },
      "execution_count": null,
      "outputs": []
    },
    {
      "cell_type": "code",
      "source": [
        "from sklearn.model_selection import train_test_split\n",
        "x = data.drop(columns='Class', axis=1)\n",
        "y = data['Class']\n",
        "train_x, test_x, train_y, test_y = train_test_split(x, y, test_size=0.25, stratify=y, shuffle=True, random_state=10)"
      ],
      "metadata": {
        "id": "X7Qt8Ebf9aYq"
      },
      "execution_count": null,
      "outputs": []
    },
    {
      "cell_type": "code",
      "source": [
        "data.head()"
      ],
      "metadata": {
        "colab": {
          "base_uri": "https://localhost:8080/",
          "height": 299
        },
        "id": "OitJp6SChncG",
        "outputId": "af1343d5-769a-4d06-c99c-df0eb125d62d"
      },
      "execution_count": 116,
      "outputs": [
        {
          "output_type": "execute_result",
          "data": {
            "text/plain": [
              "   Time        V1        V2        V3        V4        V5        V6        V7  \\\n",
              "0   0.0 -1.359807 -0.072781  2.536347  1.378155 -0.338321  0.462388  0.239599   \n",
              "1   0.0  1.191857  0.266151  0.166480  0.448154  0.060018 -0.082361 -0.078803   \n",
              "2   1.0 -1.358354 -1.340163  1.773209  0.379780 -0.503198  1.800499  0.791461   \n",
              "3   1.0 -0.966272 -0.185226  1.792993 -0.863291 -0.010309  1.247203  0.237609   \n",
              "4   2.0 -1.158233  0.877737  1.548718  0.403034 -0.407193  0.095921  0.592941   \n",
              "\n",
              "         V8        V9  ...       V21       V22       V23       V24       V25  \\\n",
              "0  0.098698  0.363787  ... -0.018307  0.277838 -0.110474  0.066928  0.128539   \n",
              "1  0.085102 -0.255425  ... -0.225775 -0.638672  0.101288 -0.339846  0.167170   \n",
              "2  0.247676 -1.514654  ...  0.247998  0.771679  0.909412 -0.689281 -0.327642   \n",
              "3  0.377436 -1.387024  ... -0.108300  0.005274 -0.190321 -1.175575  0.647376   \n",
              "4 -0.270533  0.817739  ... -0.009431  0.798278 -0.137458  0.141267 -0.206010   \n",
              "\n",
              "        V26       V27       V28  Amount  Class  \n",
              "0 -0.189115  0.133558 -0.021053  149.62      0  \n",
              "1  0.125895 -0.008983  0.014724    2.69      0  \n",
              "2 -0.139097 -0.055353 -0.059752  378.66      0  \n",
              "3 -0.221929  0.062723  0.061458  123.50      0  \n",
              "4  0.502292  0.219422  0.215153   69.99      0  \n",
              "\n",
              "[5 rows x 31 columns]"
            ],
            "text/html": [
              "\n",
              "  <div id=\"df-a06a42b1-88a5-4629-8efa-6f7eb5e80b88\">\n",
              "    <div class=\"colab-df-container\">\n",
              "      <div>\n",
              "<style scoped>\n",
              "    .dataframe tbody tr th:only-of-type {\n",
              "        vertical-align: middle;\n",
              "    }\n",
              "\n",
              "    .dataframe tbody tr th {\n",
              "        vertical-align: top;\n",
              "    }\n",
              "\n",
              "    .dataframe thead th {\n",
              "        text-align: right;\n",
              "    }\n",
              "</style>\n",
              "<table border=\"1\" class=\"dataframe\">\n",
              "  <thead>\n",
              "    <tr style=\"text-align: right;\">\n",
              "      <th></th>\n",
              "      <th>Time</th>\n",
              "      <th>V1</th>\n",
              "      <th>V2</th>\n",
              "      <th>V3</th>\n",
              "      <th>V4</th>\n",
              "      <th>V5</th>\n",
              "      <th>V6</th>\n",
              "      <th>V7</th>\n",
              "      <th>V8</th>\n",
              "      <th>V9</th>\n",
              "      <th>...</th>\n",
              "      <th>V21</th>\n",
              "      <th>V22</th>\n",
              "      <th>V23</th>\n",
              "      <th>V24</th>\n",
              "      <th>V25</th>\n",
              "      <th>V26</th>\n",
              "      <th>V27</th>\n",
              "      <th>V28</th>\n",
              "      <th>Amount</th>\n",
              "      <th>Class</th>\n",
              "    </tr>\n",
              "  </thead>\n",
              "  <tbody>\n",
              "    <tr>\n",
              "      <th>0</th>\n",
              "      <td>0.0</td>\n",
              "      <td>-1.359807</td>\n",
              "      <td>-0.072781</td>\n",
              "      <td>2.536347</td>\n",
              "      <td>1.378155</td>\n",
              "      <td>-0.338321</td>\n",
              "      <td>0.462388</td>\n",
              "      <td>0.239599</td>\n",
              "      <td>0.098698</td>\n",
              "      <td>0.363787</td>\n",
              "      <td>...</td>\n",
              "      <td>-0.018307</td>\n",
              "      <td>0.277838</td>\n",
              "      <td>-0.110474</td>\n",
              "      <td>0.066928</td>\n",
              "      <td>0.128539</td>\n",
              "      <td>-0.189115</td>\n",
              "      <td>0.133558</td>\n",
              "      <td>-0.021053</td>\n",
              "      <td>149.62</td>\n",
              "      <td>0</td>\n",
              "    </tr>\n",
              "    <tr>\n",
              "      <th>1</th>\n",
              "      <td>0.0</td>\n",
              "      <td>1.191857</td>\n",
              "      <td>0.266151</td>\n",
              "      <td>0.166480</td>\n",
              "      <td>0.448154</td>\n",
              "      <td>0.060018</td>\n",
              "      <td>-0.082361</td>\n",
              "      <td>-0.078803</td>\n",
              "      <td>0.085102</td>\n",
              "      <td>-0.255425</td>\n",
              "      <td>...</td>\n",
              "      <td>-0.225775</td>\n",
              "      <td>-0.638672</td>\n",
              "      <td>0.101288</td>\n",
              "      <td>-0.339846</td>\n",
              "      <td>0.167170</td>\n",
              "      <td>0.125895</td>\n",
              "      <td>-0.008983</td>\n",
              "      <td>0.014724</td>\n",
              "      <td>2.69</td>\n",
              "      <td>0</td>\n",
              "    </tr>\n",
              "    <tr>\n",
              "      <th>2</th>\n",
              "      <td>1.0</td>\n",
              "      <td>-1.358354</td>\n",
              "      <td>-1.340163</td>\n",
              "      <td>1.773209</td>\n",
              "      <td>0.379780</td>\n",
              "      <td>-0.503198</td>\n",
              "      <td>1.800499</td>\n",
              "      <td>0.791461</td>\n",
              "      <td>0.247676</td>\n",
              "      <td>-1.514654</td>\n",
              "      <td>...</td>\n",
              "      <td>0.247998</td>\n",
              "      <td>0.771679</td>\n",
              "      <td>0.909412</td>\n",
              "      <td>-0.689281</td>\n",
              "      <td>-0.327642</td>\n",
              "      <td>-0.139097</td>\n",
              "      <td>-0.055353</td>\n",
              "      <td>-0.059752</td>\n",
              "      <td>378.66</td>\n",
              "      <td>0</td>\n",
              "    </tr>\n",
              "    <tr>\n",
              "      <th>3</th>\n",
              "      <td>1.0</td>\n",
              "      <td>-0.966272</td>\n",
              "      <td>-0.185226</td>\n",
              "      <td>1.792993</td>\n",
              "      <td>-0.863291</td>\n",
              "      <td>-0.010309</td>\n",
              "      <td>1.247203</td>\n",
              "      <td>0.237609</td>\n",
              "      <td>0.377436</td>\n",
              "      <td>-1.387024</td>\n",
              "      <td>...</td>\n",
              "      <td>-0.108300</td>\n",
              "      <td>0.005274</td>\n",
              "      <td>-0.190321</td>\n",
              "      <td>-1.175575</td>\n",
              "      <td>0.647376</td>\n",
              "      <td>-0.221929</td>\n",
              "      <td>0.062723</td>\n",
              "      <td>0.061458</td>\n",
              "      <td>123.50</td>\n",
              "      <td>0</td>\n",
              "    </tr>\n",
              "    <tr>\n",
              "      <th>4</th>\n",
              "      <td>2.0</td>\n",
              "      <td>-1.158233</td>\n",
              "      <td>0.877737</td>\n",
              "      <td>1.548718</td>\n",
              "      <td>0.403034</td>\n",
              "      <td>-0.407193</td>\n",
              "      <td>0.095921</td>\n",
              "      <td>0.592941</td>\n",
              "      <td>-0.270533</td>\n",
              "      <td>0.817739</td>\n",
              "      <td>...</td>\n",
              "      <td>-0.009431</td>\n",
              "      <td>0.798278</td>\n",
              "      <td>-0.137458</td>\n",
              "      <td>0.141267</td>\n",
              "      <td>-0.206010</td>\n",
              "      <td>0.502292</td>\n",
              "      <td>0.219422</td>\n",
              "      <td>0.215153</td>\n",
              "      <td>69.99</td>\n",
              "      <td>0</td>\n",
              "    </tr>\n",
              "  </tbody>\n",
              "</table>\n",
              "<p>5 rows × 31 columns</p>\n",
              "</div>\n",
              "      <button class=\"colab-df-convert\" onclick=\"convertToInteractive('df-a06a42b1-88a5-4629-8efa-6f7eb5e80b88')\"\n",
              "              title=\"Convert this dataframe to an interactive table.\"\n",
              "              style=\"display:none;\">\n",
              "        \n",
              "  <svg xmlns=\"http://www.w3.org/2000/svg\" height=\"24px\"viewBox=\"0 0 24 24\"\n",
              "       width=\"24px\">\n",
              "    <path d=\"M0 0h24v24H0V0z\" fill=\"none\"/>\n",
              "    <path d=\"M18.56 5.44l.94 2.06.94-2.06 2.06-.94-2.06-.94-.94-2.06-.94 2.06-2.06.94zm-11 1L8.5 8.5l.94-2.06 2.06-.94-2.06-.94L8.5 2.5l-.94 2.06-2.06.94zm10 10l.94 2.06.94-2.06 2.06-.94-2.06-.94-.94-2.06-.94 2.06-2.06.94z\"/><path d=\"M17.41 7.96l-1.37-1.37c-.4-.4-.92-.59-1.43-.59-.52 0-1.04.2-1.43.59L10.3 9.45l-7.72 7.72c-.78.78-.78 2.05 0 2.83L4 21.41c.39.39.9.59 1.41.59.51 0 1.02-.2 1.41-.59l7.78-7.78 2.81-2.81c.8-.78.8-2.07 0-2.86zM5.41 20L4 18.59l7.72-7.72 1.47 1.35L5.41 20z\"/>\n",
              "  </svg>\n",
              "      </button>\n",
              "      \n",
              "  <style>\n",
              "    .colab-df-container {\n",
              "      display:flex;\n",
              "      flex-wrap:wrap;\n",
              "      gap: 12px;\n",
              "    }\n",
              "\n",
              "    .colab-df-convert {\n",
              "      background-color: #E8F0FE;\n",
              "      border: none;\n",
              "      border-radius: 50%;\n",
              "      cursor: pointer;\n",
              "      display: none;\n",
              "      fill: #1967D2;\n",
              "      height: 32px;\n",
              "      padding: 0 0 0 0;\n",
              "      width: 32px;\n",
              "    }\n",
              "\n",
              "    .colab-df-convert:hover {\n",
              "      background-color: #E2EBFA;\n",
              "      box-shadow: 0px 1px 2px rgba(60, 64, 67, 0.3), 0px 1px 3px 1px rgba(60, 64, 67, 0.15);\n",
              "      fill: #174EA6;\n",
              "    }\n",
              "\n",
              "    [theme=dark] .colab-df-convert {\n",
              "      background-color: #3B4455;\n",
              "      fill: #D2E3FC;\n",
              "    }\n",
              "\n",
              "    [theme=dark] .colab-df-convert:hover {\n",
              "      background-color: #434B5C;\n",
              "      box-shadow: 0px 1px 3px 1px rgba(0, 0, 0, 0.15);\n",
              "      filter: drop-shadow(0px 1px 2px rgba(0, 0, 0, 0.3));\n",
              "      fill: #FFFFFF;\n",
              "    }\n",
              "  </style>\n",
              "\n",
              "      <script>\n",
              "        const buttonEl =\n",
              "          document.querySelector('#df-a06a42b1-88a5-4629-8efa-6f7eb5e80b88 button.colab-df-convert');\n",
              "        buttonEl.style.display =\n",
              "          google.colab.kernel.accessAllowed ? 'block' : 'none';\n",
              "\n",
              "        async function convertToInteractive(key) {\n",
              "          const element = document.querySelector('#df-a06a42b1-88a5-4629-8efa-6f7eb5e80b88');\n",
              "          const dataTable =\n",
              "            await google.colab.kernel.invokeFunction('convertToInteractive',\n",
              "                                                     [key], {});\n",
              "          if (!dataTable) return;\n",
              "\n",
              "          const docLinkHtml = 'Like what you see? Visit the ' +\n",
              "            '<a target=\"_blank\" href=https://colab.research.google.com/notebooks/data_table.ipynb>data table notebook</a>'\n",
              "            + ' to learn more about interactive tables.';\n",
              "          element.innerHTML = '';\n",
              "          dataTable['output_type'] = 'display_data';\n",
              "          await google.colab.output.renderOutput(dataTable, element);\n",
              "          const docLink = document.createElement('div');\n",
              "          docLink.innerHTML = docLinkHtml;\n",
              "          element.appendChild(docLink);\n",
              "        }\n",
              "      </script>\n",
              "    </div>\n",
              "  </div>\n",
              "  "
            ]
          },
          "metadata": {},
          "execution_count": 116
        }
      ]
    },
    {
      "cell_type": "code",
      "source": [
        "def Nuage(X, feature1, feature2, type_i='FRAUDE'):\n",
        "    if type_i not in data.columns:\n",
        "        print(type_i,\" non disponible\")\n",
        "        return\n",
        "    \n",
        "    TF = X[ X[type_i]==1 ]\n",
        "    TO = X[ X[type_i]==0 ]\n",
        "\n",
        "    plot2 = plt.scatter(TO[feature1], TO[feature2], color='r', marker='.', label='OK')\n",
        "    plot1 = plt.scatter(TF[feature1], TF[feature2], color='b', marker='x', label='Fraude')\n",
        "                       \n",
        "    plt.legend(handles = [plot1, plot2], loc='best')\n",
        "    plt.xlabel(feature1)\n",
        "    plt.ylabel(feature2)\n",
        "    plt.title(type_i)\n",
        "    plt.show()"
      ],
      "metadata": {
        "id": "9_dfGKdzhrD1"
      },
      "execution_count": 117,
      "outputs": []
    },
    {
      "cell_type": "code",
      "source": [
        "data_plot = train_x\n",
        "data_plot['Class'] = train_y\n",
        "\n",
        "Nuage(data_plot,'V4','V11', 'Class')\n",
        "\n",
        "\n",
        "n0 = len(data_plot[data_plot['Class']==0]) \n",
        "n1 = len(data_plot[data_plot['Class']==1])\n",
        "print(\"n_fraudes = \",n1)\n",
        "print(\"n_ok = \",n0)"
      ],
      "metadata": {
        "colab": {
          "base_uri": "https://localhost:8080/",
          "height": 412
        },
        "id": "UMrxEh61huFK",
        "outputId": "acbbc203-5fd7-41f8-a797-3afbd2547b56"
      },
      "execution_count": 118,
      "outputs": [
        {
          "output_type": "display_data",
          "data": {
            "text/plain": [
              "<Figure size 576x396 with 1 Axes>"
            ],
            "image/png": "[encoded data removed]"
          },
          "metadata": {}
        },
        {
          "output_type": "stream",
          "name": "stdout",
          "text": [
            "n_fraudes =  369\n",
            "n_ok =  213236\n"
          ]
        }
      ]
    },
    {
      "cell_type": "code",
      "source": [
        "from sklearn.metrics import confusion_matrix, classification_report, roc_curve, roc_auc_score, recall_score, precision_score ,average_precision_score, precision_recall_curve, f1_score"
      ],
      "metadata": {
        "id": "5QLM4iHfE0Jq"
      },
      "execution_count": null,
      "outputs": []
    },
    {
      "cell_type": "markdown",
      "source": [
        "실험 시나리오 1 - XGBoost"
      ],
      "metadata": {
        "id": "EE_Ae8_Wb-24"
      }
    },
    {
      "cell_type": "code",
      "source": [
        "from xgboost import XGBClassifier\n",
        "model = XGBClassifier(colsample_bytree=0.5, gamma=0.2, learning_rate=0.25, max_depth=12, min_child_weight=3)\n",
        "model.fit(train_x, train_y)"
      ],
      "metadata": {
        "colab": {
          "base_uri": "https://localhost:8080/"
        },
        "id": "xK6vT5qnaTgW",
        "outputId": "478dc6f1-ebc6-4a90-8595-3d5f2fbc9360"
      },
      "execution_count": null,
      "outputs": [
        {
          "output_type": "execute_result",
          "data": {
            "text/plain": [
              "XGBClassifier(colsample_bytree=0.5, gamma=0.2, learning_rate=0.25, max_depth=12,\n",
              "              min_child_weight=3)"
            ]
          },
          "metadata": {},
          "execution_count": 95
        }
      ]
    },
    {
      "cell_type": "code",
      "source": [
        "pred = model.predict(test_x)\n",
        "print (classification_report(test_y, pred))"
      ],
      "metadata": {
        "colab": {
          "base_uri": "https://localhost:8080/"
        },
        "id": "Rq2yHXIxaU5e",
        "outputId": "ca6d5793-5ef1-458f-d9d2-a4277b55c904"
      },
      "execution_count": null,
      "outputs": [
        {
          "output_type": "stream",
          "name": "stdout",
          "text": [
            "              precision    recall  f1-score   support\n",
            "\n",
            "           0       1.00      1.00      1.00     71079\n",
            "           1       0.97      0.79      0.87       123\n",
            "\n",
            "    accuracy                           1.00     71202\n",
            "   macro avg       0.98      0.89      0.93     71202\n",
            "weighted avg       1.00      1.00      1.00     71202\n",
            "\n"
          ]
        }
      ]
    },
    {
      "cell_type": "code",
      "source": [
        "precision_recall= average_precision_score(test_y, pred)\n",
        "precision = precision_score(test_y, pred)\n",
        "recall = recall_score(test_y, pred)\n",
        "auc  = roc_auc_score(test_y, pred)\n",
        "f1 = f1_score(test_y, pred)\n",
        "\n",
        "print('AUC: ', auc)\n",
        "print('Precision: ', precision)\n",
        "print('Recall: ', recall)\n",
        "print('Precision-Recall: ', precision_recall)\n",
        "print('F1-score: ', f1)"
      ],
      "metadata": {
        "colab": {
          "base_uri": "https://localhost:8080/"
        },
        "id": "Mi-fk3DGyiv1",
        "outputId": "9c478457-b843-4379-908d-b904595725c1"
      },
      "execution_count": null,
      "outputs": [
        {
          "output_type": "stream",
          "name": "stdout",
          "text": [
            "AUC:  0.8942878398099812\n",
            "Precision:  0.97\n",
            "Recall:  0.7886178861788617\n",
            "Precision-Recall:  0.7653245078755666\n",
            "F1-score:  0.8699551569506726\n"
          ]
        }
      ]
    },
    {
      "cell_type": "code",
      "source": [
        "cf_matrix = confusion_matrix(test_y, pred)\n",
        "sns.heatmap(cf_matrix, annot=True, linewidths=0.1, cmap=\"Blues\", fmt='d', linecolor='lightblue')"
      ],
      "metadata": {
        "colab": {
          "base_uri": "https://localhost:8080/",
          "height": 365
        },
        "id": "6dM0nJ01kBUK",
        "outputId": "e6ae05f2-a76c-4a66-c76a-1725880e92ce"
      },
      "execution_count": null,
      "outputs": [
        {
          "output_type": "execute_result",
          "data": {
            "text/plain": [
              "<matplotlib.axes._subplots.AxesSubplot at 0x7f80ae96c490>"
            ]
          },
          "metadata": {},
          "execution_count": 98
        },
        {
          "output_type": "display_data",
          "data": {
            "text/plain": [
              "<Figure size 576x396 with 2 Axes>"
            ],
            "image/png": "[encoded data removed]"
          },
          "metadata": {}
        }
      ]
    },
    {
      "cell_type": "code",
      "source": [
        "from sklearn.metrics import PrecisionRecallDisplay\n",
        "\n",
        "display = PrecisionRecallDisplay.from_estimator(\n",
        "    model, test_x, test_y, name=\"PR curve\"\n",
        ")\n",
        "_ = display.ax_.set_title(\"Precision-Recall curve for XGBoost\")"
      ],
      "metadata": {
        "colab": {
          "base_uri": "https://localhost:8080/",
          "height": 376
        },
        "id": "PffGW19fJRz_",
        "outputId": "e21fecfa-d87c-4285-bc91-2d426634a29d"
      },
      "execution_count": null,
      "outputs": [
        {
          "output_type": "display_data",
          "data": {
            "text/plain": [
              "<Figure size 576x396 with 1 Axes>"
            ],
            "image/png": "[encoded data removed]"
          },
          "metadata": {}
        }
      ]
    },
    {
      "cell_type": "code",
      "source": [
        "from sklearn.metrics import auc\n",
        "precision, recall, _ = precision_recall_curve(test_y, pred)\n",
        "auc_score = auc(recall, precision)\n",
        "print('PR AUC: %.3f' % auc_score)"
      ],
      "metadata": {
        "colab": {
          "base_uri": "https://localhost:8080/"
        },
        "id": "d1IpgdSSBatw",
        "outputId": "1bbbbb35-f9f6-424e-9ba7-714a2ea09aed"
      },
      "execution_count": null,
      "outputs": [
        {
          "output_type": "stream",
          "name": "stdout",
          "text": [
            "PR AUC: 0.879\n"
          ]
        }
      ]
    },
    {
      "cell_type": "code",
      "source": [
        "roc_auc_xgboost = np.mean(auc)\n",
        "fpr_xgboost, tpr_xgboost, thresholds_xgboost = roc_curve(test_y, pred)\n",
        "\n",
        "# plot \n",
        "plt.figure(figsize=(7,5))\n",
        "plt.plot(fpr_xgboost, tpr_xgboost, color='blue')\n",
        "plt.plot([0,1], [0,1], color='black', ls='--', label='Reference line')\n",
        "plt.xlabel('False Positive Rate', fontsize=14)\n",
        "plt.ylabel('True Positive Rate', fontsize=14)\n",
        "plt.title('ROC for XGboost', fontsize=12)\n",
        "plt.legend(loc=4, fontsize=14)\n",
        "plt.grid(False)\n",
        "plt.show()"
      ],
      "metadata": {
        "colab": {
          "base_uri": "https://localhost:8080/",
          "height": 353
        },
        "id": "VWGCMN5OEK64",
        "outputId": "c19c7309-1e33-4e38-c895-dfe9d2f7f19d"
      },
      "execution_count": null,
      "outputs": [
        {
          "output_type": "display_data",
          "data": {
            "text/plain": [
              "<Figure size 504x360 with 1 Axes>"
            ],
            "image/png": "[encoded data removed]"
          },
          "metadata": {}
        }
      ]
    },
    {
      "cell_type": "markdown",
      "source": [
        "실험 시나리오 2 - test set의 base rate를 변경하여 실험"
      ],
      "metadata": {
        "id": "YqS00j62cGM8"
      }
    },
    {
      "cell_type": "code",
      "source": [
        "# test dataset Class 0, 1 나누기\n",
        "test_x['Class'] = test_y\n",
        "\n",
        "index2 = test_x.index[test_x.Class == 0]\n",
        "test_1 = test_x.drop(index2, axis=0)\n",
        "index1 = test_x.index[test_x.Class == 1]\n",
        "test_0 = test_x.drop(index1, axis=0)\n",
        "\n",
        "print(test_0.shape)\n",
        "print(test_1.shape)"
      ],
      "metadata": {
        "id": "nPB9p77kyh7S",
        "colab": {
          "base_uri": "https://localhost:8080/"
        },
        "outputId": "72ce52c1-6cd9-47aa-c2ef-cbbcb7bf87d8"
      },
      "execution_count": null,
      "outputs": [
        {
          "output_type": "stream",
          "name": "stdout",
          "text": [
            "(71079, 31)\n",
            "(123, 31)\n"
          ]
        }
      ]
    },
    {
      "cell_type": "code",
      "source": [
        "# base rate 1:1인 test set\n",
        "test_0_br_1 = test_0.sample(n=len(test_1))\n",
        "test_br1 = pd.concat([test_0_br_1, test_1])\n",
        "test_br1 = test_br1.sample(frac=1)\n",
        "X_test_br1 = test_br1.drop('Class', axis=1)\n",
        "y_test_br1 = test_br1['Class']\n",
        "\n",
        "# base rate 1:10인 test set\n",
        "test_0_br_10 = test_0.sample(n=len(test_1)*10)\n",
        "test_br10 = pd.concat([test_0_br_10, test_1])\n",
        "test_br10 = test_br10.sample(frac=1)\n",
        "X_test_br10 = test_br10.drop('Class', axis=1)\n",
        "y_test_br10 = test_br10['Class']\n",
        "\n",
        "# base rate 1:100인 test set\n",
        "test_0_br_100 = test_0.sample(n=len(test_1)*100)\n",
        "test_br100 = pd.concat([test_0_br_100, test_1])\n",
        "test_br100 = test_br100.sample(frac=1)\n",
        "X_test_br100 = test_br100.drop('Class', axis=1)\n",
        "y_test_br100 = test_br100['Class']\n",
        "\n",
        "# base rate 1:577.87인 test set (원본)\n",
        "X_test_brreal = test_x.drop('Class', axis=1)\n",
        "y_test_brreal = test_x['Class']"
      ],
      "metadata": {
        "id": "1bJyzDt1yh3-"
      },
      "execution_count": null,
      "outputs": []
    },
    {
      "cell_type": "code",
      "source": [
        "print(X_test_br1.shape, y_test_br1.shape)\n",
        "print(X_test_br10.shape, y_test_br10.shape)\n",
        "print(X_test_br100.shape, y_test_br100.shape)\n",
        "print(X_test_brreal.shape, y_test_brreal.shape)"
      ],
      "metadata": {
        "id": "s5ou3s1uyh10",
        "colab": {
          "base_uri": "https://localhost:8080/"
        },
        "outputId": "e6335482-af51-4ab2-8c31-0beba25fa321"
      },
      "execution_count": null,
      "outputs": [
        {
          "output_type": "stream",
          "name": "stdout",
          "text": [
            "(246, 30) (246,)\n",
            "(1353, 30) (1353,)\n",
            "(12423, 30) (12423,)\n",
            "(71202, 30) (71202,)\n"
          ]
        }
      ]
    },
    {
      "cell_type": "markdown",
      "source": [
        "1. Logistic Regression"
      ],
      "metadata": {
        "id": "fY8Dci3r5IXz"
      }
    },
    {
      "cell_type": "code",
      "source": [
        "from sklearn.linear_model import LogisticRegression\n",
        "lr = LogisticRegression(random_state=32)\n",
        "lr.fit(train_x, train_y)"
      ],
      "metadata": {
        "id": "kVoJLveAyhzn",
        "colab": {
          "base_uri": "https://localhost:8080/"
        },
        "outputId": "4bd9822a-0d49-41c0-8bfb-8e9d25169603"
      },
      "execution_count": null,
      "outputs": [
        {
          "output_type": "stream",
          "name": "stderr",
          "text": [
            "/usr/local/lib/python3.8/dist-packages/sklearn/linear_model/_logistic.py:814: ConvergenceWarning: lbfgs failed to converge (status=1):\n",
            "STOP: TOTAL NO. of ITERATIONS REACHED LIMIT.\n",
            "\n",
            "Increase the number of iterations (max_iter) or scale the data as shown in:\n",
            "    https://scikit-learn.org/stable/modules/preprocessing.html\n",
            "Please also refer to the documentation for alternative solver options:\n",
            "    https://scikit-learn.org/stable/modules/linear_model.html#logistic-regression\n",
            "  n_iter_i = _check_optimize_result(\n"
          ]
        },
        {
          "output_type": "execute_result",
          "data": {
            "text/plain": [
              "LogisticRegression(random_state=32)"
            ]
          },
          "metadata": {},
          "execution_count": 27
        }
      ]
    },
    {
      "cell_type": "code",
      "source": [
        "# base rate = 1:1\n",
        "pred = lr.predict(X_test_br1)\n",
        "print (classification_report(y_test_br1, pred))"
      ],
      "metadata": {
        "id": "h-MaqJhWyhxM",
        "colab": {
          "base_uri": "https://localhost:8080/"
        },
        "outputId": "9a6f251d-56ed-499e-a39e-bf7d9eb49bc6"
      },
      "execution_count": null,
      "outputs": [
        {
          "output_type": "stream",
          "name": "stdout",
          "text": [
            "              precision    recall  f1-score   support\n",
            "\n",
            "           0       0.77      1.00      0.87       123\n",
            "           1       1.00      0.70      0.82       123\n",
            "\n",
            "    accuracy                           0.85       246\n",
            "   macro avg       0.88      0.85      0.85       246\n",
            "weighted avg       0.88      0.85      0.85       246\n",
            "\n"
          ]
        }
      ]
    },
    {
      "cell_type": "code",
      "source": [
        "precision_recall= average_precision_score(y_test_br1, pred)\n",
        "precision_lr_br1 = precision_score(y_test_br1, pred)\n",
        "recall = recall_score(y_test_br1, pred)\n",
        "auc  = roc_auc_score(y_test_br1, pred)\n",
        "f1_lr_br1 = f1_score(y_test_br1, pred)\n",
        "\n",
        "print('AUC: ', np.mean(auc))\n",
        "print('Precision: ', np.mean(precision_lr_br1))\n",
        "print('Recall: ', np.mean(recall))\n",
        "print('Precision-Recall: ', np.mean(precision_recall))\n",
        "print('F1-score: ', np.mean(f1_lr_br1))"
      ],
      "metadata": {
        "id": "VE0JLUaDyhvC",
        "colab": {
          "base_uri": "https://localhost:8080/"
        },
        "outputId": "cc23f360-8bf9-4981-e82e-077c54344c5b"
      },
      "execution_count": null,
      "outputs": [
        {
          "output_type": "stream",
          "name": "stdout",
          "text": [
            "AUC:  0.8495934959349594\n",
            "Precision:  1.0\n",
            "Recall:  0.6991869918699187\n",
            "Precision-Recall:  0.8495934959349594\n",
            "F1-score:  0.8229665071770336\n"
          ]
        }
      ]
    },
    {
      "cell_type": "code",
      "source": [
        "# base rate = 1:10\n",
        "pred = lr.predict(X_test_br10)\n",
        "print (classification_report(y_test_br10, pred))"
      ],
      "metadata": {
        "id": "ths-o7zAyhs7",
        "colab": {
          "base_uri": "https://localhost:8080/"
        },
        "outputId": "62b96bb1-7fe0-4482-87e7-9bd04fcb6dc4"
      },
      "execution_count": null,
      "outputs": [
        {
          "output_type": "stream",
          "name": "stdout",
          "text": [
            "              precision    recall  f1-score   support\n",
            "\n",
            "           0       0.97      1.00      0.98      1230\n",
            "           1       0.99      0.70      0.82       123\n",
            "\n",
            "    accuracy                           0.97      1353\n",
            "   macro avg       0.98      0.85      0.90      1353\n",
            "weighted avg       0.97      0.97      0.97      1353\n",
            "\n"
          ]
        }
      ]
    },
    {
      "cell_type": "code",
      "source": [
        "precision_recall= average_precision_score(y_test_br10, pred)\n",
        "precision_lr_br10 = precision_score(y_test_br10, pred)\n",
        "recall = recall_score(y_test_br10, pred)\n",
        "auc  = roc_auc_score(y_test_br10, pred)\n",
        "f1_lr_br10 = f1_score(y_test_br10, pred)\n",
        "\n",
        "print('AUC: ', np.mean(auc))\n",
        "print('Precision: ', np.mean(precision_lr_br10))\n",
        "print('Recall: ', np.mean(recall))\n",
        "print('Precision-Recall: ', np.mean(precision_recall))\n",
        "print('F1-score: ', np.mean(f1_lr_br10))"
      ],
      "metadata": {
        "id": "JUAc5QJPyhqH",
        "colab": {
          "base_uri": "https://localhost:8080/"
        },
        "outputId": "11ee08d2-2551-453a-cb4a-1b0d1c270d4d"
      },
      "execution_count": null,
      "outputs": [
        {
          "output_type": "stream",
          "name": "stdout",
          "text": [
            "AUC:  0.8491869918699188\n",
            "Precision:  0.9885057471264368\n",
            "Recall:  0.6991869918699187\n",
            "Precision-Recall:  0.7184969968821946\n",
            "F1-score:  0.8190476190476191\n"
          ]
        }
      ]
    },
    {
      "cell_type": "code",
      "source": [
        "# base rate = 1:100\n",
        "pred = lr.predict(X_test_br100)\n",
        "print (classification_report(y_test_br100, pred))"
      ],
      "metadata": {
        "id": "ZG2LGxMnyhnw",
        "colab": {
          "base_uri": "https://localhost:8080/"
        },
        "outputId": "4fdff5c0-b7af-47db-8486-38011974be73"
      },
      "execution_count": null,
      "outputs": [
        {
          "output_type": "stream",
          "name": "stdout",
          "text": [
            "              precision    recall  f1-score   support\n",
            "\n",
            "           0       1.00      1.00      1.00     12300\n",
            "           1       0.97      0.70      0.81       123\n",
            "\n",
            "    accuracy                           1.00     12423\n",
            "   macro avg       0.98      0.85      0.90     12423\n",
            "weighted avg       1.00      1.00      1.00     12423\n",
            "\n"
          ]
        }
      ]
    },
    {
      "cell_type": "code",
      "source": [
        "precision_recall= average_precision_score(y_test_br100, pred)\n",
        "precision_lr_br100 = precision_score(y_test_br100, pred)\n",
        "recall = recall_score(y_test_br100, pred)\n",
        "auc  = roc_auc_score(y_test_br100, pred)\n",
        "f1_lr_br100 = f1_score(y_test_br100, pred)\n",
        "\n",
        "print('AUC: ', np.mean(auc))\n",
        "print('Precision: ', np.mean(precision_lr_br100))\n",
        "print('Recall: ', np.mean(recall))\n",
        "print('Precision-Recall: ', np.mean(precision_recall))\n",
        "print('F1-score: ', np.mean(f1_lr_br100))"
      ],
      "metadata": {
        "id": "K7-zbrwuyhlp",
        "colab": {
          "base_uri": "https://localhost:8080/"
        },
        "outputId": "13d033a3-dfb6-4ea3-b446-e5ba4ff607e8"
      },
      "execution_count": null,
      "outputs": [
        {
          "output_type": "stream",
          "name": "stdout",
          "text": [
            "AUC:  0.8494715447154472\n",
            "Precision:  0.9662921348314607\n",
            "Recall:  0.6991869918699187\n",
            "Precision-Recall:  0.6785972376355202\n",
            "F1-score:  0.8113207547169811\n"
          ]
        }
      ]
    },
    {
      "cell_type": "code",
      "source": [
        "# base rate = 1:577.87\n",
        "pred = lr.predict(X_test_brreal)\n",
        "print (classification_report(y_test_brreal, pred))"
      ],
      "metadata": {
        "id": "jyKrrULpyhjA",
        "colab": {
          "base_uri": "https://localhost:8080/"
        },
        "outputId": "b9a4c274-15b3-446c-e7f1-140b3031842a"
      },
      "execution_count": null,
      "outputs": [
        {
          "output_type": "stream",
          "name": "stdout",
          "text": [
            "              precision    recall  f1-score   support\n",
            "\n",
            "           0       1.00      1.00      1.00     71079\n",
            "           1       0.72      0.70      0.71       123\n",
            "\n",
            "    accuracy                           1.00     71202\n",
            "   macro avg       0.86      0.85      0.85     71202\n",
            "weighted avg       1.00      1.00      1.00     71202\n",
            "\n"
          ]
        }
      ]
    },
    {
      "cell_type": "code",
      "source": [
        "precision_recall= average_precision_score(y_test_brreal, pred)\n",
        "precision_lr_brreal = precision_score(y_test_brreal, pred)\n",
        "recall = recall_score(y_test_brreal, pred)\n",
        "auc  = roc_auc_score(y_test_brreal, pred)\n",
        "f1_lr_brreal = f1_score(y_test_brreal, pred)\n",
        "\n",
        "print('AUC: ', np.mean(auc))\n",
        "print('Precision: ', np.mean(precision_lr_brreal))\n",
        "print('Recall: ', np.mean(recall))\n",
        "print('Precision-Recall: ', np.mean(precision_recall))\n",
        "print('F1-score: ', np.mean(f1_lr_brreal))"
      ],
      "metadata": {
        "id": "34R4t493yhgq",
        "colab": {
          "base_uri": "https://localhost:8080/"
        },
        "outputId": "7ce82a3a-4217-49e4-9c09-acd395e115cf"
      },
      "execution_count": null,
      "outputs": [
        {
          "output_type": "stream",
          "name": "stdout",
          "text": [
            "AUC:  0.8493543254345303\n",
            "Precision:  0.7166666666666667\n",
            "Recall:  0.6991869918699187\n",
            "Precision-Recall:  0.5016036591645937\n",
            "F1-score:  0.7078189300411523\n"
          ]
        }
      ]
    },
    {
      "cell_type": "markdown",
      "source": [
        "2. MLP"
      ],
      "metadata": {
        "id": "GOCZddN75mhR"
      }
    },
    {
      "cell_type": "code",
      "source": [
        "from sklearn.neural_network import MLPClassifier\n",
        "mlp = MLPClassifier()\n",
        "mlp.fit(train_x, train_y)"
      ],
      "metadata": {
        "id": "4qTC-9Z9yheQ",
        "colab": {
          "base_uri": "https://localhost:8080/"
        },
        "outputId": "300ade3d-33e3-43d7-9988-f274d9c7365a"
      },
      "execution_count": null,
      "outputs": [
        {
          "output_type": "execute_result",
          "data": {
            "text/plain": [
              "MLPClassifier()"
            ]
          },
          "metadata": {},
          "execution_count": 36
        }
      ]
    },
    {
      "cell_type": "code",
      "source": [
        "# base rate = 1:1\n",
        "pred = mlp.predict(X_test_br1)\n",
        "print (classification_report(y_test_br1, pred))"
      ],
      "metadata": {
        "colab": {
          "base_uri": "https://localhost:8080/"
        },
        "id": "WaGnv-t_5sHV",
        "outputId": "b82956a2-f91a-46b5-d289-85ad22852b4a"
      },
      "execution_count": null,
      "outputs": [
        {
          "output_type": "stream",
          "name": "stdout",
          "text": [
            "              precision    recall  f1-score   support\n",
            "\n",
            "           0       0.79      1.00      0.88       123\n",
            "           1       1.00      0.73      0.85       123\n",
            "\n",
            "    accuracy                           0.87       246\n",
            "   macro avg       0.89      0.87      0.86       246\n",
            "weighted avg       0.89      0.87      0.86       246\n",
            "\n"
          ]
        }
      ]
    },
    {
      "cell_type": "code",
      "source": [
        "precision_recall= average_precision_score(y_test_br1, pred)\n",
        "precision_mlp_br1 = precision_score(y_test_br1, pred)\n",
        "recall = recall_score(y_test_br1, pred)\n",
        "auc  = roc_auc_score(y_test_br1, pred)\n",
        "f1_mlp_br1 = f1_score(y_test_br1, pred)\n",
        "\n",
        "print('AUC: ', np.mean(auc))\n",
        "print('Precision: ', np.mean(precision_mlp_br1))\n",
        "print('Recall: ', np.mean(recall))\n",
        "print('Precision-Recall: ', np.mean(precision_recall))\n",
        "print('F1-score: ', np.mean(f1_mlp_br1))"
      ],
      "metadata": {
        "colab": {
          "base_uri": "https://localhost:8080/"
        },
        "id": "KBEnnqy75umh",
        "outputId": "02d89025-c996-4ef6-b16f-dceedc560a82"
      },
      "execution_count": null,
      "outputs": [
        {
          "output_type": "stream",
          "name": "stdout",
          "text": [
            "AUC:  0.8658536585365854\n",
            "Precision:  1.0\n",
            "Recall:  0.7317073170731707\n",
            "Precision-Recall:  0.8658536585365854\n",
            "F1-score:  0.8450704225352113\n"
          ]
        }
      ]
    },
    {
      "cell_type": "code",
      "source": [
        "# base rate = 1:10\n",
        "pred = mlp.predict(X_test_br10)\n",
        "print (classification_report(y_test_br10, pred))"
      ],
      "metadata": {
        "colab": {
          "base_uri": "https://localhost:8080/"
        },
        "id": "cxACYuAx5wyq",
        "outputId": "664ee816-c582-4d09-c53c-5a7e1ca59f11"
      },
      "execution_count": null,
      "outputs": [
        {
          "output_type": "stream",
          "name": "stdout",
          "text": [
            "              precision    recall  f1-score   support\n",
            "\n",
            "           0       0.97      1.00      0.99      1230\n",
            "           1       0.98      0.73      0.84       123\n",
            "\n",
            "    accuracy                           0.97      1353\n",
            "   macro avg       0.98      0.87      0.91      1353\n",
            "weighted avg       0.97      0.97      0.97      1353\n",
            "\n"
          ]
        }
      ]
    },
    {
      "cell_type": "code",
      "source": [
        "precision_recall= average_precision_score(y_test_br10, pred)\n",
        "precision_mlp_br10 = precision_score(y_test_br10, pred)\n",
        "recall = recall_score(y_test_br10, pred)\n",
        "auc  = roc_auc_score(y_test_br10, pred)\n",
        "f1_mlp_br10 = f1_score(y_test_br10, pred)\n",
        "\n",
        "print('AUC: ', np.mean(auc))\n",
        "print('Precision: ', np.mean(precision_mlp_br10))\n",
        "print('Recall: ', np.mean(recall))\n",
        "print('Precision-Recall: ', np.mean(precision_recall))\n",
        "print('F1-score: ', np.mean(f1_mlp_br10))"
      ],
      "metadata": {
        "colab": {
          "base_uri": "https://localhost:8080/"
        },
        "id": "qhtomMEL5zAZ",
        "outputId": "cc912d77-5666-44bf-d526-33bcbd7aeafa"
      },
      "execution_count": null,
      "outputs": [
        {
          "output_type": "stream",
          "name": "stdout",
          "text": [
            "AUC:  0.865040650406504\n",
            "Precision:  0.9782608695652174\n",
            "Recall:  0.7317073170731707\n",
            "Precision-Recall:  0.7401908801696713\n",
            "F1-score:  0.8372093023255813\n"
          ]
        }
      ]
    },
    {
      "cell_type": "code",
      "source": [
        "# base rate = 1:100\n",
        "pred = mlp.predict(X_test_br100)\n",
        "print (classification_report(y_test_br100, pred))"
      ],
      "metadata": {
        "colab": {
          "base_uri": "https://localhost:8080/"
        },
        "id": "TAAW1P-L52DR",
        "outputId": "8c42f2e4-d1ce-457d-feb2-20903f71fe8f"
      },
      "execution_count": null,
      "outputs": [
        {
          "output_type": "stream",
          "name": "stdout",
          "text": [
            "              precision    recall  f1-score   support\n",
            "\n",
            "           0       1.00      1.00      1.00     12300\n",
            "           1       0.90      0.73      0.81       123\n",
            "\n",
            "    accuracy                           1.00     12423\n",
            "   macro avg       0.95      0.87      0.90     12423\n",
            "weighted avg       1.00      1.00      1.00     12423\n",
            "\n"
          ]
        }
      ]
    },
    {
      "cell_type": "code",
      "source": [
        "precision_recall= average_precision_score(y_test_br100, pred)\n",
        "precision_mlp_br100 = precision_score(y_test_br100, pred)\n",
        "recall = recall_score(y_test_br100, pred)\n",
        "auc  = roc_auc_score(y_test_br100, pred)\n",
        "f1_mlp_br100 = f1_score(y_test_br100, pred)\n",
        "\n",
        "print('AUC: ', np.mean(auc))\n",
        "print('Precision: ', np.mean(precision_mlp_br100))\n",
        "print('Recall: ', np.mean(recall))\n",
        "print('Precision-Recall: ', np.mean(precision_recall))\n",
        "print('F1-score: ', np.mean(f1_mlp_br100))"
      ],
      "metadata": {
        "colab": {
          "base_uri": "https://localhost:8080/"
        },
        "id": "FU-bETtZ54Pw",
        "outputId": "f715ea0b-ede8-45e9-963e-0cda7583edc2"
      },
      "execution_count": null,
      "outputs": [
        {
          "output_type": "stream",
          "name": "stdout",
          "text": [
            "AUC:  0.8654471544715446\n",
            "Precision:  0.9\n",
            "Recall:  0.7317073170731707\n",
            "Precision-Recall:  0.661192948563149\n",
            "F1-score:  0.8071748878923767\n"
          ]
        }
      ]
    },
    {
      "cell_type": "code",
      "source": [
        "# base rate = 1:577.87\n",
        "pred = mlp.predict(X_test_brreal)\n",
        "print (classification_report(y_test_brreal, pred))"
      ],
      "metadata": {
        "colab": {
          "base_uri": "https://localhost:8080/"
        },
        "id": "dm5WCe5D56o0",
        "outputId": "8db44847-09bf-483e-df2a-e2115c0d688b"
      },
      "execution_count": null,
      "outputs": [
        {
          "output_type": "stream",
          "name": "stdout",
          "text": [
            "              precision    recall  f1-score   support\n",
            "\n",
            "           0       1.00      1.00      1.00     71079\n",
            "           1       0.56      0.73      0.63       123\n",
            "\n",
            "    accuracy                           1.00     71202\n",
            "   macro avg       0.78      0.87      0.82     71202\n",
            "weighted avg       1.00      1.00      1.00     71202\n",
            "\n"
          ]
        }
      ]
    },
    {
      "cell_type": "code",
      "source": [
        "precision_recall= average_precision_score(y_test_brreal, pred)\n",
        "precision_mlp_brreal = precision_score(y_test_brreal, pred)\n",
        "recall = recall_score(y_test_brreal, pred)\n",
        "auc  = roc_auc_score(y_test_brreal, pred)\n",
        "f1_mlp_brreal = f1_score(y_test_brreal, pred)\n",
        "\n",
        "print('AUC: ', np.mean(auc))\n",
        "print('Precision: ', np.mean(precision_mlp_brreal))\n",
        "print('Recall: ', np.mean(recall))\n",
        "print('Precision-Recall: ', np.mean(precision_recall))\n",
        "print('F1-score: ', np.mean(f1_mlp_brreal))"
      ],
      "metadata": {
        "colab": {
          "base_uri": "https://localhost:8080/"
        },
        "id": "ra1OvNC05_PR",
        "outputId": "61f324c6-dac6-438e-cff7-3f60fe5f3194"
      },
      "execution_count": null,
      "outputs": [
        {
          "output_type": "stream",
          "name": "stdout",
          "text": [
            "AUC:  0.8653542142562775\n",
            "Precision:  0.5590062111801242\n",
            "Recall:  0.7317073170731707\n",
            "Precision-Recall:  0.40949240513709056\n",
            "F1-score:  0.6338028169014084\n"
          ]
        }
      ]
    },
    {
      "cell_type": "markdown",
      "source": [
        "3. Random Forest"
      ],
      "metadata": {
        "id": "FZ6ERl7p6AnO"
      }
    },
    {
      "cell_type": "code",
      "source": [
        "from sklearn.ensemble import RandomForestClassifier\n",
        "rfc = RandomForestClassifier(n_estimators=100, random_state=32)\n",
        "rfc.fit(train_x, train_y)"
      ],
      "metadata": {
        "colab": {
          "base_uri": "https://localhost:8080/"
        },
        "id": "eOI1ogXY6KMU",
        "outputId": "ef9d2c4e-e4f1-4e38-cd3c-69162ec7bd49"
      },
      "execution_count": null,
      "outputs": [
        {
          "output_type": "execute_result",
          "data": {
            "text/plain": [
              "RandomForestClassifier(random_state=32)"
            ]
          },
          "metadata": {},
          "execution_count": 45
        }
      ]
    },
    {
      "cell_type": "code",
      "source": [
        "# base rate = 1:1\n",
        "pred = rfc.predict(X_test_br1)\n",
        "print (classification_report(y_test_br1, pred))"
      ],
      "metadata": {
        "colab": {
          "base_uri": "https://localhost:8080/"
        },
        "id": "2HDEPuDN6Lod",
        "outputId": "d6cb324b-005c-4e8c-ee30-35c70a90e1c2"
      },
      "execution_count": null,
      "outputs": [
        {
          "output_type": "stream",
          "name": "stdout",
          "text": [
            "              precision    recall  f1-score   support\n",
            "\n",
            "           0       0.81      1.00      0.89       123\n",
            "           1       1.00      0.76      0.87       123\n",
            "\n",
            "    accuracy                           0.88       246\n",
            "   macro avg       0.90      0.88      0.88       246\n",
            "weighted avg       0.90      0.88      0.88       246\n",
            "\n"
          ]
        }
      ]
    },
    {
      "cell_type": "code",
      "source": [
        "precision_recall= average_precision_score(y_test_br1, pred)\n",
        "precision_rf_br1 = precision_score(y_test_br1, pred)\n",
        "recall = recall_score(y_test_br1, pred)\n",
        "auc  = roc_auc_score(y_test_br1, pred)\n",
        "f1_rf_br1 = f1_score(y_test_br1, pred)\n",
        "\n",
        "print('AUC: ', np.mean(auc))\n",
        "print('Precision: ', np.mean(precision_rf_br1))\n",
        "print('Recall: ', np.mean(recall))\n",
        "print('Precision-Recall: ', np.mean(precision_recall))\n",
        "print('F1-score: ', np.mean(f1_rf_br1))"
      ],
      "metadata": {
        "colab": {
          "base_uri": "https://localhost:8080/"
        },
        "id": "pbmbax1x6LlK",
        "outputId": "695a0fe4-d295-49af-ee22-7121cbf42ae8"
      },
      "execution_count": null,
      "outputs": [
        {
          "output_type": "stream",
          "name": "stdout",
          "text": [
            "AUC:  0.8821138211382114\n",
            "Precision:  1.0\n",
            "Recall:  0.7642276422764228\n",
            "Precision-Recall:  0.8821138211382114\n",
            "F1-score:  0.8663594470046084\n"
          ]
        }
      ]
    },
    {
      "cell_type": "code",
      "source": [
        "# base rate = 1:10\n",
        "pred = rfc.predict(X_test_br10)\n",
        "print (classification_report(y_test_br10, pred))"
      ],
      "metadata": {
        "colab": {
          "base_uri": "https://localhost:8080/"
        },
        "id": "lLbzZY276Lii",
        "outputId": "6e9042ae-6955-43f1-9837-35798115d7db"
      },
      "execution_count": null,
      "outputs": [
        {
          "output_type": "stream",
          "name": "stdout",
          "text": [
            "              precision    recall  f1-score   support\n",
            "\n",
            "           0       0.98      1.00      0.99      1230\n",
            "           1       1.00      0.76      0.87       123\n",
            "\n",
            "    accuracy                           0.98      1353\n",
            "   macro avg       0.99      0.88      0.93      1353\n",
            "weighted avg       0.98      0.98      0.98      1353\n",
            "\n"
          ]
        }
      ]
    },
    {
      "cell_type": "code",
      "source": [
        "precision_recall= average_precision_score(y_test_br10, pred)\n",
        "precision_rf_br10 = precision_score(y_test_br10, pred)\n",
        "recall = recall_score(y_test_br10, pred)\n",
        "auc  = roc_auc_score(y_test_br10, pred)\n",
        "f1_rf_br10 = f1_score(y_test_br10, pred)\n",
        "\n",
        "print('AUC: ', np.mean(auc))\n",
        "print('Precision: ', np.mean(precision_rf_br10))\n",
        "print('Recall: ', np.mean(recall))\n",
        "print('Precision-Recall: ', np.mean(precision_recall))\n",
        "print('F1-score: ', np.mean(f1_rf_br10))"
      ],
      "metadata": {
        "colab": {
          "base_uri": "https://localhost:8080/"
        },
        "id": "JorrtrOW6Lg1",
        "outputId": "b0b98adb-2764-44c2-805a-1e34346d5839"
      },
      "execution_count": null,
      "outputs": [
        {
          "output_type": "stream",
          "name": "stdout",
          "text": [
            "AUC:  0.8821138211382114\n",
            "Precision:  1.0\n",
            "Recall:  0.7642276422764228\n",
            "Precision-Recall:  0.7856614929785662\n",
            "F1-score:  0.8663594470046084\n"
          ]
        }
      ]
    },
    {
      "cell_type": "code",
      "source": [
        "# base rate = 1:100\n",
        "pred = rfc.predict(X_test_br100)\n",
        "print (classification_report(y_test_br100, pred))"
      ],
      "metadata": {
        "colab": {
          "base_uri": "https://localhost:8080/"
        },
        "id": "lhQ_vJ0k6LfH",
        "outputId": "bb75d20b-89b5-49c1-e582-4d43364761f1"
      },
      "execution_count": null,
      "outputs": [
        {
          "output_type": "stream",
          "name": "stdout",
          "text": [
            "              precision    recall  f1-score   support\n",
            "\n",
            "           0       1.00      1.00      1.00     12300\n",
            "           1       0.98      0.76      0.86       123\n",
            "\n",
            "    accuracy                           1.00     12423\n",
            "   macro avg       0.99      0.88      0.93     12423\n",
            "weighted avg       1.00      1.00      1.00     12423\n",
            "\n"
          ]
        }
      ]
    },
    {
      "cell_type": "code",
      "source": [
        "precision_recall= average_precision_score(y_test_br100, pred)\n",
        "precision_rf_br100 = precision_score(y_test_br100, pred)\n",
        "recall = recall_score(y_test_br100, pred)\n",
        "auc  = roc_auc_score(y_test_br100, pred)\n",
        "f1_rf_br100 = f1_score(y_test_br100, pred)\n",
        "\n",
        "print('AUC: ', np.mean(auc))\n",
        "print('Precision: ', np.mean(precision_rf_br100))\n",
        "print('Recall: ', np.mean(recall))\n",
        "print('Precision-Recall: ', np.mean(precision_recall))\n",
        "print('F1-score: ', np.mean(f1_rf_br100))"
      ],
      "metadata": {
        "colab": {
          "base_uri": "https://localhost:8080/"
        },
        "id": "8zsnhPal6Lc6",
        "outputId": "48c59ef5-5ee1-4160-ed1c-3db7bbd715a1"
      },
      "execution_count": null,
      "outputs": [
        {
          "output_type": "stream",
          "name": "stdout",
          "text": [
            "AUC:  0.8820325203252033\n",
            "Precision:  0.9791666666666666\n",
            "Recall:  0.7642276422764228\n",
            "Precision-Recall:  0.7506406128417721\n",
            "F1-score:  0.858447488584475\n"
          ]
        }
      ]
    },
    {
      "cell_type": "code",
      "source": [
        "# base rate = 1:577.87\n",
        "pred = rfc.predict(X_test_brreal)\n",
        "print (classification_report(y_test_brreal, pred))"
      ],
      "metadata": {
        "colab": {
          "base_uri": "https://localhost:8080/"
        },
        "id": "R38KKV336LaJ",
        "outputId": "9a5f25f6-42c1-4401-c96c-6b9dff9ac56f"
      },
      "execution_count": null,
      "outputs": [
        {
          "output_type": "stream",
          "name": "stdout",
          "text": [
            "              precision    recall  f1-score   support\n",
            "\n",
            "           0       1.00      1.00      1.00     71079\n",
            "           1       0.97      0.76      0.85       123\n",
            "\n",
            "    accuracy                           1.00     71202\n",
            "   macro avg       0.98      0.88      0.93     71202\n",
            "weighted avg       1.00      1.00      1.00     71202\n",
            "\n"
          ]
        }
      ]
    },
    {
      "cell_type": "code",
      "source": [
        "precision_recall= average_precision_score(y_test_brreal, pred)\n",
        "precision_rf_brreal = precision_score(y_test_brreal, pred)\n",
        "recall = recall_score(y_test_brreal, pred)\n",
        "auc  = roc_auc_score(y_test_brreal, pred)\n",
        "f1_rf_brreal = f1_score(y_test_brreal, pred)\n",
        "\n",
        "print('AUC: ', np.mean(auc))\n",
        "print('Precision: ', np.mean(precision_rf_brreal))\n",
        "print('Recall: ', np.mean(recall))\n",
        "print('Precision-Recall: ', np.mean(precision_recall))\n",
        "print('F1-score: ', np.mean(f1_rf_brreal))"
      ],
      "metadata": {
        "colab": {
          "base_uri": "https://localhost:8080/"
        },
        "id": "2qwfpvky6LXg",
        "outputId": "622073de-e09b-4544-98b4-4187b6f47a0b"
      },
      "execution_count": null,
      "outputs": [
        {
          "output_type": "stream",
          "name": "stdout",
          "text": [
            "AUC:  0.8820927178587616\n",
            "Precision:  0.9690721649484536\n",
            "Recall:  0.7642276422764228\n",
            "Precision-Recall:  0.7409990277442674\n",
            "F1-score:  0.8545454545454546\n"
          ]
        }
      ]
    },
    {
      "cell_type": "markdown",
      "source": [
        "4. XGBoost (Our model)"
      ],
      "metadata": {
        "id": "gcyrMm5x6gSW"
      }
    },
    {
      "cell_type": "code",
      "source": [
        "from xgboost import XGBClassifier\n",
        "model = XGBClassifier(colsample_bytree=0.5, gamma=0.2, learning_rate=0.25, max_depth=12, min_child_weight=3)\n",
        "model.fit(train_x, train_y)"
      ],
      "metadata": {
        "colab": {
          "base_uri": "https://localhost:8080/"
        },
        "id": "4xdiHyB16LVC",
        "outputId": "8a5c4557-3f82-4795-8fa2-8fdf433523c4"
      },
      "execution_count": null,
      "outputs": [
        {
          "output_type": "execute_result",
          "data": {
            "text/plain": [
              "XGBClassifier(colsample_bytree=0.5, gamma=0.2, learning_rate=0.25, max_depth=12,\n",
              "              min_child_weight=3)"
            ]
          },
          "metadata": {},
          "execution_count": 65
        }
      ]
    },
    {
      "cell_type": "code",
      "source": [
        "# base rate = 1:1\n",
        "pred = model.predict(X_test_br1)\n",
        "print (classification_report(y_test_br1, pred))"
      ],
      "metadata": {
        "colab": {
          "base_uri": "https://localhost:8080/"
        },
        "id": "fdQpFxkf6LSu",
        "outputId": "4dd96b90-cb13-42a1-f1cd-46166e38f2bb"
      },
      "execution_count": null,
      "outputs": [
        {
          "output_type": "stream",
          "name": "stdout",
          "text": [
            "              precision    recall  f1-score   support\n",
            "\n",
            "           0       0.83      1.00      0.90       123\n",
            "           1       1.00      0.79      0.88       123\n",
            "\n",
            "    accuracy                           0.89       246\n",
            "   macro avg       0.91      0.89      0.89       246\n",
            "weighted avg       0.91      0.89      0.89       246\n",
            "\n"
          ]
        }
      ]
    },
    {
      "cell_type": "code",
      "source": [
        "precision_recall= average_precision_score(y_test_br1, pred)\n",
        "precision_xgb_br1 = precision_score(y_test_br1, pred)\n",
        "recall = recall_score(y_test_br1, pred)\n",
        "auc  = roc_auc_score(y_test_br1, pred)\n",
        "f1_xgb_br1 = f1_score(y_test_br1, pred)\n",
        "\n",
        "print('AUC: ', np.mean(auc))\n",
        "print('Precision: ', np.mean(precision_xgb_br1))\n",
        "print('Recall: ', np.mean(recall))\n",
        "print('Precision-Recall: ', np.mean(precision_recall))\n",
        "print('F1-score: ', np.mean(f1_xgb_br1))"
      ],
      "metadata": {
        "colab": {
          "base_uri": "https://localhost:8080/"
        },
        "id": "b_oG6o9E6LQH",
        "outputId": "1888aa53-d614-44c6-b3c8-92d004f348fe"
      },
      "execution_count": null,
      "outputs": [
        {
          "output_type": "stream",
          "name": "stdout",
          "text": [
            "AUC:  0.8943089430894309\n",
            "Precision:  1.0\n",
            "Recall:  0.7886178861788617\n",
            "Precision-Recall:  0.8943089430894309\n",
            "F1-score:  0.8818181818181818\n"
          ]
        }
      ]
    },
    {
      "cell_type": "code",
      "source": [
        "# base rate = 1:10\n",
        "pred = model.predict(X_test_br10)\n",
        "print (classification_report(y_test_br10, pred))"
      ],
      "metadata": {
        "colab": {
          "base_uri": "https://localhost:8080/"
        },
        "id": "9YE3Eo226LN8",
        "outputId": "04301b90-6aa2-4037-f551-117751b7e2e7"
      },
      "execution_count": null,
      "outputs": [
        {
          "output_type": "stream",
          "name": "stdout",
          "text": [
            "              precision    recall  f1-score   support\n",
            "\n",
            "           0       0.98      1.00      0.99      1230\n",
            "           1       1.00      0.79      0.88       123\n",
            "\n",
            "    accuracy                           0.98      1353\n",
            "   macro avg       0.99      0.89      0.94      1353\n",
            "weighted avg       0.98      0.98      0.98      1353\n",
            "\n"
          ]
        }
      ]
    },
    {
      "cell_type": "code",
      "source": [
        "precision_recall= average_precision_score(y_test_br10, pred)\n",
        "precision_xgb_br10 = precision_score(y_test_br10, pred)\n",
        "recall = recall_score(y_test_br10, pred)\n",
        "auc  = roc_auc_score(y_test_br10, pred)\n",
        "f1_xgb_br10 = f1_score(y_test_br10, pred)\n",
        "\n",
        "print('AUC: ', np.mean(auc))\n",
        "print('Precision: ', np.mean(precision_xgb_br10))\n",
        "print('Recall: ', np.mean(recall))\n",
        "print('Precision-Recall: ', np.mean(precision_recall))\n",
        "print('F1-score: ', np.mean(f1_xgb_br10))"
      ],
      "metadata": {
        "colab": {
          "base_uri": "https://localhost:8080/"
        },
        "id": "GqStSLJd6K1D",
        "outputId": "293901bc-c610-4024-d8c8-8dd0b89a3ae7"
      },
      "execution_count": null,
      "outputs": [
        {
          "output_type": "stream",
          "name": "stdout",
          "text": [
            "AUC:  0.8943089430894309\n",
            "Precision:  1.0\n",
            "Recall:  0.7886178861788617\n",
            "Precision-Recall:  0.8078344419807834\n",
            "F1-score:  0.8818181818181818\n"
          ]
        }
      ]
    },
    {
      "cell_type": "code",
      "source": [
        "# base rate = 1:100\n",
        "pred = model.predict(X_test_br100)\n",
        "print (classification_report(y_test_br100, pred))"
      ],
      "metadata": {
        "colab": {
          "base_uri": "https://localhost:8080/"
        },
        "id": "GF5RWDYp6tDx",
        "outputId": "71137531-dd61-4b66-a76a-4648ccc77e9e"
      },
      "execution_count": null,
      "outputs": [
        {
          "output_type": "stream",
          "name": "stdout",
          "text": [
            "              precision    recall  f1-score   support\n",
            "\n",
            "           0       1.00      1.00      1.00     12300\n",
            "           1       0.98      0.79      0.87       123\n",
            "\n",
            "    accuracy                           1.00     12423\n",
            "   macro avg       0.99      0.89      0.94     12423\n",
            "weighted avg       1.00      1.00      1.00     12423\n",
            "\n"
          ]
        }
      ]
    },
    {
      "cell_type": "code",
      "source": [
        "precision_recall= average_precision_score(y_test_br100, pred)\n",
        "precision_xgb_br100 = precision_score(y_test_br100, pred)\n",
        "recall = recall_score(y_test_br100, pred)\n",
        "auc  = roc_auc_score(y_test_br100, pred)\n",
        "f1_xgb_br100 = f1_score(y_test_br100, pred)\n",
        "\n",
        "print('AUC: ', np.mean(auc))\n",
        "print('Precision: ', np.mean(precision_xgb_br100))\n",
        "print('Recall: ', np.mean(recall))\n",
        "print('Precision-Recall: ', np.mean(precision_recall))\n",
        "print('F1-score: ', np.mean(f1_xgb_br100))"
      ],
      "metadata": {
        "colab": {
          "base_uri": "https://localhost:8080/"
        },
        "id": "dPBmS6fw6vhX",
        "outputId": "c8c6f0b5-3be3-4fa1-b302-775bbdeb2872"
      },
      "execution_count": null,
      "outputs": [
        {
          "output_type": "stream",
          "name": "stdout",
          "text": [
            "AUC:  0.8942276422764228\n",
            "Precision:  0.9797979797979798\n",
            "Recall:  0.7886178861788617\n",
            "Precision-Recall:  0.7747791039266528\n",
            "F1-score:  0.8738738738738739\n"
          ]
        }
      ]
    },
    {
      "cell_type": "code",
      "source": [
        "# base rate = 1:577.87\n",
        "pred = model.predict(X_test_brreal)\n",
        "print (classification_report(y_test_brreal, pred))"
      ],
      "metadata": {
        "colab": {
          "base_uri": "https://localhost:8080/"
        },
        "id": "zB0-end26vbY",
        "outputId": "3a0dc9c3-af40-4091-d0cb-5a542d7fcfed"
      },
      "execution_count": null,
      "outputs": [
        {
          "output_type": "stream",
          "name": "stdout",
          "text": [
            "              precision    recall  f1-score   support\n",
            "\n",
            "           0       1.00      1.00      1.00     71079\n",
            "           1       0.97      0.79      0.87       123\n",
            "\n",
            "    accuracy                           1.00     71202\n",
            "   macro avg       0.98      0.89      0.93     71202\n",
            "weighted avg       1.00      1.00      1.00     71202\n",
            "\n"
          ]
        }
      ]
    },
    {
      "cell_type": "code",
      "source": [
        "precision_recall= average_precision_score(y_test_brreal, pred)\n",
        "precision_xgb_brreal = precision_score(y_test_brreal, pred)\n",
        "recall = recall_score(y_test_brreal, pred)\n",
        "auc  = roc_auc_score(y_test_brreal, pred)\n",
        "f1_xgb_brreal = f1_score(y_test_brreal, pred)\n",
        "\n",
        "print('AUC: ', np.mean(auc))\n",
        "print('Precision: ', np.mean(precision_xgb_brreal))\n",
        "print('Recall: ', np.mean(recall))\n",
        "print('Precision-Recall: ', np.mean(precision_recall))\n",
        "print('F1-score: ', np.mean(f1_xgb_brreal))"
      ],
      "metadata": {
        "colab": {
          "base_uri": "https://localhost:8080/"
        },
        "id": "XrxtXqqS6vOY",
        "outputId": "4d110343-d20c-4221-ff1c-163b536652f8"
      },
      "execution_count": null,
      "outputs": [
        {
          "output_type": "stream",
          "name": "stdout",
          "text": [
            "AUC:  0.8942878398099812\n",
            "Precision:  0.97\n",
            "Recall:  0.7886178861788617\n",
            "Precision-Recall:  0.7653245078755666\n",
            "F1-score:  0.8699551569506726\n"
          ]
        }
      ]
    },
    {
      "cell_type": "code",
      "source": [
        "import matplotlib.legend as legend\n",
        "index = [1, 10, 100, 577.87]\n",
        "\n",
        "LR=[np.mean(f1_lr_br1), np.mean(f1_lr_br10), np.mean(f1_lr_br100), np.mean(f1_lr_brreal)]\n",
        "lr,=plt.plot(index, LR, 'ro-')\n",
        "\n",
        "RF=[np.mean(f1_rf_br1), np.mean(f1_rf_br10), np.mean(f1_rf_br100),np.mean(f1_rf_brreal)]\n",
        "rf,=plt.plot(index, RF, 'go-')\n",
        "\n",
        "MLP=[np.mean(f1_mlp_br1), np.mean(f1_mlp_br10), np.mean(f1_mlp_br100), np.mean(f1_mlp_brreal)]\n",
        "mlp,=plt.plot(index, MLP, 'bo-')\n",
        "\n",
        "XGB=[np.mean(f1_xgb_br1), np.mean(f1_xgb_br10), np.mean(f1_xgb_br100), np.mean(f1_xgb_brreal)]\n",
        "xgb,=plt.plot(index, XGB, 'yo-')\n",
        "\n",
        "plt.legend([lr, rf, mlp, xgb],['Logistic Regression','Random Forest','MLP', 'XGBoost(Ours)'])\n",
        "plt.xlim([-50, 600])\n",
        "plt.ylim([0.6, 0.9])\n",
        "plt.xlabel('Base rate')\n",
        "plt.ylabel('F1 score')\n",
        "plt.grid(True)\n",
        "plt.show()"
      ],
      "metadata": {
        "colab": {
          "base_uri": "https://localhost:8080/",
          "height": 365
        },
        "id": "O5mMmniq63mm",
        "outputId": "e0204acf-de1f-4485-fd8e-66d1e3f829d5"
      },
      "execution_count": null,
      "outputs": [
        {
          "output_type": "display_data",
          "data": {
            "text/plain": [
              "<Figure size 576x396 with 1 Axes>"
            ],
            "image/png": "[encoded data removed]"
          },
          "metadata": {}
        }
      ]
    },
    {
      "cell_type": "code",
      "source": [
        "import matplotlib.legend as legend\n",
        "index = [1, 10, 100, 577.87]\n",
        "\n",
        "LR=[np.mean(precision_lr_br1), np.mean(precision_lr_br10), np.mean(precision_lr_br100), np.mean(precision_lr_brreal)]\n",
        "lr,=plt.plot(index, LR, 'ro-')\n",
        "\n",
        "RF=[np.mean(precision_rf_br1), np.mean(precision_rf_br10), np.mean(precision_rf_br100),np.mean(precision_rf_brreal)]\n",
        "rf,=plt.plot(index, RF, 'go-')\n",
        "\n",
        "MLP=[np.mean(precision_mlp_br1), np.mean(precision_mlp_br10), np.mean(precision_mlp_br100), np.mean(precision_mlp_brreal)]\n",
        "mlp,=plt.plot(index, MLP, 'bo-')\n",
        "\n",
        "XGB=[np.mean(precision_xgb_br1), np.mean(precision_xgb_br10), np.mean(precision_xgb_br100), np.mean(precision_xgb_brreal)]\n",
        "xgb,=plt.plot(index, XGB, 'yo-')\n",
        "\n",
        "plt.legend([lr, rf, mlp, xgb],['Logistic Regression','Random Forest','MLP', 'XGBoost(Ours)'])\n",
        "plt.xlim([-50, 600])\n",
        "plt.ylim([0.45, 1.05])\n",
        "plt.xlabel('Base rate')\n",
        "plt.ylabel('Precision')\n",
        "plt.grid(True)\n",
        "plt.show()"
      ],
      "metadata": {
        "colab": {
          "base_uri": "https://localhost:8080/",
          "height": 361
        },
        "id": "tbU-z4XC63ZO",
        "outputId": "bfb02e64-f060-42ff-93bf-f3a8223d6a7b"
      },
      "execution_count": null,
      "outputs": [
        {
          "output_type": "display_data",
          "data": {
            "text/plain": [
              "<Figure size 576x396 with 1 Axes>"
            ],
            "image/png": "[encoded data removed]"
          },
          "metadata": {}
        }
      ]
    },
    {
      "cell_type": "markdown",
      "source": [
        "실험 시나리오 3 - 다른 모델들과 비교 (Logistic Regression, KNN, RandomForest, MLP, XGBoost with SMOTE)"
      ],
      "metadata": {
        "id": "yyNCa0eM9km_"
      }
    },
    {
      "cell_type": "markdown",
      "source": [
        "1. Logistic Regression"
      ],
      "metadata": {
        "id": "Le_zQXwjk_s1"
      }
    },
    {
      "cell_type": "code",
      "source": [
        "from sklearn.linear_model import LogisticRegression"
      ],
      "metadata": {
        "id": "sFvQFYt7cJg9"
      },
      "execution_count": null,
      "outputs": []
    },
    {
      "cell_type": "code",
      "source": [
        "lr = LogisticRegression(random_state=32)\n",
        "lr.fit(train_x, train_y)"
      ],
      "metadata": {
        "colab": {
          "base_uri": "https://localhost:8080/"
        },
        "id": "F-6oyO9BcU-c",
        "outputId": "181ae6ae-e860-4bc1-c538-1c07ef7fd924"
      },
      "execution_count": null,
      "outputs": [
        {
          "output_type": "stream",
          "name": "stderr",
          "text": [
            "/usr/local/lib/python3.8/dist-packages/sklearn/linear_model/_logistic.py:814: ConvergenceWarning: lbfgs failed to converge (status=1):\n",
            "STOP: TOTAL NO. of ITERATIONS REACHED LIMIT.\n",
            "\n",
            "Increase the number of iterations (max_iter) or scale the data as shown in:\n",
            "    https://scikit-learn.org/stable/modules/preprocessing.html\n",
            "Please also refer to the documentation for alternative solver options:\n",
            "    https://scikit-learn.org/stable/modules/linear_model.html#logistic-regression\n",
            "  n_iter_i = _check_optimize_result(\n"
          ]
        },
        {
          "output_type": "execute_result",
          "data": {
            "text/plain": [
              "LogisticRegression(random_state=32)"
            ]
          },
          "metadata": {},
          "execution_count": 13
        }
      ]
    },
    {
      "cell_type": "code",
      "source": [
        "pred = lr.predict(test_x)\n",
        "print (classification_report(test_y, pred))"
      ],
      "metadata": {
        "colab": {
          "base_uri": "https://localhost:8080/"
        },
        "id": "WxZVPwzUceQx",
        "outputId": "f04bb98e-ad42-4b74-8221-6cdb5920904c"
      },
      "execution_count": null,
      "outputs": [
        {
          "output_type": "stream",
          "name": "stdout",
          "text": [
            "              precision    recall  f1-score   support\n",
            "\n",
            "           0       1.00      1.00      1.00     71079\n",
            "           1       0.72      0.70      0.71       123\n",
            "\n",
            "    accuracy                           1.00     71202\n",
            "   macro avg       0.86      0.85      0.85     71202\n",
            "weighted avg       1.00      1.00      1.00     71202\n",
            "\n"
          ]
        }
      ]
    },
    {
      "cell_type": "code",
      "source": [
        "precision_recall= average_precision_score(test_y, pred)\n",
        "precision = precision_score(test_y, pred)\n",
        "recall = recall_score(test_y, pred)\n",
        "auc  = roc_auc_score(test_y, pred)\n",
        "f1 = f1_score(test_y, pred)\n",
        "\n",
        "print('AUC: ', np.mean(auc))\n",
        "print('Precision: ', np.mean(precision))\n",
        "print('Recall: ', np.mean(recall))\n",
        "print('Precision-Recall: ', np.mean(precision_recall))\n",
        "print('F1-score: ', np.mean(f1))"
      ],
      "metadata": {
        "colab": {
          "base_uri": "https://localhost:8080/"
        },
        "id": "-Ihzd8vOysiG",
        "outputId": "cfc65d90-413a-40a8-b6b9-7f669c7e80fa"
      },
      "execution_count": null,
      "outputs": [
        {
          "output_type": "stream",
          "name": "stdout",
          "text": [
            "AUC:  0.8493543254345303\n",
            "Precision:  0.7166666666666667\n",
            "Recall:  0.6991869918699187\n",
            "Precision-Recall:  0.5016036591645937\n",
            "F1-score:  0.7078189300411523\n"
          ]
        }
      ]
    },
    {
      "cell_type": "code",
      "source": [
        "cf_matrix = confusion_matrix(test_y, pred)\n",
        "sns.heatmap(cf_matrix, annot=True, linewidths=0.1, cmap=\"Blues\", fmt='d', linecolor='lightblue')"
      ],
      "metadata": {
        "colab": {
          "base_uri": "https://localhost:8080/",
          "height": 365
        },
        "id": "K-0QR-N-knYf",
        "outputId": "4faa9835-387f-4043-8855-36f6447553d7"
      },
      "execution_count": null,
      "outputs": [
        {
          "output_type": "execute_result",
          "data": {
            "text/plain": [
              "<matplotlib.axes._subplots.AxesSubplot at 0x7fe61f9034f0>"
            ]
          },
          "metadata": {},
          "execution_count": 16
        },
        {
          "output_type": "display_data",
          "data": {
            "text/plain": [
              "<Figure size 576x396 with 2 Axes>"
            ],
            "image/png": "[encoded data removed]"
          },
          "metadata": {}
        }
      ]
    },
    {
      "cell_type": "markdown",
      "source": [
        "2. KNN (n_neighbors = 3) "
      ],
      "metadata": {
        "id": "I7kZUPHmlB1F"
      }
    },
    {
      "cell_type": "code",
      "source": [
        "from sklearn.neighbors import KNeighborsClassifier"
      ],
      "metadata": {
        "id": "AScIgSbkdvI_"
      },
      "execution_count": null,
      "outputs": []
    },
    {
      "cell_type": "code",
      "source": [
        "knn = KNeighborsClassifier(n_neighbors=3)\n",
        "knn.fit(train_x, train_y)"
      ],
      "metadata": {
        "colab": {
          "base_uri": "https://localhost:8080/"
        },
        "id": "AOAsHEr1eBGm",
        "outputId": "c89d615d-2bcc-4853-a61b-1d7abbfcf245"
      },
      "execution_count": null,
      "outputs": [
        {
          "output_type": "execute_result",
          "data": {
            "text/plain": [
              "KNeighborsClassifier(n_neighbors=3)"
            ]
          },
          "metadata": {},
          "execution_count": 18
        }
      ]
    },
    {
      "cell_type": "code",
      "source": [
        "pred = knn.predict(test_x)\n",
        "print (classification_report(test_y, pred))"
      ],
      "metadata": {
        "colab": {
          "base_uri": "https://localhost:8080/"
        },
        "id": "d7VDrRY_mtpl",
        "outputId": "42cbde4a-46cb-45d8-846b-4e3183bec589"
      },
      "execution_count": null,
      "outputs": [
        {
          "output_type": "stream",
          "name": "stdout",
          "text": [
            "              precision    recall  f1-score   support\n",
            "\n",
            "           0       1.00      1.00      1.00     71079\n",
            "           1       0.88      0.06      0.11       123\n",
            "\n",
            "    accuracy                           1.00     71202\n",
            "   macro avg       0.94      0.53      0.55     71202\n",
            "weighted avg       1.00      1.00      1.00     71202\n",
            "\n"
          ]
        }
      ]
    },
    {
      "cell_type": "code",
      "source": [
        "precision_recall= average_precision_score(test_y, pred)\n",
        "precision = precision_score(test_y, pred)\n",
        "recall = recall_score(test_y, pred)\n",
        "auc  = roc_auc_score(test_y, pred)\n",
        "f1 = f1_score(test_y, pred)\n",
        "\n",
        "print('AUC: ', np.mean(auc))\n",
        "print('Precision: ', np.mean(precision))\n",
        "print('Recall: ', np.mean(recall))\n",
        "print('Precision-Recall: ', np.mean(precision_recall))\n",
        "print('F1-score: ', np.mean(f1))"
      ],
      "metadata": {
        "colab": {
          "base_uri": "https://localhost:8080/"
        },
        "id": "qnOfsXESyvUC",
        "outputId": "02c4a30f-209f-415e-d1b4-22e944c3b454"
      },
      "execution_count": null,
      "outputs": [
        {
          "output_type": "stream",
          "name": "stdout",
          "text": [
            "AUC:  0.5284482501263623\n",
            "Precision:  0.875\n",
            "Recall:  0.056910569105691054\n",
            "Precision-Recall:  0.05142591568748754\n",
            "F1-score:  0.10687022900763359\n"
          ]
        }
      ]
    },
    {
      "cell_type": "code",
      "source": [
        "cf_matrix = confusion_matrix(test_y, pred)\n",
        "sns.heatmap(cf_matrix, annot=True, linewidths=0.1, cmap=\"Blues\", fmt='d', linecolor='lightblue')"
      ],
      "metadata": {
        "colab": {
          "base_uri": "https://localhost:8080/",
          "height": 365
        },
        "id": "f9R242VLk7_c",
        "outputId": "edd9fc53-058e-4228-e6f6-233133f1f07a"
      },
      "execution_count": null,
      "outputs": [
        {
          "output_type": "execute_result",
          "data": {
            "text/plain": [
              "<matplotlib.axes._subplots.AxesSubplot at 0x7fe61f886490>"
            ]
          },
          "metadata": {},
          "execution_count": 21
        },
        {
          "output_type": "display_data",
          "data": {
            "text/plain": [
              "<Figure size 576x396 with 2 Axes>"
            ],
            "image/png": "[encoded data removed]"
          },
          "metadata": {}
        }
      ]
    },
    {
      "cell_type": "markdown",
      "source": [
        "3. Random Forest"
      ],
      "metadata": {
        "id": "aGjLFbkcl4P8"
      }
    },
    {
      "cell_type": "code",
      "source": [
        "from sklearn.ensemble import RandomForestClassifier\n",
        "rfc = RandomForestClassifier(n_estimators=100, random_state=32)\n",
        "rfc.fit(train_x, train_y)"
      ],
      "metadata": {
        "colab": {
          "base_uri": "https://localhost:8080/"
        },
        "id": "5CsaDS4vEE4W",
        "outputId": "624442cc-f08b-44bc-9bc9-b39ef760ba60"
      },
      "execution_count": null,
      "outputs": [
        {
          "output_type": "execute_result",
          "data": {
            "text/plain": [
              "RandomForestClassifier(random_state=32)"
            ]
          },
          "metadata": {},
          "execution_count": 22
        }
      ]
    },
    {
      "cell_type": "code",
      "source": [
        "pred = rfc.predict(test_x)\n",
        "print (classification_report(test_y, pred))"
      ],
      "metadata": {
        "id": "AU3GdVkdE5cL",
        "colab": {
          "base_uri": "https://localhost:8080/"
        },
        "outputId": "d9f439f0-ba95-41f6-c337-5869d8f81860"
      },
      "execution_count": null,
      "outputs": [
        {
          "output_type": "stream",
          "name": "stdout",
          "text": [
            "              precision    recall  f1-score   support\n",
            "\n",
            "           0       1.00      1.00      1.00     71079\n",
            "           1       0.97      0.76      0.85       123\n",
            "\n",
            "    accuracy                           1.00     71202\n",
            "   macro avg       0.98      0.88      0.93     71202\n",
            "weighted avg       1.00      1.00      1.00     71202\n",
            "\n"
          ]
        }
      ]
    },
    {
      "cell_type": "code",
      "source": [
        "precision_recall= average_precision_score(test_y, pred)\n",
        "precision = precision_score(test_y, pred)\n",
        "recall = recall_score(test_y, pred)\n",
        "auc  = roc_auc_score(test_y, pred)\n",
        "f1 = f1_score(test_y, pred)\n",
        "\n",
        "print('AUC: ', np.mean(auc))\n",
        "print('Precision: ', np.mean(precision))\n",
        "print('Recall: ', np.mean(recall))\n",
        "print('Precision-Recall: ', np.mean(precision_recall))\n",
        "print('F1-score: ', np.mean(f1))"
      ],
      "metadata": {
        "colab": {
          "base_uri": "https://localhost:8080/"
        },
        "id": "VX4YoDsgyy8L",
        "outputId": "c32858c8-0ac3-4d84-a6e3-2f3feff24a17"
      },
      "execution_count": null,
      "outputs": [
        {
          "output_type": "stream",
          "name": "stdout",
          "text": [
            "AUC:  0.8820927178587616\n",
            "Precision:  0.9690721649484536\n",
            "Recall:  0.7642276422764228\n",
            "Precision-Recall:  0.7409990277442674\n",
            "F1-score:  0.8545454545454546\n"
          ]
        }
      ]
    },
    {
      "cell_type": "code",
      "source": [
        "cf_matrix = confusion_matrix(test_y, pred)\n",
        "sns.heatmap(cf_matrix, annot=True, linewidths=0.1, cmap=\"Blues\", fmt='d', linecolor='lightblue')"
      ],
      "metadata": {
        "colab": {
          "base_uri": "https://localhost:8080/",
          "height": 365
        },
        "id": "7RZHHnVGn7XO",
        "outputId": "be737b7e-20fd-46a5-efcf-58d4ad58a30d"
      },
      "execution_count": null,
      "outputs": [
        {
          "output_type": "execute_result",
          "data": {
            "text/plain": [
              "<matplotlib.axes._subplots.AxesSubplot at 0x7fe61f2a3490>"
            ]
          },
          "metadata": {},
          "execution_count": 25
        },
        {
          "output_type": "display_data",
          "data": {
            "text/plain": [
              "<Figure size 576x396 with 2 Axes>"
            ],
            "image/png": "[encoded data removed]"
          },
          "metadata": {}
        }
      ]
    },
    {
      "cell_type": "markdown",
      "source": [
        "4. Neural Network (MLP)"
      ],
      "metadata": {
        "id": "Ry9HkI2KmnVw"
      }
    },
    {
      "cell_type": "code",
      "source": [
        "from sklearn.neural_network import MLPClassifier"
      ],
      "metadata": {
        "id": "wdcTv5jB40nu"
      },
      "execution_count": null,
      "outputs": []
    },
    {
      "cell_type": "code",
      "source": [
        "mlp = MLPClassifier()\n",
        "mlp.fit(train_x, train_y)"
      ],
      "metadata": {
        "colab": {
          "base_uri": "https://localhost:8080/"
        },
        "id": "FnSrwFl040fE",
        "outputId": "0b62cc4f-ffd7-4987-e305-8c93e872b7ef"
      },
      "execution_count": null,
      "outputs": [
        {
          "output_type": "execute_result",
          "data": {
            "text/plain": [
              "MLPClassifier()"
            ]
          },
          "metadata": {},
          "execution_count": 83
        }
      ]
    },
    {
      "cell_type": "code",
      "source": [
        "pred = mlp.predict(test_x)\n",
        "print (classification_report(test_y, pred))"
      ],
      "metadata": {
        "colab": {
          "base_uri": "https://localhost:8080/"
        },
        "id": "FLPNU0Sl40F5",
        "outputId": "5af2a406-fe92-48bc-ae51-31d043201c0c"
      },
      "execution_count": null,
      "outputs": [
        {
          "output_type": "stream",
          "name": "stdout",
          "text": [
            "              precision    recall  f1-score   support\n",
            "\n",
            "           0       1.00      1.00      1.00     71079\n",
            "           1       0.55      0.72      0.62       123\n",
            "\n",
            "    accuracy                           1.00     71202\n",
            "   macro avg       0.77      0.86      0.81     71202\n",
            "weighted avg       1.00      1.00      1.00     71202\n",
            "\n"
          ]
        }
      ]
    },
    {
      "cell_type": "code",
      "source": [
        "precision_recall= average_precision_score(test_y, pred)\n",
        "precision = precision_score(test_y, pred)\n",
        "recall = recall_score(test_y, pred)\n",
        "auc  = roc_auc_score(test_y, pred)\n",
        "f1 = f1_score(test_y, pred)\n",
        "\n",
        "print('AUC: ', np.mean(auc))\n",
        "print('Precision: ', np.mean(precision))\n",
        "print('Recall: ', np.mean(recall))\n",
        "print('Precision-Recall: ', np.mean(precision_recall))\n",
        "print('F1-score: ', np.mean(f1))"
      ],
      "metadata": {
        "colab": {
          "base_uri": "https://localhost:8080/"
        },
        "id": "Ao8Wmuuty2Z3",
        "outputId": "b1f11f6d-e1d3-4b9e-e6d4-c3a19693d741"
      },
      "execution_count": null,
      "outputs": [
        {
          "output_type": "stream",
          "name": "stdout",
          "text": [
            "AUC:  0.8612680703264214\n",
            "Precision:  0.5460122699386503\n",
            "Recall:  0.7235772357723578\n",
            "Precision-Recall:  0.39555956365655304\n",
            "F1-score:  0.6223776223776224\n"
          ]
        }
      ]
    },
    {
      "cell_type": "code",
      "source": [
        "cf_matrix = confusion_matrix(test_y, pred)\n",
        "sns.heatmap(cf_matrix, annot=True, linewidths=0.1, cmap=\"Blues\", fmt='d', linecolor='lightblue')"
      ],
      "metadata": {
        "colab": {
          "base_uri": "https://localhost:8080/",
          "height": 365
        },
        "id": "7qSRVo1jopP1",
        "outputId": "e25bede5-f887-4a25-bed8-56bb7a0b4310"
      },
      "execution_count": null,
      "outputs": [
        {
          "output_type": "execute_result",
          "data": {
            "text/plain": [
              "<matplotlib.axes._subplots.AxesSubplot at 0x7f80aeabddf0>"
            ]
          },
          "metadata": {},
          "execution_count": 86
        },
        {
          "output_type": "display_data",
          "data": {
            "text/plain": [
              "<Figure size 576x396 with 2 Axes>"
            ],
            "image/png": "[encoded data removed]"
          },
          "metadata": {}
        }
      ]
    },
    {
      "cell_type": "markdown",
      "source": [
        "* Oversampling(SMOTE) 적용한 xgboost"
      ],
      "metadata": {
        "id": "esa--3Va5Z7u"
      }
    },
    {
      "cell_type": "code",
      "source": [
        "from imblearn.over_sampling import SMOTE\n",
        "smote = SMOTE(random_state=42)\n",
        "train_x_over, train_y_over = smote.fit_resample(train_x, train_y)\n",
        "print('Distribution of training set after applying SMOTE :\\n',pd.Series(train_y_over).value_counts() )"
      ],
      "metadata": {
        "colab": {
          "base_uri": "https://localhost:8080/"
        },
        "id": "tD50J_6anVjS",
        "outputId": "346a982e-0635-466f-e081-2b8be473cf1c"
      },
      "execution_count": 119,
      "outputs": [
        {
          "output_type": "stream",
          "name": "stdout",
          "text": [
            "Distribution of training set after applying SMOTE :\n",
            " 0    213236\n",
            "1    213236\n",
            "Name: Class, dtype: int64\n"
          ]
        }
      ]
    },
    {
      "cell_type": "code",
      "source": [
        "data_plot = train_x_over\n",
        "data_plot['Class'] = train_y_over\n",
        "\n",
        "Nuage(data_plot,'V4','V11', 'Class')\n",
        "\n",
        "\n",
        "n0 = len(data_plot[data_plot['Class']==0]) \n",
        "n1 = len(data_plot[data_plot['Class']==1])\n",
        "print(\"n_fraudes = \",n1)\n",
        "print(\"n_ok = \",n0)"
      ],
      "metadata": {
        "colab": {
          "base_uri": "https://localhost:8080/",
          "height": 412
        },
        "id": "zPZom_5uh54G",
        "outputId": "f9df8f90-188c-4d0b-f54a-99e369c5ef12"
      },
      "execution_count": 120,
      "outputs": [
        {
          "output_type": "display_data",
          "data": {
            "text/plain": [
              "<Figure size 576x396 with 1 Axes>"
            ],
            "image/png": "[encoded data removed]"
          },
          "metadata": {}
        },
        {
          "output_type": "stream",
          "name": "stdout",
          "text": [
            "n_fraudes =  213236\n",
            "n_ok =  213236\n"
          ]
        }
      ]
    },
    {
      "cell_type": "code",
      "source": [
        "from xgboost import XGBClassifier\n",
        "xgb = XGBClassifier(colsample_bytree=0.5, gamma=0.2, learning_rate=0.25, max_depth=12, min_child_weight=3)\n",
        "xgb.fit(train_x_over, train_y_over)"
      ],
      "metadata": {
        "colab": {
          "base_uri": "https://localhost:8080/"
        },
        "id": "cBxcOpGQ4tTT",
        "outputId": "95ce0882-0610-4e53-b0ca-376f1d664292"
      },
      "execution_count": null,
      "outputs": [
        {
          "output_type": "execute_result",
          "data": {
            "text/plain": [
              "XGBClassifier(colsample_bytree=0.5, gamma=0.2, learning_rate=0.25, max_depth=12,\n",
              "              min_child_weight=3)"
            ]
          },
          "metadata": {},
          "execution_count": 88
        }
      ]
    },
    {
      "cell_type": "code",
      "source": [
        "pred = xgb.predict(test_x)\n",
        "print (classification_report(test_y, pred))"
      ],
      "metadata": {
        "colab": {
          "base_uri": "https://localhost:8080/"
        },
        "id": "WPfi0u4Lh-0Q",
        "outputId": "222d9e36-61ca-4ec2-8df5-930e26a94a95"
      },
      "execution_count": null,
      "outputs": [
        {
          "output_type": "stream",
          "name": "stdout",
          "text": [
            "              precision    recall  f1-score   support\n",
            "\n",
            "           0       1.00      1.00      1.00     71079\n",
            "           1       0.89      0.83      0.86       123\n",
            "\n",
            "    accuracy                           1.00     71202\n",
            "   macro avg       0.94      0.91      0.93     71202\n",
            "weighted avg       1.00      1.00      1.00     71202\n",
            "\n"
          ]
        }
      ]
    },
    {
      "cell_type": "code",
      "source": [
        "precision_recall= average_precision_score(test_y, pred)\n",
        "precision = precision_score(test_y, pred)\n",
        "recall = recall_score(test_y, pred)\n",
        "auc  = roc_auc_score(test_y, pred)\n",
        "f1 = f1_score(test_y, pred)\n",
        "\n",
        "print('AUC: ', np.mean(auc))\n",
        "print('Precision: ', np.mean(precision))\n",
        "print('Recall: ', np.mean(recall))\n",
        "print('Precision-Recall: ', np.mean(precision_recall))\n",
        "print('F1-score: ', np.mean(f1))"
      ],
      "metadata": {
        "colab": {
          "base_uri": "https://localhost:8080/"
        },
        "id": "a_qIcUZay8z0",
        "outputId": "36a4d463-fb62-4dec-ebf5-107555e19dd6"
      },
      "execution_count": null,
      "outputs": [
        {
          "output_type": "stream",
          "name": "stdout",
          "text": [
            "AUC:  0.9145426987971816\n",
            "Precision:  0.8869565217391304\n",
            "Recall:  0.8292682926829268\n",
            "Precision-Recall:  0.7358198560021145\n",
            "F1-score:  0.857142857142857\n"
          ]
        }
      ]
    },
    {
      "cell_type": "code",
      "source": [
        "cf_matrix = confusion_matrix(test_y, pred)\n",
        "sns.heatmap(cf_matrix, annot=True, linewidths=0.1, cmap=\"Blues\", fmt='d', linecolor='lightblue')"
      ],
      "metadata": {
        "colab": {
          "base_uri": "https://localhost:8080/",
          "height": 365
        },
        "id": "cihjhOu0ovOo",
        "outputId": "96b9a1e1-bb38-468e-a797-b8a033db033d"
      },
      "execution_count": null,
      "outputs": [
        {
          "output_type": "execute_result",
          "data": {
            "text/plain": [
              "<matplotlib.axes._subplots.AxesSubplot at 0x7f80ae9de2b0>"
            ]
          },
          "metadata": {},
          "execution_count": 91
        },
        {
          "output_type": "display_data",
          "data": {
            "text/plain": [
              "<Figure size 576x396 with 2 Axes>"
            ],
            "image/png": "[encoded data removed]"
          },
          "metadata": {}
        }
      ]
    }
  ]
}
